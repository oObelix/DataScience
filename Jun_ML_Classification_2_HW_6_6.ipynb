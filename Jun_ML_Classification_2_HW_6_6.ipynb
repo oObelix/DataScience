{
  "nbformat": 4,
  "nbformat_minor": 0,
  "metadata": {
    "colab": {
      "name": "Jun ML Classification-2 HW  6.6.ipynb",
      "provenance": [],
      "collapsed_sections": [],
      "include_colab_link": true
    },
    "kernelspec": {
      "display_name": "Python 3",
      "language": "python",
      "name": "python3"
    },
    "language_info": {
      "codemirror_mode": {
        "name": "ipython",
        "version": 3
      },
      "file_extension": ".py",
      "mimetype": "text/x-python",
      "name": "python",
      "nbconvert_exporter": "python",
      "pygments_lexer": "ipython3",
      "version": "3.6.3"
    }
  },
  "cells": [
    {
      "cell_type": "markdown",
      "metadata": {
        "id": "view-in-github",
        "colab_type": "text"
      },
      "source": [
        "<a href=\"https://colab.research.google.com/github/oObelix/DataScience/blob/master/Jun_ML_Classification_2_HW_6_6.ipynb\" target=\"_parent\"><img src=\"https://colab.research.google.com/assets/colab-badge.svg\" alt=\"Open In Colab\"/></a>"
      ]
    },
    {
      "cell_type": "markdown",
      "metadata": {
        "id": "-smrZewE1tU2"
      },
      "source": [
        "# Урок 6. Многоклассовая классификация.\n",
        "\n",
        "Посмотрим на примере алгоритма логистической регрессии и метода опорных векторов, как работать с различными методами многоклассовой классификации."
      ]
    },
    {
      "cell_type": "markdown",
      "metadata": {
        "id": "S5kQdZzo1tU3"
      },
      "source": [
        "### 1.\n",
        "Вспомните датасет Wine. Загрузите его, разделите на тренировочную и тестовую выборки (random_state=17), используя только [9, 11, 12] признаки."
      ]
    },
    {
      "cell_type": "code",
      "metadata": {
        "id": "paB2E5141tU4"
      },
      "source": [
        "from sklearn.datasets import load_wine\n",
        "from sklearn.model_selection import train_test_split"
      ],
      "execution_count": null,
      "outputs": []
    },
    {
      "cell_type": "code",
      "metadata": {
        "id": "LdwwBPqq1tU7"
      },
      "source": [
        "### YOUR CODE HERE ###\n",
        "\n",
        "ds_wine = load_wine()\n",
        "ds_wine_3f = ds_wine.data[:,[9, 11, 12]]\n",
        "# ds_wine.data.shape\n",
        "# ds_wine_3f.data[:,[9, 11, 12]].shape"
      ],
      "execution_count": null,
      "outputs": []
    },
    {
      "cell_type": "code",
      "metadata": {
        "colab": {
          "base_uri": "https://localhost:8080/"
        },
        "id": "1nGtCAOOaziA",
        "outputId": "99e597b5-e734-43c6-ac62-1512a4f9540a"
      },
      "source": [
        "X_train, X_test, y_train, y_test = train_test_split(ds_wine_3f, ds_wine.target, random_state=17)\n",
        "print(X_train.shape, X_test.shape, y_train.shape, y_test.shape)"
      ],
      "execution_count": null,
      "outputs": [
        {
          "output_type": "stream",
          "text": [
            "(133, 3) (45, 3) (133,) (45,)\n"
          ],
          "name": "stdout"
        }
      ]
    },
    {
      "cell_type": "markdown",
      "metadata": {
        "id": "HMLiMOUr1tU9"
      },
      "source": [
        "**Задайте тип кросс-валидации с помощью StratifiedKFold: 5-кратная, random_state=17.**"
      ]
    },
    {
      "cell_type": "code",
      "metadata": {
        "id": "OTY-C4me1tU-"
      },
      "source": [
        "from sklearn.model_selection import StratifiedKFold, cross_val_score"
      ],
      "execution_count": null,
      "outputs": []
    },
    {
      "cell_type": "code",
      "metadata": {
        "id": "LOVHhQ921tVA"
      },
      "source": [
        "skf = StratifiedKFold(n_splits=5, random_state=17, shuffle=True)\n"
      ],
      "execution_count": null,
      "outputs": []
    },
    {
      "cell_type": "markdown",
      "metadata": {
        "id": "-2ClbxRe1tVC"
      },
      "source": [
        "### 2.\n",
        "Обучите логистическую регрессию (LogisticRegression) с параметром C по умолчанию и random_state=17. Укажите гиперпараметр multi_class='ovr' - по умолчанию многие классификаторы используют именно его. С помощью cross_val_score сделайте кросс-валидацию (используйте объект skf) и выведите среднюю долю правильных ответов на ней (используйте функцию mean). Отдельно выведите долю правильных ответов на тестовой выборке."
      ]
    },
    {
      "cell_type": "code",
      "metadata": {
        "id": "oKxIIFGU1tVE"
      },
      "source": [
        "from sklearn.linear_model import LogisticRegression\n",
        "from sklearn.metrics import accuracy_score"
      ],
      "execution_count": null,
      "outputs": []
    },
    {
      "cell_type": "code",
      "metadata": {
        "id": "CJhpcgqc1tVJ",
        "colab": {
          "base_uri": "https://localhost:8080/"
        },
        "outputId": "17210113-61d5-4d43-de65-41465037bb81"
      },
      "source": [
        "### YOUR CODE HERE ###\n",
        "\n",
        "lr = LogisticRegression(random_state=17, multi_class='ovr').fit(X_train, y_train)\n",
        "\n",
        "cvs = cross_val_score(lr, X_train, y_train, cv=skf)\n",
        "print('cross_val_score =', cvs)\n",
        "print('cross_val_score mean =', cvs.mean())\n",
        "\n",
        "y_pred = lr.predict(X_test)\n",
        "acs = accuracy_score(y_test, y_pred)\n",
        "print('accuracy_score =', acs)\n"
      ],
      "execution_count": null,
      "outputs": [
        {
          "output_type": "stream",
          "text": [
            "cross_val_score = [0.96296296 0.85185185 0.92592593 0.92307692 0.88461538]\n",
            "cross_val_score mean = 0.9096866096866097\n",
            "accuracy_score = 0.9111111111111111\n"
          ],
          "name": "stdout"
        }
      ]
    },
    {
      "cell_type": "markdown",
      "metadata": {
        "id": "k2JoC3fB1tVM"
      },
      "source": [
        "### 3.\n",
        "Обучите метод опорных векторов (SVC) с random_state=17 и остальными параметрами по умолчанию. Этот метод при мультиклассовой классификации также использует метод \"ovr\". Сделайте кросс-валидацию (используйте skf) и, как и в предыдущем пункте, выведите среднюю долю правильных ответов на ней. Отдельно выведите долю правильных ответов на тестовой выборке."
      ]
    },
    {
      "cell_type": "code",
      "metadata": {
        "id": "50kaD7MQ1tVN"
      },
      "source": [
        "from sklearn.svm import SVC"
      ],
      "execution_count": null,
      "outputs": []
    },
    {
      "cell_type": "code",
      "metadata": {
        "id": "3DCvlNRd1tVR",
        "colab": {
          "base_uri": "https://localhost:8080/"
        },
        "outputId": "8bbd9dc8-4bd3-49e8-cbaf-c35afc984307"
      },
      "source": [
        "### YOUR CODE HERE ###\n",
        "\n",
        "svc = SVC(random_state=17).fit(X_train, y_train)\n",
        "\n",
        "cvs = cross_val_score(svc, X_train, y_train, cv=skf)\n",
        "print(cvs)\n",
        "print(cvs.mean())\n"
      ],
      "execution_count": null,
      "outputs": [
        {
          "output_type": "stream",
          "text": [
            "[0.7037037  0.59259259 0.7037037  0.73076923 0.73076923]\n",
            "0.6923076923076923\n"
          ],
          "name": "stdout"
        }
      ]
    },
    {
      "cell_type": "markdown",
      "metadata": {
        "id": "xMvjv6pR1tVX"
      },
      "source": [
        "Как видно из полученной метрики, на тестовой выборке метод с гиперпараметрами по умолчанию работает явно намного хуже логистической регрессии. В целом, SVM достаточно плохо масштабируется на размер обучающего набора данных (как видно, даже с тремя признаками он работает не очень хорошо), но благодаря возможности выбора различных ядер (функций близости, которые помогают разделять данные) и другим гиперпараметрам SVM можно достаточно точно настроить под определенный вид данных. Подробнее на этом останавливаться в контексте данного урока не будем."
      ]
    },
    {
      "cell_type": "markdown",
      "metadata": {
        "id": "0LqZbdk31tVY"
      },
      "source": [
        "### 4.\n",
        "Для предсказаний обеих моделей постройте матрицу ошибок (confusion matrix) и напишите, какие классы каждая из моделей путает больше всего между собой."
      ]
    },
    {
      "cell_type": "code",
      "metadata": {
        "id": "5dRSK--u1tVY"
      },
      "source": [
        "from sklearn.metrics import classification_report, confusion_matrix"
      ],
      "execution_count": null,
      "outputs": []
    },
    {
      "cell_type": "code",
      "metadata": {
        "id": "VkXUKkhp1tVb",
        "colab": {
          "base_uri": "https://localhost:8080/"
        },
        "outputId": "eda997d7-ad8b-4a84-a323-6bf556be9746"
      },
      "source": [
        "### YOUR CODE HERE ###\n",
        "\n",
        "confusion_matrix(y_test, lr.predict(X_test))\n"
      ],
      "execution_count": null,
      "outputs": [
        {
          "output_type": "execute_result",
          "data": {
            "text/plain": [
              "array([[ 9,  0,  0],\n",
              "       [ 0, 19,  0],\n",
              "       [ 0,  4, 13]])"
            ]
          },
          "metadata": {
            "tags": []
          },
          "execution_count": 15
        }
      ]
    },
    {
      "cell_type": "markdown",
      "metadata": {
        "id": "QqpQ5gs7wLEx"
      },
      "source": [
        "Вывод: класс1 и класс2"
      ]
    },
    {
      "cell_type": "code",
      "metadata": {
        "colab": {
          "base_uri": "https://localhost:8080/"
        },
        "id": "nIBS58Slv9al",
        "outputId": "9b1dc7c0-c8ae-4b76-92b4-322a45221093"
      },
      "source": [
        "confusion_matrix(y_test, svc.predict(X_test))"
      ],
      "execution_count": null,
      "outputs": [
        {
          "output_type": "execute_result",
          "data": {
            "text/plain": [
              "array([[ 9,  0,  0],\n",
              "       [ 0, 19,  0],\n",
              "       [ 2, 15,  0]])"
            ]
          },
          "metadata": {
            "tags": []
          },
          "execution_count": 16
        }
      ]
    },
    {
      "cell_type": "markdown",
      "metadata": {
        "id": "33bwj6JCADGe"
      },
      "source": [
        "Вывод: класс0 и класс1"
      ]
    },
    {
      "cell_type": "markdown",
      "metadata": {
        "id": "mqW8if321tVd"
      },
      "source": [
        "### 5.\n",
        "Для каждой модели выведите classification report."
      ]
    },
    {
      "cell_type": "code",
      "metadata": {
        "id": "iuu7neuS1tVe",
        "colab": {
          "base_uri": "https://localhost:8080/"
        },
        "outputId": "6dfd7290-8745-4aef-c085-7908fa08fc6a"
      },
      "source": [
        "### YOUR CODE HERE ###\n",
        "\n",
        "print('LogisticRegression classification_report:')\n",
        "print(classification_report(y_test, lr.predict(X_test), labels=[1, 2, 3], \n",
        "                            zero_division=0))\n",
        "print()\n",
        "print('SVC classification_report:')\n",
        "print(classification_report(y_test, svc.predict(X_test), labels=[1, 2, 3], \n",
        "                            zero_division=0))"
      ],
      "execution_count": null,
      "outputs": [
        {
          "output_type": "stream",
          "text": [
            "LogisticRegression classification_report:\n",
            "              precision    recall  f1-score   support\n",
            "\n",
            "           1       0.83      1.00      0.90        19\n",
            "           2       1.00      0.76      0.87        17\n",
            "           3       0.00      0.00      0.00         0\n",
            "\n",
            "   micro avg       0.89      0.89      0.89        36\n",
            "   macro avg       0.61      0.59      0.59        36\n",
            "weighted avg       0.91      0.89      0.89        36\n",
            "\n",
            "\n",
            "SVC classification_report:\n",
            "              precision    recall  f1-score   support\n",
            "\n",
            "           1       0.56      1.00      0.72        19\n",
            "           2       0.00      0.00      0.00        17\n",
            "           3       0.00      0.00      0.00         0\n",
            "\n",
            "   micro avg       0.56      0.53      0.54        36\n",
            "   macro avg       0.19      0.33      0.24        36\n",
            "weighted avg       0.29      0.53      0.38        36\n",
            "\n"
          ],
          "name": "stdout"
        }
      ]
    },
    {
      "cell_type": "code",
      "metadata": {
        "id": "XuFfZyj0AhPl"
      },
      "source": [
        ""
      ],
      "execution_count": null,
      "outputs": []
    }
  ]
}