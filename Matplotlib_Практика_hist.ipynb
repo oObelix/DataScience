{
  "nbformat": 4,
  "nbformat_minor": 0,
  "metadata": {
    "kernelspec": {
      "display_name": "Python 3",
      "language": "python",
      "name": "python3"
    },
    "language_info": {
      "codemirror_mode": {
        "name": "ipython",
        "version": 3
      },
      "file_extension": ".py",
      "mimetype": "text/x-python",
      "name": "python",
      "nbconvert_exporter": "python",
      "pygments_lexer": "ipython3",
      "version": "3.7.4"
    },
    "colab": {
      "name": "Matplotlib Практика hist.ipynb",
      "provenance": [],
      "collapsed_sections": [],
      "include_colab_link": true
    }
  },
  "cells": [
    {
      "cell_type": "markdown",
      "metadata": {
        "id": "view-in-github",
        "colab_type": "text"
      },
      "source": [
        "<a href=\"https://colab.research.google.com/github/oObelix/DataScience/blob/master/Matplotlib_%D0%9F%D1%80%D0%B0%D0%BA%D1%82%D0%B8%D0%BA%D0%B0_hist.ipynb\" target=\"_parent\"><img src=\"https://colab.research.google.com/assets/colab-badge.svg\" alt=\"Open In Colab\"/></a>"
      ]
    },
    {
      "cell_type": "markdown",
      "metadata": {
        "id": "IqXHOeqQB0n7"
      },
      "source": [
        "# Основы визуализации данных с помощью matplotlib"
      ]
    },
    {
      "cell_type": "code",
      "metadata": {
        "id": "OK4L_s5NB0n-"
      },
      "source": [
        "import pandas as pd\n",
        "import matplotlib.pyplot as plt"
      ],
      "execution_count": 1,
      "outputs": []
    },
    {
      "cell_type": "markdown",
      "metadata": {
        "id": "j0ZkU4gVB0n_"
      },
      "source": [
        "## Урок 4. Виды данных, визуализация численных данных\n",
        "\n",
        "### Практика\n",
        "\n",
        "#### Задание 1\n",
        "\n",
        "Используя обновленный датасет `wage-data-coast.csv`, постройте гистограмму распределения минимальной зарплаты в **прибрежных** штатах в 2000 году. При построении графика переопределите горизонтальную ось так, чтобы отметки на оси совпадали со столбцами гистограммы. "
      ]
    },
    {
      "cell_type": "code",
      "metadata": {
        "id": "dkZKlPd4B0n_",
        "colab": {
          "base_uri": "https://localhost:8080/"
        },
        "outputId": "61a6a731-1e20-4254-d78f-73b7b9341a5d"
      },
      "source": [
        "!ls sample_data"
      ],
      "execution_count": 3,
      "outputs": [
        {
          "output_type": "stream",
          "text": [
            "anscombe.json\t\t      mnist_test.csv\t     wage-data-coast.csv\n",
            "california_housing_test.csv   mnist_train_small.csv\n",
            "california_housing_train.csv  README.md\n"
          ],
          "name": "stdout"
        }
      ]
    },
    {
      "cell_type": "code",
      "metadata": {
        "colab": {
          "base_uri": "https://localhost:8080/",
          "height": 419
        },
        "id": "runvJrxk-QMw",
        "outputId": "989c89b6-a02e-4619-99d0-2c2f7aa111a5"
      },
      "source": [
        "df = pd.read_csv('sample_data/wage-data-coast.csv')\n",
        "df"
      ],
      "execution_count": 5,
      "outputs": [
        {
          "output_type": "execute_result",
          "data": {
            "text/html": [
              "<div>\n",
              "<style scoped>\n",
              "    .dataframe tbody tr th:only-of-type {\n",
              "        vertical-align: middle;\n",
              "    }\n",
              "\n",
              "    .dataframe tbody tr th {\n",
              "        vertical-align: top;\n",
              "    }\n",
              "\n",
              "    .dataframe thead th {\n",
              "        text-align: right;\n",
              "    }\n",
              "</style>\n",
              "<table border=\"1\" class=\"dataframe\">\n",
              "  <thead>\n",
              "    <tr style=\"text-align: right;\">\n",
              "      <th></th>\n",
              "      <th>Year</th>\n",
              "      <th>State</th>\n",
              "      <th>Salary</th>\n",
              "      <th>IsCoastal</th>\n",
              "    </tr>\n",
              "  </thead>\n",
              "  <tbody>\n",
              "    <tr>\n",
              "      <th>0</th>\n",
              "      <td>1968</td>\n",
              "      <td>Alabama</td>\n",
              "      <td>0.00000</td>\n",
              "      <td>0</td>\n",
              "    </tr>\n",
              "    <tr>\n",
              "      <th>1</th>\n",
              "      <td>1968</td>\n",
              "      <td>Alaska</td>\n",
              "      <td>2.10000</td>\n",
              "      <td>1</td>\n",
              "    </tr>\n",
              "    <tr>\n",
              "      <th>2</th>\n",
              "      <td>1968</td>\n",
              "      <td>Arizona</td>\n",
              "      <td>0.66000</td>\n",
              "      <td>0</td>\n",
              "    </tr>\n",
              "    <tr>\n",
              "      <th>3</th>\n",
              "      <td>1968</td>\n",
              "      <td>Arkansas</td>\n",
              "      <td>0.15625</td>\n",
              "      <td>0</td>\n",
              "    </tr>\n",
              "    <tr>\n",
              "      <th>4</th>\n",
              "      <td>1968</td>\n",
              "      <td>California</td>\n",
              "      <td>1.65000</td>\n",
              "      <td>1</td>\n",
              "    </tr>\n",
              "    <tr>\n",
              "      <th>...</th>\n",
              "      <td>...</td>\n",
              "      <td>...</td>\n",
              "      <td>...</td>\n",
              "      <td>...</td>\n",
              "    </tr>\n",
              "    <tr>\n",
              "      <th>2745</th>\n",
              "      <td>2017</td>\n",
              "      <td>Virginia</td>\n",
              "      <td>7.25000</td>\n",
              "      <td>1</td>\n",
              "    </tr>\n",
              "    <tr>\n",
              "      <th>2746</th>\n",
              "      <td>2017</td>\n",
              "      <td>Washington</td>\n",
              "      <td>11.00000</td>\n",
              "      <td>1</td>\n",
              "    </tr>\n",
              "    <tr>\n",
              "      <th>2747</th>\n",
              "      <td>2017</td>\n",
              "      <td>West Virginia</td>\n",
              "      <td>8.75000</td>\n",
              "      <td>0</td>\n",
              "    </tr>\n",
              "    <tr>\n",
              "      <th>2748</th>\n",
              "      <td>2017</td>\n",
              "      <td>Wisconsin</td>\n",
              "      <td>7.25000</td>\n",
              "      <td>0</td>\n",
              "    </tr>\n",
              "    <tr>\n",
              "      <th>2749</th>\n",
              "      <td>2017</td>\n",
              "      <td>Wyoming</td>\n",
              "      <td>5.15000</td>\n",
              "      <td>0</td>\n",
              "    </tr>\n",
              "  </tbody>\n",
              "</table>\n",
              "<p>2750 rows × 4 columns</p>\n",
              "</div>"
            ],
            "text/plain": [
              "      Year          State    Salary  IsCoastal\n",
              "0     1968        Alabama   0.00000          0\n",
              "1     1968         Alaska   2.10000          1\n",
              "2     1968        Arizona   0.66000          0\n",
              "3     1968       Arkansas   0.15625          0\n",
              "4     1968     California   1.65000          1\n",
              "...    ...            ...       ...        ...\n",
              "2745  2017       Virginia   7.25000          1\n",
              "2746  2017     Washington  11.00000          1\n",
              "2747  2017  West Virginia   8.75000          0\n",
              "2748  2017      Wisconsin   7.25000          0\n",
              "2749  2017        Wyoming   5.15000          0\n",
              "\n",
              "[2750 rows x 4 columns]"
            ]
          },
          "metadata": {
            "tags": []
          },
          "execution_count": 5
        }
      ]
    },
    {
      "cell_type": "code",
      "metadata": {
        "colab": {
          "base_uri": "https://localhost:8080/",
          "height": 638
        },
        "id": "-OoA676J-aQl",
        "outputId": "638b83e1-0193-40bc-ba63-688039543de4"
      },
      "source": [
        "df[(df['Year'] == 2000) & (df['IsCoastal'] == 1)]"
      ],
      "execution_count": 13,
      "outputs": [
        {
          "output_type": "execute_result",
          "data": {
            "text/html": [
              "<div>\n",
              "<style scoped>\n",
              "    .dataframe tbody tr th:only-of-type {\n",
              "        vertical-align: middle;\n",
              "    }\n",
              "\n",
              "    .dataframe tbody tr th {\n",
              "        vertical-align: top;\n",
              "    }\n",
              "\n",
              "    .dataframe thead th {\n",
              "        text-align: right;\n",
              "    }\n",
              "</style>\n",
              "<table border=\"1\" class=\"dataframe\">\n",
              "  <thead>\n",
              "    <tr style=\"text-align: right;\">\n",
              "      <th></th>\n",
              "      <th>Year</th>\n",
              "      <th>State</th>\n",
              "      <th>Salary</th>\n",
              "      <th>IsCoastal</th>\n",
              "    </tr>\n",
              "  </thead>\n",
              "  <tbody>\n",
              "    <tr>\n",
              "      <th>1761</th>\n",
              "      <td>2000</td>\n",
              "      <td>Alaska</td>\n",
              "      <td>5.65</td>\n",
              "      <td>1</td>\n",
              "    </tr>\n",
              "    <tr>\n",
              "      <th>1764</th>\n",
              "      <td>2000</td>\n",
              "      <td>California</td>\n",
              "      <td>5.75</td>\n",
              "      <td>1</td>\n",
              "    </tr>\n",
              "    <tr>\n",
              "      <th>1766</th>\n",
              "      <td>2000</td>\n",
              "      <td>Connecticut</td>\n",
              "      <td>6.15</td>\n",
              "      <td>1</td>\n",
              "    </tr>\n",
              "    <tr>\n",
              "      <th>1767</th>\n",
              "      <td>2000</td>\n",
              "      <td>Delaware</td>\n",
              "      <td>5.65</td>\n",
              "      <td>1</td>\n",
              "    </tr>\n",
              "    <tr>\n",
              "      <th>1770</th>\n",
              "      <td>2000</td>\n",
              "      <td>Florida</td>\n",
              "      <td>0.00</td>\n",
              "      <td>1</td>\n",
              "    </tr>\n",
              "    <tr>\n",
              "      <th>1771</th>\n",
              "      <td>2000</td>\n",
              "      <td>Georgia</td>\n",
              "      <td>3.25</td>\n",
              "      <td>1</td>\n",
              "    </tr>\n",
              "    <tr>\n",
              "      <th>1773</th>\n",
              "      <td>2000</td>\n",
              "      <td>Hawaii</td>\n",
              "      <td>5.25</td>\n",
              "      <td>1</td>\n",
              "    </tr>\n",
              "    <tr>\n",
              "      <th>1781</th>\n",
              "      <td>2000</td>\n",
              "      <td>Maine</td>\n",
              "      <td>5.15</td>\n",
              "      <td>1</td>\n",
              "    </tr>\n",
              "    <tr>\n",
              "      <th>1782</th>\n",
              "      <td>2000</td>\n",
              "      <td>Maryland</td>\n",
              "      <td>5.15</td>\n",
              "      <td>1</td>\n",
              "    </tr>\n",
              "    <tr>\n",
              "      <th>1783</th>\n",
              "      <td>2000</td>\n",
              "      <td>Massachusetts</td>\n",
              "      <td>6.00</td>\n",
              "      <td>1</td>\n",
              "    </tr>\n",
              "    <tr>\n",
              "      <th>1791</th>\n",
              "      <td>2000</td>\n",
              "      <td>New Hampshire</td>\n",
              "      <td>5.15</td>\n",
              "      <td>1</td>\n",
              "    </tr>\n",
              "    <tr>\n",
              "      <th>1792</th>\n",
              "      <td>2000</td>\n",
              "      <td>New Jersey</td>\n",
              "      <td>5.15</td>\n",
              "      <td>1</td>\n",
              "    </tr>\n",
              "    <tr>\n",
              "      <th>1794</th>\n",
              "      <td>2000</td>\n",
              "      <td>New York</td>\n",
              "      <td>4.25</td>\n",
              "      <td>1</td>\n",
              "    </tr>\n",
              "    <tr>\n",
              "      <th>1795</th>\n",
              "      <td>2000</td>\n",
              "      <td>North Carolina</td>\n",
              "      <td>5.15</td>\n",
              "      <td>1</td>\n",
              "    </tr>\n",
              "    <tr>\n",
              "      <th>1799</th>\n",
              "      <td>2000</td>\n",
              "      <td>Oregon</td>\n",
              "      <td>6.50</td>\n",
              "      <td>1</td>\n",
              "    </tr>\n",
              "    <tr>\n",
              "      <th>1802</th>\n",
              "      <td>2000</td>\n",
              "      <td>Rhode Island</td>\n",
              "      <td>5.65</td>\n",
              "      <td>1</td>\n",
              "    </tr>\n",
              "    <tr>\n",
              "      <th>1803</th>\n",
              "      <td>2000</td>\n",
              "      <td>South Carolina</td>\n",
              "      <td>0.00</td>\n",
              "      <td>1</td>\n",
              "    </tr>\n",
              "    <tr>\n",
              "      <th>1810</th>\n",
              "      <td>2000</td>\n",
              "      <td>Virginia</td>\n",
              "      <td>5.15</td>\n",
              "      <td>1</td>\n",
              "    </tr>\n",
              "    <tr>\n",
              "      <th>1811</th>\n",
              "      <td>2000</td>\n",
              "      <td>Washington</td>\n",
              "      <td>6.50</td>\n",
              "      <td>1</td>\n",
              "    </tr>\n",
              "  </tbody>\n",
              "</table>\n",
              "</div>"
            ],
            "text/plain": [
              "      Year           State  Salary  IsCoastal\n",
              "1761  2000          Alaska    5.65          1\n",
              "1764  2000      California    5.75          1\n",
              "1766  2000     Connecticut    6.15          1\n",
              "1767  2000        Delaware    5.65          1\n",
              "1770  2000         Florida    0.00          1\n",
              "1771  2000         Georgia    3.25          1\n",
              "1773  2000          Hawaii    5.25          1\n",
              "1781  2000           Maine    5.15          1\n",
              "1782  2000        Maryland    5.15          1\n",
              "1783  2000   Massachusetts    6.00          1\n",
              "1791  2000   New Hampshire    5.15          1\n",
              "1792  2000      New Jersey    5.15          1\n",
              "1794  2000        New York    4.25          1\n",
              "1795  2000  North Carolina    5.15          1\n",
              "1799  2000          Oregon    6.50          1\n",
              "1802  2000    Rhode Island    5.65          1\n",
              "1803  2000  South Carolina    0.00          1\n",
              "1810  2000        Virginia    5.15          1\n",
              "1811  2000      Washington    6.50          1"
            ]
          },
          "metadata": {
            "tags": []
          },
          "execution_count": 13
        }
      ]
    },
    {
      "cell_type": "code",
      "metadata": {
        "colab": {
          "base_uri": "https://localhost:8080/"
        },
        "id": "mIf9SWU8ATWi",
        "outputId": "e88c35f0-22ec-432c-f02c-76f22ed06b6c"
      },
      "source": [
        "print(df[(df['Year'] == 2000) & (df['IsCoastal'] == 1)].size)\n",
        "print(df[(df['Year'] == 2000) & (df['IsCoastal'] == 1)]['Salary'].min())\n",
        "print(df[(df['Year'] == 2000) & (df['IsCoastal'] == 1)]['Salary'].max())"
      ],
      "execution_count": 14,
      "outputs": [
        {
          "output_type": "stream",
          "text": [
            "76\n",
            "0.0\n",
            "6.5\n"
          ],
          "name": "stdout"
        }
      ]
    },
    {
      "cell_type": "code",
      "metadata": {
        "colab": {
          "base_uri": "https://localhost:8080/",
          "height": 295
        },
        "id": "xd4lPIGu_OKH",
        "outputId": "248ce70c-d445-4ed5-9f69-ddbcc0a3c8b2"
      },
      "source": [
        "series = df[(df['Year'] == 2000) & (df['IsCoastal'] == 1)]['Salary']\n",
        "bins = 10\n",
        "plt.hist(series, bins=bins)\n",
        "plt.title('Гистограмма минммальной зарплаты в 2000г в прибрежных штатах')\n",
        "plt.xlabel('$/час')\n",
        "plt.ylabel('кол-во записей')\n",
        "# Подсчитываем размер столбца\n",
        "bin_with = series.max() / bins\n",
        "# Создаём список с интервалами по размерам столбцов\n",
        "x_range = [i * bin_with for i in range(bins + 1)]\n",
        "plt.xticks(x_range)\n",
        "plt.show()"
      ],
      "execution_count": 20,
      "outputs": [
        {
          "output_type": "display_data",
          "data": {
            "image/png": "[encoded data removed]",
            "text/plain": [
              "<Figure size 432x288 with 1 Axes>"
            ]
          },
          "metadata": {
            "tags": [],
            "needs_background": "light"
          }
        }
      ]
    },
    {
      "cell_type": "markdown",
      "metadata": {
        "id": "IHT2fPgKCqLo"
      },
      "source": [
        "### Подавляющее большинство штатов имеют зарплаты в диапазоне от $4.55 до $6.50.\n",
        "### Ни один штат не установил зарпалату в диапазоне $0.65 - $3.25"
      ]
    },
    {
      "cell_type": "code",
      "metadata": {
        "id": "Yoh7jNNXChdz"
      },
      "source": [
        ""
      ],
      "execution_count": null,
      "outputs": []
    }
  ]
}