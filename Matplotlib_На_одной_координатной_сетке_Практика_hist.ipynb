{
  "nbformat": 4,
  "nbformat_minor": 0,
  "metadata": {
    "kernelspec": {
      "display_name": "Python 3",
      "language": "python",
      "name": "python3"
    },
    "language_info": {
      "codemirror_mode": {
        "name": "ipython",
        "version": 3
      },
      "file_extension": ".py",
      "mimetype": "text/x-python",
      "name": "python",
      "nbconvert_exporter": "python",
      "pygments_lexer": "ipython3",
      "version": "3.7.4"
    },
    "colab": {
      "name": "Matplotlib На одной координатной сетке. Практика hist.ipynb",
      "provenance": [],
      "collapsed_sections": [],
      "toc_visible": true,
      "include_colab_link": true
    }
  },
  "cells": [
    {
      "cell_type": "markdown",
      "metadata": {
        "id": "view-in-github",
        "colab_type": "text"
      },
      "source": [
        "<a href=\"https://colab.research.google.com/github/oObelix/DataScience/blob/master/Matplotlib_%D0%9D%D0%B0_%D0%BE%D0%B4%D0%BD%D0%BE%D0%B9_%D0%BA%D0%BE%D0%BE%D1%80%D0%B4%D0%B8%D0%BD%D0%B0%D1%82%D0%BD%D0%BE%D0%B9_%D1%81%D0%B5%D1%82%D0%BA%D0%B5_%D0%9F%D1%80%D0%B0%D0%BA%D1%82%D0%B8%D0%BA%D0%B0_hist.ipynb\" target=\"_parent\"><img src=\"https://colab.research.google.com/assets/colab-badge.svg\" alt=\"Open In Colab\"/></a>"
      ]
    },
    {
      "cell_type": "markdown",
      "metadata": {
        "id": "3-ZakYfzEAED"
      },
      "source": [
        "# Продвинутая визуализация с matplotlib"
      ]
    },
    {
      "cell_type": "code",
      "metadata": {
        "id": "vKubjZDEEAEE"
      },
      "source": [
        "import pandas as pd\n",
        "import matplotlib.pyplot as plt"
      ],
      "execution_count": 1,
      "outputs": []
    },
    {
      "cell_type": "markdown",
      "metadata": {
        "id": "Fqj1loxYEAEE"
      },
      "source": [
        "## Урок 2. Визуализация в цикле, несколько графиков на одной координатной сетке \n",
        "\n",
        "### Практика\n",
        "\n",
        "#### Задание 1\n",
        "\n",
        "Сравните распределения минимальных зарплат в 1980, 1990 и 2000 годах, построив 3 графика на одной координатной сетке. При постройке графиков на одной координатной сетке убедитесь, что столбцы всех трех графиков имеют одинаковую ширину столбцов, и все 3 графика одновременно видно."
      ]
    },
    {
      "cell_type": "code",
      "metadata": {
        "id": "a1kFxYYVEAEF",
        "colab": {
          "base_uri": "https://localhost:8080/"
        },
        "outputId": "e8385b9d-93df-4c40-d015-b68da42f9e22"
      },
      "source": [
        "!ls sample_data"
      ],
      "execution_count": 2,
      "outputs": [
        {
          "output_type": "stream",
          "text": [
            "anscombe.json\t\t      mnist_test.csv\t     wage-data-coast.csv\n",
            "california_housing_test.csv   mnist_train_small.csv\n",
            "california_housing_train.csv  README.md\n"
          ],
          "name": "stdout"
        }
      ]
    },
    {
      "cell_type": "code",
      "metadata": {
        "colab": {
          "base_uri": "https://localhost:8080/",
          "height": 419
        },
        "id": "e7ZOWyVBd-ur",
        "outputId": "8c547296-edfc-448f-b4e2-389d7bb7a2cf"
      },
      "source": [
        "df = pd.read_csv('sample_data/wage-data-coast.csv')\n",
        "df"
      ],
      "execution_count": 3,
      "outputs": [
        {
          "output_type": "execute_result",
          "data": {
            "text/html": [
              "<div>\n",
              "<style scoped>\n",
              "    .dataframe tbody tr th:only-of-type {\n",
              "        vertical-align: middle;\n",
              "    }\n",
              "\n",
              "    .dataframe tbody tr th {\n",
              "        vertical-align: top;\n",
              "    }\n",
              "\n",
              "    .dataframe thead th {\n",
              "        text-align: right;\n",
              "    }\n",
              "</style>\n",
              "<table border=\"1\" class=\"dataframe\">\n",
              "  <thead>\n",
              "    <tr style=\"text-align: right;\">\n",
              "      <th></th>\n",
              "      <th>Year</th>\n",
              "      <th>State</th>\n",
              "      <th>Salary</th>\n",
              "      <th>IsCoastal</th>\n",
              "    </tr>\n",
              "  </thead>\n",
              "  <tbody>\n",
              "    <tr>\n",
              "      <th>0</th>\n",
              "      <td>1968</td>\n",
              "      <td>Alabama</td>\n",
              "      <td>0.00000</td>\n",
              "      <td>0</td>\n",
              "    </tr>\n",
              "    <tr>\n",
              "      <th>1</th>\n",
              "      <td>1968</td>\n",
              "      <td>Alaska</td>\n",
              "      <td>2.10000</td>\n",
              "      <td>1</td>\n",
              "    </tr>\n",
              "    <tr>\n",
              "      <th>2</th>\n",
              "      <td>1968</td>\n",
              "      <td>Arizona</td>\n",
              "      <td>0.66000</td>\n",
              "      <td>0</td>\n",
              "    </tr>\n",
              "    <tr>\n",
              "      <th>3</th>\n",
              "      <td>1968</td>\n",
              "      <td>Arkansas</td>\n",
              "      <td>0.15625</td>\n",
              "      <td>0</td>\n",
              "    </tr>\n",
              "    <tr>\n",
              "      <th>4</th>\n",
              "      <td>1968</td>\n",
              "      <td>California</td>\n",
              "      <td>1.65000</td>\n",
              "      <td>1</td>\n",
              "    </tr>\n",
              "    <tr>\n",
              "      <th>...</th>\n",
              "      <td>...</td>\n",
              "      <td>...</td>\n",
              "      <td>...</td>\n",
              "      <td>...</td>\n",
              "    </tr>\n",
              "    <tr>\n",
              "      <th>2745</th>\n",
              "      <td>2017</td>\n",
              "      <td>Virginia</td>\n",
              "      <td>7.25000</td>\n",
              "      <td>1</td>\n",
              "    </tr>\n",
              "    <tr>\n",
              "      <th>2746</th>\n",
              "      <td>2017</td>\n",
              "      <td>Washington</td>\n",
              "      <td>11.00000</td>\n",
              "      <td>1</td>\n",
              "    </tr>\n",
              "    <tr>\n",
              "      <th>2747</th>\n",
              "      <td>2017</td>\n",
              "      <td>West Virginia</td>\n",
              "      <td>8.75000</td>\n",
              "      <td>0</td>\n",
              "    </tr>\n",
              "    <tr>\n",
              "      <th>2748</th>\n",
              "      <td>2017</td>\n",
              "      <td>Wisconsin</td>\n",
              "      <td>7.25000</td>\n",
              "      <td>0</td>\n",
              "    </tr>\n",
              "    <tr>\n",
              "      <th>2749</th>\n",
              "      <td>2017</td>\n",
              "      <td>Wyoming</td>\n",
              "      <td>5.15000</td>\n",
              "      <td>0</td>\n",
              "    </tr>\n",
              "  </tbody>\n",
              "</table>\n",
              "<p>2750 rows × 4 columns</p>\n",
              "</div>"
            ],
            "text/plain": [
              "      Year          State    Salary  IsCoastal\n",
              "0     1968        Alabama   0.00000          0\n",
              "1     1968         Alaska   2.10000          1\n",
              "2     1968        Arizona   0.66000          0\n",
              "3     1968       Arkansas   0.15625          0\n",
              "4     1968     California   1.65000          1\n",
              "...    ...            ...       ...        ...\n",
              "2745  2017       Virginia   7.25000          1\n",
              "2746  2017     Washington  11.00000          1\n",
              "2747  2017  West Virginia   8.75000          0\n",
              "2748  2017      Wisconsin   7.25000          0\n",
              "2749  2017        Wyoming   5.15000          0\n",
              "\n",
              "[2750 rows x 4 columns]"
            ]
          },
          "metadata": {
            "tags": []
          },
          "execution_count": 3
        }
      ]
    },
    {
      "cell_type": "code",
      "metadata": {
        "colab": {
          "base_uri": "https://localhost:8080/",
          "height": 404
        },
        "id": "DnOMw06veFM-",
        "outputId": "4e108573-1fdc-457f-ba4f-2d23e0ea0ce2"
      },
      "source": [
        "max_salary = int(df[df['Year'] <= 2000]['Salary'].max()) + 1 # +1 <-> ceil\n",
        "bins = range(0, max_salary + 1, 1)\n",
        "\n",
        "fig, ax = plt.subplots(figsize=(12,6))\n",
        "\n",
        "for year in range(1980, 2000 + 1, 10):\n",
        "  ax.hist(df[df['Year'] == year]['Salary'], label=year, alpha=0.4, bins=bins)\n",
        "\n",
        "ax.set_title('Распределения минимальных зарплат в 1980, 1990 и 2000 годах')\n",
        "ax.set_xlabel('минимальная зарплата $/час')\n",
        "ax.set_ylabel('колличество записей')\n",
        "ax.legend()\n",
        "plt.show()"
      ],
      "execution_count": 52,
      "outputs": [
        {
          "output_type": "display_data",
          "data": {
            "image/png": "[encoded data removed]",
            "text/plain": [
              "<Figure size 864x432 with 1 Axes>"
            ]
          },
          "metadata": {
            "tags": [],
            "needs_background": "light"
          }
        }
      ]
    },
    {
      "cell_type": "code",
      "metadata": {
        "id": "rn0ZFb7jgm6l"
      },
      "source": [
        ""
      ],
      "execution_count": null,
      "outputs": []
    }
  ]
}