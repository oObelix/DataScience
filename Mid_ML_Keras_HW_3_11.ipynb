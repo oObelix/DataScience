{
  "nbformat": 4,
  "nbformat_minor": 0,
  "metadata": {
    "colab": {
      "name": "Mid ML Keras_HW 3.11.ipynb",
      "provenance": [],
      "collapsed_sections": [],
      "include_colab_link": true
    },
    "kernelspec": {
      "name": "python3",
      "display_name": "Python 3"
    }
  },
  "cells": [
    {
      "cell_type": "markdown",
      "metadata": {
        "id": "view-in-github",
        "colab_type": "text"
      },
      "source": [
        "<a href=\"https://colab.research.google.com/github/oObelix/DataScience/blob/master/Mid_ML_Keras_HW_3_11.ipynb\" target=\"_parent\"><img src=\"https://colab.research.google.com/assets/colab-badge.svg\" alt=\"Open In Colab\"/></a>"
      ]
    },
    {
      "cell_type": "markdown",
      "metadata": {
        "id": "Qx7gD5SOa0oT"
      },
      "source": [
        "# Домашнее задание\n",
        "\n",
        "В этом домашнем задании вам предстоит обучить модель классификации рукописных цифр на Tensorflow.\n",
        "\n",
        "Важным дополнительным требованием будет сохранение чекпоинтов на ваш гугл диск (не переживайте, ниже будут подсказки, как это сделать). Это пригодится вам в дальнейшем при обучении более сложных моделей, на случай потери данных при неожиданном отключении Colab."
      ]
    },
    {
      "cell_type": "code",
      "metadata": {
        "id": "tRPzy1zPDyYD",
        "colab": {
          "base_uri": "https://localhost:8080/"
        },
        "outputId": "84502d08-c602-476c-d582-8780fdcd2658"
      },
      "source": [
        "import tensorflow as tf\n",
        "print(tf.__version__)\n",
        "from google.colab import drive\n",
        "from pathlib import Path\n",
        "import matplotlib.pyplot as plt\n",
        "import numpy as np\n",
        "\n",
        "# tf.enable_eager_execution()"
      ],
      "execution_count": null,
      "outputs": [
        {
          "output_type": "stream",
          "text": [
            "2.5.0\n"
          ],
          "name": "stdout"
        }
      ]
    },
    {
      "cell_type": "markdown",
      "metadata": {
        "id": "8oA_nuENcFnQ"
      },
      "source": [
        "####Вспомогательный код"
      ]
    },
    {
      "cell_type": "code",
      "metadata": {
        "id": "dFjoXlmJYyJJ"
      },
      "source": [
        "#@title \n",
        "def show_mnist(images, labels, predicted_labels=None):\n",
        "    plt.figure(figsize=(10,10))\n",
        "    for i in range(16):\n",
        "        plt.subplot(4,4, i+1)\n",
        "        plt.xticks([])\n",
        "        plt.yticks([])\n",
        "        plt.grid(False)\n",
        "        plt.imshow(images[i], cmap=plt.cm.gray)\n",
        "        if predicted_labels is not None:\n",
        "            title_obj = plt.title(f\"Real: {labels[i]}. Pred: {predicted_labels[i]}\")\n",
        "            if labels[i] != predicted_labels[i]:\n",
        "                plt.setp(title_obj, color='r')\n",
        "        else:\n",
        "            plt.title(f\"Real label: {labels[i]}\")\n",
        "\n",
        "def show_progress(history: dict):\n",
        "    plt.figure(figsize=(10, 5))\n",
        "    ax1 = plt.subplot(1,2,1)    \n",
        "    plt.plot(history[\"accuracy\"],label='train accuracy')\n",
        "    plt.plot(history[\"val_accuracy\"], label='test accuracy')\n",
        "    ax2 = plt.subplot(1,2,2)\n",
        "    plt.plot(history[\"loss\"],label='train_loss')\n",
        "    plt.plot(history[\"val_loss\"],label='test_loss')\n",
        "    \n",
        "    ax1.legend(loc='best')\n",
        "    ax2.legend(loc='best')\n",
        "    plt.grid()\n",
        "    plt.tight_layout()\n",
        "    plt.show()"
      ],
      "execution_count": null,
      "outputs": []
    },
    {
      "cell_type": "markdown",
      "metadata": {
        "id": "nL_nICZ4cMOx"
      },
      "source": [
        "## Загрузка данных"
      ]
    },
    {
      "cell_type": "code",
      "metadata": {
        "id": "AcMON-_rWqdK",
        "colab": {
          "base_uri": "https://localhost:8080/",
          "height": 628
        },
        "outputId": "9fd6108e-b51f-4b3e-96d8-6682fe6e2029"
      },
      "source": [
        "(x_train, y_train),(x_test, y_test) = tf.keras.datasets.mnist.load_data()\n",
        "x_train, x_test = x_train / 255.0, x_test / 255.0\n",
        "\n",
        "show_mnist(x_train, y_train)\n",
        "x_train = x_train.reshape((-1, 28*28)) # вытянули каждую картинку в вектор\n",
        "x_test = x_test.reshape((-1, 28*28))\n"
      ],
      "execution_count": null,
      "outputs": [
        {
          "output_type": "stream",
          "text": [
            "Downloading data from https://storage.googleapis.com/tensorflow/tf-keras-datasets/mnist.npz\n",
            "11493376/11490434 [==============================] - 0s 0us/step\n"
          ],
          "name": "stdout"
        },
        {
          "output_type": "display_data",
          "data": {
            "image/png": "[encoded data removed]",
            "text/plain": [
              "<Figure size 720x720 with 16 Axes>"
            ]
          },
          "metadata": {
            "tags": []
          }
        }
      ]
    },
    {
      "cell_type": "code",
      "metadata": {
        "id": "D9_g86msEud4",
        "colab": {
          "base_uri": "https://localhost:8080/"
        },
        "outputId": "aa5ee030-f4e8-4a9a-9b53-8487ef509a73"
      },
      "source": [
        "# прикрепим ваш гугл диск к виртуальной машине\n",
        "drive.mount('/content/drive/')"
      ],
      "execution_count": null,
      "outputs": [
        {
          "output_type": "stream",
          "text": [
            "Mounted at /content/drive/\n"
          ],
          "name": "stdout"
        }
      ]
    },
    {
      "cell_type": "code",
      "metadata": {
        "id": "WYwiN0nCROrK"
      },
      "source": [
        "!ls -la /content/drive/MyDrive/"
      ],
      "execution_count": null,
      "outputs": []
    },
    {
      "cell_type": "code",
      "metadata": {
        "id": "0yVUAhqPVVet"
      },
      "source": [
        "# Путь до вашего гугл диска скорее всего выглядит так: /content/drive/My Drive/\n",
        "# если эта клетка вызывает ошибку, \n",
        "# измените путь согласно ! ls \"/content/drive/\"\n",
        "\n",
        "path = Path(\"/content/drive/MyDrive/Skillbox/model_1\")\n",
        "path.mkdir(exist_ok=True, parents=True) # папка создается на вашем гугл диске. вместе с \"родителями\"\n",
        "assert path.exists()\n",
        "cpt_filename = \"best_checkpoint.hdf5\"  \n",
        "cpt_path =str(path / cpt_filename)\n",
        "# После выполнения этой клетки, в вашем гугл диске должна создаться папка: Skillbox/model_1\n",
        "# убедитесь в этом"
      ],
      "execution_count": null,
      "outputs": []
    },
    {
      "cell_type": "markdown",
      "metadata": {
        "id": "L1RVxtPzgr_g"
      },
      "source": [
        "А весь код ниже вы реализуете самостоятельно! Вы уже к этому готовы :)\n",
        "Требования к модели:\n",
        "1. Точность на тестовой части выборки >96%\n",
        "2. Чекпоинт модели с лучшими параметрами должен быть сохранен у вас на гугл диске\n",
        "3. Объект history, который получается из model.fit(...) должен содержать значения лосса и accuracy для трейна и теста"
      ]
    },
    {
      "cell_type": "code",
      "metadata": {
        "id": "oAHxE8wpEKD5",
        "colab": {
          "base_uri": "https://localhost:8080/"
        },
        "outputId": "af5b1338-417c-4064-9900-8adca201d0c2"
      },
      "source": [
        "# < YOUR CODE STARTS HERE >\n",
        "\n",
        "model = tf.keras.models.Sequential([\n",
        "  #tf.keras.layers.Flatten(input_shape=(28, 28)),\n",
        "  tf.keras.layers.Dense(128, input_shape=(784,), activation='relu'),\n",
        "  tf.keras.layers.Dropout(0.2),\n",
        "  tf.keras.layers.Dense(10)\n",
        "])\n",
        "\n",
        "loss = tf.keras.losses.SparseCategoricalCrossentropy(from_logits=True)\n",
        "\n",
        "model.compile(optimizer='adam', loss=loss, metrics=['accuracy'])\n",
        "\n",
        "checkpoint = tf.keras.callbacks.ModelCheckpoint(cpt_path, monitor='val_loss', verbose=1, save_best_only=True, mode='min')\n",
        "\n",
        "history = model.fit(x_train, y_train, validation_data=(x_test, y_test), epochs=10, batch_size=None, verbose=1, callbacks=[checkpoint])\n",
        "\n",
        "# < YOUR CODE ENDS HERE >"
      ],
      "execution_count": null,
      "outputs": [
        {
          "output_type": "stream",
          "text": [
            "Epoch 1/10\n",
            "1875/1875 [==============================] - 5s 3ms/step - loss: 0.2981 - accuracy: 0.9138 - val_loss: 0.1506 - val_accuracy: 0.9550\n",
            "\n",
            "Epoch 00001: val_loss improved from inf to 0.15060, saving model to /content/drive/MyDrive/Skillbox/model_1/best_checkpoint.hdf5\n",
            "Epoch 2/10\n",
            "1875/1875 [==============================] - 5s 2ms/step - loss: 0.1456 - accuracy: 0.9567 - val_loss: 0.0964 - val_accuracy: 0.9720\n",
            "\n",
            "Epoch 00002: val_loss improved from 0.15060 to 0.09639, saving model to /content/drive/MyDrive/Skillbox/model_1/best_checkpoint.hdf5\n",
            "Epoch 3/10\n",
            "1875/1875 [==============================] - 5s 3ms/step - loss: 0.1098 - accuracy: 0.9669 - val_loss: 0.0898 - val_accuracy: 0.9722\n",
            "\n",
            "Epoch 00003: val_loss improved from 0.09639 to 0.08977, saving model to /content/drive/MyDrive/Skillbox/model_1/best_checkpoint.hdf5\n",
            "Epoch 4/10\n",
            "1875/1875 [==============================] - 4s 2ms/step - loss: 0.0892 - accuracy: 0.9722 - val_loss: 0.0779 - val_accuracy: 0.9765\n",
            "\n",
            "Epoch 00004: val_loss improved from 0.08977 to 0.07791, saving model to /content/drive/MyDrive/Skillbox/model_1/best_checkpoint.hdf5\n",
            "Epoch 5/10\n",
            "1875/1875 [==============================] - 4s 2ms/step - loss: 0.0760 - accuracy: 0.9753 - val_loss: 0.0791 - val_accuracy: 0.9771\n",
            "\n",
            "Epoch 00005: val_loss did not improve from 0.07791\n",
            "Epoch 6/10\n",
            "1875/1875 [==============================] - 5s 3ms/step - loss: 0.0677 - accuracy: 0.9785 - val_loss: 0.0719 - val_accuracy: 0.9789\n",
            "\n",
            "Epoch 00006: val_loss improved from 0.07791 to 0.07185, saving model to /content/drive/MyDrive/Skillbox/model_1/best_checkpoint.hdf5\n",
            "Epoch 7/10\n",
            "1875/1875 [==============================] - 4s 2ms/step - loss: 0.0588 - accuracy: 0.9809 - val_loss: 0.0774 - val_accuracy: 0.9760\n",
            "\n",
            "Epoch 00007: val_loss did not improve from 0.07185\n",
            "Epoch 8/10\n",
            "1875/1875 [==============================] - 4s 2ms/step - loss: 0.0542 - accuracy: 0.9824 - val_loss: 0.0731 - val_accuracy: 0.9789\n",
            "\n",
            "Epoch 00008: val_loss did not improve from 0.07185\n",
            "Epoch 9/10\n",
            "1875/1875 [==============================] - 5s 3ms/step - loss: 0.0488 - accuracy: 0.9838 - val_loss: 0.0779 - val_accuracy: 0.9782\n",
            "\n",
            "Epoch 00009: val_loss did not improve from 0.07185\n",
            "Epoch 10/10\n",
            "1875/1875 [==============================] - 4s 2ms/step - loss: 0.0445 - accuracy: 0.9854 - val_loss: 0.0768 - val_accuracy: 0.9786\n",
            "\n",
            "Epoch 00010: val_loss did not improve from 0.07185\n"
          ],
          "name": "stdout"
        }
      ]
    },
    {
      "cell_type": "code",
      "metadata": {
        "id": "NS53NXObbWkg"
      },
      "source": [
        ""
      ],
      "execution_count": null,
      "outputs": []
    },
    {
      "cell_type": "code",
      "metadata": {
        "colab": {
          "base_uri": "https://localhost:8080/"
        },
        "id": "QBR28ruvca9m",
        "outputId": "09396c19-fd99-4f6c-90ba-2af3b19f6e45"
      },
      "source": [
        "!ls drive/MyDrive/Skillbox/model_1"
      ],
      "execution_count": null,
      "outputs": [
        {
          "output_type": "stream",
          "text": [
            "best_checkpoint.hdf5\n"
          ],
          "name": "stdout"
        }
      ]
    },
    {
      "cell_type": "code",
      "metadata": {
        "colab": {
          "base_uri": "https://localhost:8080/"
        },
        "id": "blyw_7XXaJum",
        "outputId": "14476c9d-a33b-480f-a3cd-1370146e7064"
      },
      "source": [
        "model.evaluate(x_test,  y_test, verbose=2)"
      ],
      "execution_count": null,
      "outputs": [
        {
          "output_type": "stream",
          "text": [
            "313/313 - 0s - loss: 0.0768 - accuracy: 0.9786\n"
          ],
          "name": "stdout"
        },
        {
          "output_type": "execute_result",
          "data": {
            "text/plain": [
              "[0.07681066542863846, 0.978600025177002]"
            ]
          },
          "metadata": {
            "tags": []
          },
          "execution_count": 54
        }
      ]
    },
    {
      "cell_type": "code",
      "metadata": {
        "id": "WtzvldJ5eQ1e"
      },
      "source": [
        ""
      ],
      "execution_count": null,
      "outputs": []
    },
    {
      "cell_type": "code",
      "metadata": {
        "id": "iPntu18cW1CR",
        "colab": {
          "base_uri": "https://localhost:8080/"
        },
        "outputId": "9fdc6fd7-520c-4090-98ae-1b06e976ba20"
      },
      "source": [
        "assert len(list(path.glob(\"*\"))) != 0, f\"Checkpoint dir {path}\"\n",
        "assert \"accuracy\" in history.history, \"History object must contain Accuracy. Please, retrain with this metric\"\n",
        "assert \"val_accuracy\" in history.history, \"Please, provide validation_data in model.fit.\"\n",
        "assert np.max(history.history[\"val_accuracy\"]) > 0.95, \"Validation accuracy must be more than 0.95\"\n",
        "# Для старой версии (tf.__version__ == 1.x) запустить aseert-ы ниже:\n",
        "# assert \"acc\" in history.history, \"History object must contain Accuracy. Please, retrain with this metric\"\n",
        "# assert \"val_acc\" in history.history, \"Please, provide validation_data in model.fit.\"\n",
        "# assert np.max(history.history[\"val_acc\"]) > 0.95, \"Validation accuracy must be more than 0.95\"\n",
        "print(\"Training tests passed\")"
      ],
      "execution_count": null,
      "outputs": [
        {
          "output_type": "stream",
          "text": [
            "Training tests passed\n"
          ],
          "name": "stdout"
        }
      ]
    },
    {
      "cell_type": "markdown",
      "metadata": {
        "id": "3F8zo0Milj4c"
      },
      "source": [
        "Давайте посмотрим на графики обучения:"
      ]
    },
    {
      "cell_type": "code",
      "metadata": {
        "colab": {
          "base_uri": "https://localhost:8080/"
        },
        "id": "YDOOS-MadlYC",
        "outputId": "19ced870-55ee-4030-fe00-5b0b952bc641"
      },
      "source": [
        "history.history"
      ],
      "execution_count": null,
      "outputs": [
        {
          "output_type": "execute_result",
          "data": {
            "text/plain": [
              "{'accuracy': [0.9138166904449463,\n",
              "  0.956683337688446,\n",
              "  0.9669166803359985,\n",
              "  0.9721666574478149,\n",
              "  0.9753333330154419,\n",
              "  0.9784666895866394,\n",
              "  0.9809333086013794,\n",
              "  0.982366681098938,\n",
              "  0.9837833046913147,\n",
              "  0.9853500127792358],\n",
              " 'loss': [0.29805466532707214,\n",
              "  0.14562198519706726,\n",
              "  0.10975602269172668,\n",
              "  0.08920791000127792,\n",
              "  0.07602272927761078,\n",
              "  0.06766777485609055,\n",
              "  0.05875113978981972,\n",
              "  0.05420684441924095,\n",
              "  0.048830416053533554,\n",
              "  0.044504448771476746],\n",
              " 'val_accuracy': [0.9549999833106995,\n",
              "  0.972000002861023,\n",
              "  0.9721999764442444,\n",
              "  0.9764999747276306,\n",
              "  0.9771000146865845,\n",
              "  0.9789000153541565,\n",
              "  0.9760000109672546,\n",
              "  0.9789000153541565,\n",
              "  0.9782000184059143,\n",
              "  0.978600025177002],\n",
              " 'val_loss': [0.15059517323970795,\n",
              "  0.09638917446136475,\n",
              "  0.08977323025465012,\n",
              "  0.07790669798851013,\n",
              "  0.07914166897535324,\n",
              "  0.07185057550668716,\n",
              "  0.0774262323975563,\n",
              "  0.07307185977697372,\n",
              "  0.07792212814092636,\n",
              "  0.07681066542863846]}"
            ]
          },
          "metadata": {
            "tags": []
          },
          "execution_count": 58
        }
      ]
    },
    {
      "cell_type": "code",
      "metadata": {
        "id": "nGOrpkkAX8o5",
        "colab": {
          "base_uri": "https://localhost:8080/",
          "height": 369
        },
        "outputId": "c4066c3d-0692-48ee-a730-5de909de5978"
      },
      "source": [
        "show_progress(history.history)"
      ],
      "execution_count": null,
      "outputs": [
        {
          "output_type": "display_data",
          "data": {
            "image/png": "[encoded data removed]",
            "text/plain": [
              "<Figure size 720x360 with 2 Axes>"
            ]
          },
          "metadata": {
            "tags": [],
            "needs_background": "light"
          }
        }
      ]
    },
    {
      "cell_type": "markdown",
      "metadata": {
        "id": "QSbdpY-LlotG"
      },
      "source": [
        "А теперь перейдем к загрузке модели. Если все реализовано правильно, то код ниже должен сработать без ошибок:"
      ]
    },
    {
      "cell_type": "code",
      "metadata": {
        "id": "lUrOvNfPd5B5",
        "colab": {
          "base_uri": "https://localhost:8080/"
        },
        "outputId": "fad07280-5c6c-4323-827f-f9071db6fede"
      },
      "source": [
        "restored_model = tf.keras.models.load_model(cpt_path)\n",
        "loss, acc = restored_model.evaluate(x_test, y_test)\n",
        "print(f\"Accuracy of restored model {acc*100 :.2f}%\")\n",
        "assert acc > 0.96"
      ],
      "execution_count": null,
      "outputs": [
        {
          "output_type": "stream",
          "text": [
            "313/313 [==============================] - 1s 1ms/step - loss: 0.0719 - accuracy: 0.9789\n",
            "Accuracy of restored model 97.89%\n"
          ],
          "name": "stdout"
        }
      ]
    },
    {
      "cell_type": "markdown",
      "metadata": {
        "id": "F7XFRliomD6b"
      },
      "source": [
        "И, наконец, можно сравнить предсказания с реальными классами (с такой точностью найти ошибку будет сложно):"
      ]
    },
    {
      "cell_type": "code",
      "metadata": {
        "id": "aYXxV5tjY4Xx",
        "colab": {
          "base_uri": "https://localhost:8080/",
          "height": 648
        },
        "outputId": "fb41399c-5599-49c6-fc5b-0711fa24fc1f"
      },
      "source": [
        "predicted_labels = restored_model.predict_classes(x_test)\n",
        "idxs = np.random.choice(np.arange(len(x_test)), 16, replace=False)\n",
        "show_mnist(x_test[idxs].reshape((-1, 28, 28)), y_test[idxs], predicted_labels[idxs])"
      ],
      "execution_count": null,
      "outputs": [
        {
          "output_type": "stream",
          "text": [
            "/usr/local/lib/python3.7/dist-packages/tensorflow/python/keras/engine/sequential.py:455: UserWarning: `model.predict_classes()` is deprecated and will be removed after 2021-01-01. Please use instead:* `np.argmax(model.predict(x), axis=-1)`,   if your model does multi-class classification   (e.g. if it uses a `softmax` last-layer activation).* `(model.predict(x) > 0.5).astype(\"int32\")`,   if your model does binary classification   (e.g. if it uses a `sigmoid` last-layer activation).\n",
            "  warnings.warn('`model.predict_classes()` is deprecated and '\n"
          ],
          "name": "stderr"
        },
        {
          "output_type": "display_data",
          "data": {
            "image/png": "[encoded data removed]",
            "text/plain": [
              "<Figure size 720x720 with 16 Axes>"
            ]
          },
          "metadata": {
            "tags": []
          }
        }
      ]
    },
    {
      "cell_type": "code",
      "metadata": {
        "id": "VliggA5XeAkX"
      },
      "source": [
        ""
      ],
      "execution_count": null,
      "outputs": []
    }
  ]
}