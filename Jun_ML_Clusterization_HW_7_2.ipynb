{
  "nbformat": 4,
  "nbformat_minor": 0,
  "metadata": {
    "colab": {
      "name": "Jun ML Clusterization HW 7.2.ipynb",
      "provenance": [],
      "collapsed_sections": [],
      "include_colab_link": true
    },
    "kernelspec": {
      "display_name": "Python 3",
      "language": "python",
      "name": "python3"
    },
    "language_info": {
      "codemirror_mode": {
        "name": "ipython",
        "version": 3
      },
      "file_extension": ".py",
      "mimetype": "text/x-python",
      "name": "python",
      "nbconvert_exporter": "python",
      "pygments_lexer": "ipython3",
      "version": "3.6.3"
    }
  },
  "cells": [
    {
      "cell_type": "markdown",
      "metadata": {
        "id": "view-in-github",
        "colab_type": "text"
      },
      "source": [
        "<a href=\"https://colab.research.google.com/github/oObelix/DataScience/blob/master/Jun_ML_Clusterization_HW_7_2.ipynb\" target=\"_parent\"><img src=\"https://colab.research.google.com/assets/colab-badge.svg\" alt=\"Open In Colab\"/></a>"
      ]
    },
    {
      "cell_type": "markdown",
      "metadata": {
        "id": "d5lYtakjONu8"
      },
      "source": [
        "## Урок 2. Домашнее задание \n",
        "\n",
        "### 2.1 Домашнее задание начального уровня\n",
        "\n",
        "Вычислите евклидово расстояние между кластером *c1* и кластером *c3*. Это расстояние получилось меньше, или больше чем расстояние между кластером *c1* и кластером *c2*?\n",
        "\n",
        "Координаты центра для трёх кластеров:\n",
        "\n",
        "* \"красный\" кластер $c_1 = [1.0, 1.5]$\n",
        "* \"оранжевый\" кластер $c_2 = [-1.0, -0.5]$\n",
        "* \"зеленый\" кластер $c_3 = [1.0, -0.5]$\n",
        "\n",
        "![clustering_example](https://248006.selcdn.ru/public/DS.%20Block%202.%20M7/clustering_example.png)"
      ]
    },
    {
      "cell_type": "code",
      "metadata": {
        "id": "_BUBuVtnONu_"
      },
      "source": [
        "# -- ВАШ КОД ТУТ --\n",
        "\n",
        "from scipy.spatial.distance import euclidean"
      ],
      "execution_count": null,
      "outputs": []
    },
    {
      "cell_type": "code",
      "metadata": {
        "id": "2w3jYFOMQuTi"
      },
      "source": [
        "c1 = [1.0, 1.5]\n",
        "c2 = [-1.0, -0.5]\n",
        "c3 = [1.0, -0.5]"
      ],
      "execution_count": null,
      "outputs": []
    },
    {
      "cell_type": "code",
      "metadata": {
        "id": "7S6pgVdiQhm3"
      },
      "source": [
        "dist_c1_c3 = euclidean(c1, c3)\n",
        "dist_c1_c2 = euclidean(c1, c2)"
      ],
      "execution_count": null,
      "outputs": []
    },
    {
      "cell_type": "code",
      "metadata": {
        "colab": {
          "base_uri": "https://localhost:8080/"
        },
        "id": "KaX9q1vTRHr5",
        "outputId": "6e937f11-7b18-4b3f-ac71-cce83d1ea34a"
      },
      "source": [
        "print(f\"Расстояние c1_c3 = {dist_c1_c3}\")\n",
        "print(f\"Расстояние c1_c2 = {dist_c1_c2}\")\n",
        "print(f\"c1_c3 < c1_c2 = {dist_c1_c3 < dist_c1_c2}\")"
      ],
      "execution_count": null,
      "outputs": [
        {
          "output_type": "stream",
          "text": [
            "Расстояние c1_c3 = 2.0\n",
            "Расстояние c1_c2 = 2.8284271247461903\n",
            "c1_c3 < c1_c2 = True\n"
          ],
          "name": "stdout"
        }
      ]
    },
    {
      "cell_type": "markdown",
      "metadata": {
        "id": "erGAkM0UONvJ"
      },
      "source": [
        "В этом уроке мы познакомились с постановкой задачи кластеризации. Мы узнали, с помощью какой функции можно вычислить расстояние между двумя точками. В следующем уроке мы рассмотрим один из самых простых алгоритмов кластеризации, который назовём алгоритмом $k-$средних."
      ]
    }
  ]
}