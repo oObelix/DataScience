{
  "nbformat": 4,
  "nbformat_minor": 0,
  "metadata": {
    "kernelspec": {
      "display_name": "Python 3",
      "language": "python",
      "name": "python3"
    },
    "language_info": {
      "codemirror_mode": {
        "name": "ipython",
        "version": 3
      },
      "file_extension": ".py",
      "mimetype": "text/x-python",
      "name": "python",
      "nbconvert_exporter": "python",
      "pygments_lexer": "ipython3",
      "version": "3.6.3"
    },
    "colab": {
      "name": "Jun_ML_Linear_Regression_HW_5.ipynb",
      "provenance": [],
      "collapsed_sections": [],
      "include_colab_link": true
    }
  },
  "cells": [
    {
      "cell_type": "markdown",
      "metadata": {
        "id": "view-in-github",
        "colab_type": "text"
      },
      "source": [
        "<a href=\"https://colab.research.google.com/github/oObelix/DataScience/blob/master/Jun_ML_Linear_Regression_HW_5.ipynb\" target=\"_parent\"><img src=\"https://colab.research.google.com/assets/colab-badge.svg\" alt=\"Open In Colab\"/></a>"
      ]
    },
    {
      "cell_type": "markdown",
      "metadata": {
        "id": "WAyRDni_6GHU"
      },
      "source": [
        "### Урок 5. Домашняя работа\n",
        "\n",
        "Есть два набора точек - *x_hw* и *y_hw*. В рамках домашней работы нужно\n",
        "* визуализировать набор точек\n",
        "* найти коэффициенты регрессии $w_0, w_1$ по шагам, как в уроке\n",
        "* посчитать предсказание в виде $\\hat{y} = w_0 + w_1x$ и визуализировать его вместе с точками *x_hw* и *y_hw*"
      ]
    },
    {
      "cell_type": "code",
      "metadata": {
        "id": "74wa1k6p6GHf"
      },
      "source": [
        "x_hw = [50, 60, 70, 100]\n",
        "y_hw = [10, 15, 40, 45]"
      ],
      "execution_count": null,
      "outputs": []
    },
    {
      "cell_type": "code",
      "metadata": {
        "id": "xSxVmWT35oZn"
      },
      "source": [
        "import numpy as np\n",
        "from numpy.linalg import inv\n",
        "import matplotlib.pyplot as plt"
      ],
      "execution_count": null,
      "outputs": []
    },
    {
      "cell_type": "code",
      "metadata": {
        "colab": {
          "base_uri": "https://localhost:8080/",
          "height": 265
        },
        "id": "iFGZm1nmAbvK",
        "outputId": "2051d77e-fb80-41bc-a37b-733136a6f512"
      },
      "source": [
        "plt.scatter(x_hw, y_hw, 120, 'g')\n",
        "plt.show()"
      ],
      "execution_count": null,
      "outputs": [
        {
          "output_type": "display_data",
          "data": {
            "image/png": "[encoded data removed]",
            "text/plain": [
              "<Figure size 432x288 with 1 Axes>"
            ]
          },
          "metadata": {
            "tags": [],
            "needs_background": "light"
          }
        }
      ]
    },
    {
      "cell_type": "code",
      "metadata": {
        "colab": {
          "base_uri": "https://localhost:8080/"
        },
        "id": "LcSR-for5q1w",
        "outputId": "33b87219-01ea-413b-bd7f-14d23fe9fad1"
      },
      "source": [
        "X = np.ones((4,2))\n",
        "X[:,1:] = np.array(x_hw).reshape(-1,1)\n",
        "X"
      ],
      "execution_count": null,
      "outputs": [
        {
          "output_type": "execute_result",
          "data": {
            "text/plain": [
              "array([[  1.,  50.],\n",
              "       [  1.,  60.],\n",
              "       [  1.,  70.],\n",
              "       [  1., 100.]])"
            ]
          },
          "metadata": {
            "tags": []
          },
          "execution_count": 5
        }
      ]
    },
    {
      "cell_type": "code",
      "metadata": {
        "colab": {
          "base_uri": "https://localhost:8080/"
        },
        "id": "X8kreS7j66Yg",
        "outputId": "45b75e19-8de1-435f-912c-9ae997552e02"
      },
      "source": [
        "Y = np.array(y_hw).reshape(-1,1)\n",
        "Y"
      ],
      "execution_count": null,
      "outputs": [
        {
          "output_type": "execute_result",
          "data": {
            "text/plain": [
              "array([[10],\n",
              "       [15],\n",
              "       [40],\n",
              "       [45]])"
            ]
          },
          "metadata": {
            "tags": []
          },
          "execution_count": 6
        }
      ]
    },
    {
      "cell_type": "code",
      "metadata": {
        "colab": {
          "base_uri": "https://localhost:8080/"
        },
        "id": "Bngoj5pz-nIc",
        "outputId": "864ce83b-2282-45ab-f913-d3d761033927"
      },
      "source": [
        "w = inv((X.T).dot(X)).dot(X.T).dot(Y)\n",
        "w"
      ],
      "execution_count": null,
      "outputs": [
        {
          "output_type": "execute_result",
          "data": {
            "text/plain": [
              "array([[-22.5       ],\n",
              "       [  0.71428571]])"
            ]
          },
          "metadata": {
            "tags": []
          },
          "execution_count": 48
        }
      ]
    },
    {
      "cell_type": "code",
      "metadata": {
        "colab": {
          "base_uri": "https://localhost:8080/"
        },
        "id": "cixPZvXw_O-c",
        "outputId": "59de1e22-f083-4051-994b-9eff586513e0"
      },
      "source": [
        "w1 = w[0][0]\n",
        "w2 = w[1][0]\n",
        "\n",
        "print(w1, w2)"
      ],
      "execution_count": null,
      "outputs": [
        {
          "output_type": "stream",
          "text": [
            "-22.499999999999957 0.714285714285714\n"
          ],
          "name": "stdout"
        }
      ]
    },
    {
      "cell_type": "markdown",
      "metadata": {
        "id": "sEuyY31TBEkN"
      },
      "source": [
        "Линейную регрессию можно выразить формулой: $$ y = -22.49 + 0.71x $$"
      ]
    },
    {
      "cell_type": "code",
      "metadata": {
        "colab": {
          "base_uri": "https://localhost:8080/"
        },
        "id": "imKlCFKn_yRY",
        "outputId": "2132a23a-0a2e-4564-fd12-4175e52c6ef4"
      },
      "source": [
        "# Подгоняю X_min до значения, которое возвращает Y близкое к нулю, чтоб не \n",
        "# визуализировать отрицательные предсказания, X_max - max() из среза по столбцам\n",
        "X_dots = np.linspace(32, X[:,1].max(), num=100)\n",
        "Y_model = w1 + w2*X_dots\n",
        "\n",
        "print(X_dots, Y_model)"
      ],
      "execution_count": null,
      "outputs": [
        {
          "output_type": "stream",
          "text": [
            "[ 32.          32.68686869  33.37373737  34.06060606  34.74747475\n",
            "  35.43434343  36.12121212  36.80808081  37.49494949  38.18181818\n",
            "  38.86868687  39.55555556  40.24242424  40.92929293  41.61616162\n",
            "  42.3030303   42.98989899  43.67676768  44.36363636  45.05050505\n",
            "  45.73737374  46.42424242  47.11111111  47.7979798   48.48484848\n",
            "  49.17171717  49.85858586  50.54545455  51.23232323  51.91919192\n",
            "  52.60606061  53.29292929  53.97979798  54.66666667  55.35353535\n",
            "  56.04040404  56.72727273  57.41414141  58.1010101   58.78787879\n",
            "  59.47474747  60.16161616  60.84848485  61.53535354  62.22222222\n",
            "  62.90909091  63.5959596   64.28282828  64.96969697  65.65656566\n",
            "  66.34343434  67.03030303  67.71717172  68.4040404   69.09090909\n",
            "  69.77777778  70.46464646  71.15151515  71.83838384  72.52525253\n",
            "  73.21212121  73.8989899   74.58585859  75.27272727  75.95959596\n",
            "  76.64646465  77.33333333  78.02020202  78.70707071  79.39393939\n",
            "  80.08080808  80.76767677  81.45454545  82.14141414  82.82828283\n",
            "  83.51515152  84.2020202   84.88888889  85.57575758  86.26262626\n",
            "  86.94949495  87.63636364  88.32323232  89.01010101  89.6969697\n",
            "  90.38383838  91.07070707  91.75757576  92.44444444  93.13131313\n",
            "  93.81818182  94.50505051  95.19191919  95.87878788  96.56565657\n",
            "  97.25252525  97.93939394  98.62626263  99.31313131 100.        ] [ 0.35714286  0.84776335  1.33838384  1.82900433  2.31962482  2.81024531\n",
            "  3.3008658   3.79148629  4.28210678  4.77272727  5.26334776  5.75396825\n",
            "  6.24458874  6.73520924  7.22582973  7.71645022  8.20707071  8.6976912\n",
            "  9.18831169  9.67893218 10.16955267 10.66017316 11.15079365 11.64141414\n",
            " 12.13203463 12.62265512 13.11327561 13.6038961  14.09451659 14.58513709\n",
            " 15.07575758 15.56637807 16.05699856 16.54761905 17.03823954 17.52886003\n",
            " 18.01948052 18.51010101 19.0007215  19.49134199 19.98196248 20.47258297\n",
            " 20.96320346 21.45382395 21.94444444 22.43506494 22.92568543 23.41630592\n",
            " 23.90692641 24.3975469  24.88816739 25.37878788 25.86940837 26.36002886\n",
            " 26.85064935 27.34126984 27.83189033 28.32251082 28.81313131 29.3037518\n",
            " 29.79437229 30.28499278 30.77561328 31.26623377 31.75685426 32.24747475\n",
            " 32.73809524 33.22871573 33.71933622 34.20995671 34.7005772  35.19119769\n",
            " 35.68181818 36.17243867 36.66305916 37.15367965 37.64430014 38.13492063\n",
            " 38.62554113 39.11616162 39.60678211 40.0974026  40.58802309 41.07864358\n",
            " 41.56926407 42.05988456 42.55050505 43.04112554 43.53174603 44.02236652\n",
            " 44.51298701 45.0036075  45.49422799 45.98484848 46.47546898 46.96608947\n",
            " 47.45670996 47.94733045 48.43795094 48.92857143]\n"
          ],
          "name": "stdout"
        }
      ]
    },
    {
      "cell_type": "code",
      "metadata": {
        "colab": {
          "base_uri": "https://localhost:8080/",
          "height": 265
        },
        "id": "Yb11BAv9B3ER",
        "outputId": "ed6853fd-355e-4e7b-da2f-155e191d157d"
      },
      "source": [
        "# точки известных объектов\n",
        "plt.scatter(X[:,1], Y[:,0], 120, 'g')\n",
        "\n",
        "# линия предсказаний\n",
        "plt.plot(X_dots, Y_model)\n",
        "\n",
        "plt.show()"
      ],
      "execution_count": null,
      "outputs": [
        {
          "output_type": "display_data",
          "data": {
            "image/png": "[encoded data removed]",
            "text/plain": [
              "<Figure size 432x288 with 1 Axes>"
            ]
          },
          "metadata": {
            "tags": [],
            "needs_background": "light"
          }
        }
      ]
    },
    {
      "cell_type": "code",
      "metadata": {
        "id": "3x4jPKX1C7I8"
      },
      "source": [
        ""
      ],
      "execution_count": null,
      "outputs": []
    }
  ]
}