{
  "nbformat": 4,
  "nbformat_minor": 0,
  "metadata": {
    "colab": {
      "name": "Simple 3-L ReLU MNIST Neural Network #2.ipynb",
      "provenance": [],
      "collapsed_sections": [],
      "authorship_tag": "ABX9TyNcyBxO+/oy4rpnzTZZ8pS5",
      "include_colab_link": true
    },
    "kernelspec": {
      "name": "python3",
      "display_name": "Python 3"
    },
    "language_info": {
      "name": "python"
    }
  },
  "cells": [
    {
      "cell_type": "markdown",
      "metadata": {
        "id": "view-in-github",
        "colab_type": "text"
      },
      "source": [
        "<a href=\"https://colab.research.google.com/github/oObelix/DataScience/blob/master/Simple_3_L_ReLU_MNIST_Neural_Network_2.ipynb\" target=\"_parent\"><img src=\"https://colab.research.google.com/assets/colab-badge.svg\" alt=\"Open In Colab\"/></a>"
      ]
    },
    {
      "cell_type": "code",
      "metadata": {
        "id": "X0g7EVTUixOf"
      },
      "source": [
        "# Simple custom 2 layer Neural Network\n",
        "# ReLU\n",
        "# MNIST test"
      ],
      "execution_count": null,
      "outputs": []
    },
    {
      "cell_type": "code",
      "metadata": {
        "id": "Ly3Dl-hij2yg"
      },
      "source": [
        "import sys\n",
        "import numpy as np\n",
        "from keras.datasets import mnist"
      ],
      "execution_count": null,
      "outputs": []
    },
    {
      "cell_type": "code",
      "metadata": {
        "id": "dJbF64kkkPg5"
      },
      "source": [
        "(x_train, y_train), (x_test, y_test) = mnist.load_data()"
      ],
      "execution_count": null,
      "outputs": []
    },
    {
      "cell_type": "code",
      "metadata": {
        "colab": {
          "base_uri": "https://localhost:8080/"
        },
        "id": "kEq2Z2DZkeX3",
        "outputId": "f2e98cc3-874a-4977-b56d-bf8e3fa74cb7"
      },
      "source": [
        "print(x_train.shape, y_train.shape, x_test.shape, y_test.shape)"
      ],
      "execution_count": null,
      "outputs": [
        {
          "output_type": "stream",
          "text": [
            "(60000, 28, 28) (60000,) (10000, 28, 28) (10000,)\n"
          ],
          "name": "stdout"
        }
      ]
    },
    {
      "cell_type": "code",
      "metadata": {
        "id": "Q9AszsFHknvQ"
      },
      "source": [
        "images, labels = (x_train[0:1000].reshape(1000, 28*28) / 255, y_train[:1000])"
      ],
      "execution_count": null,
      "outputs": []
    },
    {
      "cell_type": "code",
      "metadata": {
        "colab": {
          "base_uri": "https://localhost:8080/"
        },
        "id": "5E6FrTM4lvm_",
        "outputId": "dd874654-4faa-47bf-a9dc-c725128cb666"
      },
      "source": [
        "print(images.shape, labels.shape)\n",
        "#print(images[0])\n",
        "#print(labels[:10])"
      ],
      "execution_count": null,
      "outputs": [
        {
          "output_type": "stream",
          "text": [
            "(1000, 784) (1000,)\n"
          ],
          "name": "stdout"
        }
      ]
    },
    {
      "cell_type": "code",
      "metadata": {
        "id": "Cj0scmNMl7Xz"
      },
      "source": [
        "one_label = np.zeros((len(lables), 10))"
      ],
      "execution_count": null,
      "outputs": []
    },
    {
      "cell_type": "code",
      "metadata": {
        "id": "W8A59Y-Hl8Jj"
      },
      "source": [
        "for i,l in enumerate(labels):\n",
        "  one_label[i][l] = 1\n",
        "labels = one_label"
      ],
      "execution_count": null,
      "outputs": []
    },
    {
      "cell_type": "code",
      "metadata": {
        "id": "0QW00ozsl8Mm"
      },
      "source": [
        "test_images = x_test[0:1000].reshape(1000, 28*28) / 255\n",
        "test_labels = np.zeros((len(y_test), 10))\n",
        "for i,l in enumerate(y_test):\n",
        "  test_labels[i][l] = 1"
      ],
      "execution_count": null,
      "outputs": []
    },
    {
      "cell_type": "code",
      "metadata": {
        "id": "LeTErz13l8QI"
      },
      "source": [
        "np.random.seed(1)\n",
        "relu = lambda x: (x > 0) * x\n",
        "relu2deriv = lambda x: x >= 0\n",
        "\n",
        "#relu2deriv(0)"
      ],
      "execution_count": null,
      "outputs": []
    },
    {
      "cell_type": "code",
      "metadata": {
        "id": "VVbinFXflyW9"
      },
      "source": [
        "alpha = 0.005\n",
        "iterations = 350\n",
        "hidden_size = 40\n",
        "pixels_img = 784\n",
        "num_labels = 10"
      ],
      "execution_count": null,
      "outputs": []
    },
    {
      "cell_type": "code",
      "metadata": {
        "id": "X7kNsyW7qJfg"
      },
      "source": [
        "weights_0_1 = 0.2 * np.random.random((pixels_img, hidden_size)) - 0.1\n",
        "weights_1_2 = 0.2 * np.random.random((hidden_size, num_labels)) - 0.1"
      ],
      "execution_count": null,
      "outputs": []
    },
    {
      "cell_type": "code",
      "metadata": {
        "colab": {
          "base_uri": "https://localhost:8080/"
        },
        "id": "eF-HbKILqiTX",
        "outputId": "0dd27781-558b-4bcd-cb21-e26ff2c66072"
      },
      "source": [
        "# train\n",
        "for j in range(iterations):\n",
        "  error, correct_cnt = (0.0, 0)\n",
        "\n",
        "  for i in range(len(images)):\n",
        "    layer_0 = images[i:i+1]\n",
        "    layer_1 = relu(np.dot(layer_0, weights_0_1))\n",
        "    layer_2 = np.dot(layer_1, weights_1_2)\n",
        "    error += np.sum((labels[i:i+1] - layer_2) ** 2)\n",
        "    correct_cnt += int(np.argmax(layer_2) == np.argmax(labels[i:i+1]))\n",
        "    layer_2_delta = labels[i:i+1] - layer_2\n",
        "    layer_1_delta = layer_2_delta.dot(weights_1_2.T) * relu2deriv(layer_1)\n",
        "    weights_1_2 += alpha * layer_1.T.dot(layer_2_delta)\n",
        "    weights_0_1 += alpha * layer_0.T.dot(layer_1_delta)\n",
        "\n",
        "  sys.stdout.write(\"\\r\" +\\\n",
        "                   \" I:\" + str(j) +\\\n",
        "                   \" Error:\" + str(error/float(len(images)))[0:5] +\\\n",
        "                   \" Correct:\" + str(correct_cnt/float(len(images))))\n",
        "  "
      ],
      "execution_count": null,
      "outputs": [
        {
          "output_type": "stream",
          "text": [
            " I:349 Error:0.106 Correct:1.0"
          ],
          "name": "stdout"
        }
      ]
    },
    {
      "cell_type": "code",
      "metadata": {
        "colab": {
          "base_uri": "https://localhost:8080/"
        },
        "id": "4tqW2xPqqk68",
        "outputId": "8ac62d3f-bb9b-4cd8-d35c-6e5e38257d7a"
      },
      "source": [
        "# test\n",
        "if (j % 10 == 0 or j == iterations - 1):\n",
        "  error, correct_cnt = (0.0, 0)\n",
        "\n",
        "  for i in range(len(test_images)):\n",
        "    layer_0 = test_images[i:i+1]\n",
        "    layer_1 = relu(np.dot(layer_0, weights_0_1))\n",
        "    layer_2 = np.dot(layer_1, weights_1_2)\n",
        "\n",
        "    error += np.sum((test_labels[i:i+1] - layer_2) ** 2)\n",
        "    correct_cnt += int(np.argmax(layer_2) == np.argmax(test_labels[i:i+1]))\n",
        "\n",
        "  sys.stdout.write(\" Test-Err:\" + str(error/float(len(test_images)))[0:5] +\\\n",
        "                      \" Test-Acc:\" + str(correct_cnt/float(len(test_images))))\n",
        "  print()\n"
      ],
      "execution_count": null,
      "outputs": [
        {
          "output_type": "stream",
          "text": [
            " Test-Err:0.765 Test-Acc:0.638\n"
          ],
          "name": "stdout"
        }
      ]
    },
    {
      "cell_type": "code",
      "metadata": {
        "id": "AGGjsNiSx9b6"
      },
      "source": [
        ""
      ],
      "execution_count": null,
      "outputs": []
    }
  ]
}