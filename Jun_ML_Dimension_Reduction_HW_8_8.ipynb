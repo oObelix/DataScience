{
  "nbformat": 4,
  "nbformat_minor": 0,
  "metadata": {
    "kernelspec": {
      "display_name": "Python 3",
      "language": "python",
      "name": "python3"
    },
    "language_info": {
      "codemirror_mode": {
        "name": "ipython",
        "version": 3
      },
      "file_extension": ".py",
      "mimetype": "text/x-python",
      "name": "python",
      "nbconvert_exporter": "python",
      "pygments_lexer": "ipython3",
      "version": "3.6.3"
    },
    "colab": {
      "name": "Jun ML Dimension_Reduction_HW 8.8.ipynb",
      "provenance": [],
      "collapsed_sections": [],
      "include_colab_link": true
    }
  },
  "cells": [
    {
      "cell_type": "markdown",
      "metadata": {
        "id": "view-in-github",
        "colab_type": "text"
      },
      "source": [
        "<a href=\"https://colab.research.google.com/github/oObelix/DataScience/blob/master/Jun_ML_Dimension_Reduction_HW_8_8.ipynb\" target=\"_parent\"><img src=\"https://colab.research.google.com/assets/colab-badge.svg\" alt=\"Open In Colab\"/></a>"
      ]
    },
    {
      "cell_type": "markdown",
      "metadata": {
        "id": "q92frZ1hzNT3"
      },
      "source": [
        "## Урок 8. Домашнее задание \n",
        "### 8.1 Задание высокого уровня\n",
        "\n",
        "Давайте проверим, как t-sne может улучшить Ваши модели. Для начала загрузим данные и построим Baseline модель без преобразования входных данных"
      ]
    },
    {
      "cell_type": "code",
      "metadata": {
        "id": "_gcQ-CQ3zNUQ"
      },
      "source": [
        "import pandas as pd\n",
        "from sklearn.tree import DecisionTreeClassifier\n",
        "from sklearn.model_selection import train_test_split\n",
        "from sklearn.metrics import accuracy_score, roc_auc_score\n",
        "\n",
        "def eval_model(input_x, input_y):\n",
        "    \"\"\"Обучаем и валидируем модель\"\"\"\n",
        "    X_train, X_test, y_train, y_test = train_test_split(\n",
        "        input_x, input_y, test_size=.3, stratify=y, random_state=42\n",
        "    )\n",
        "    # Для примера возьмём неглубокое дерево решений\n",
        "    clf = DecisionTreeClassifier(max_depth=2, random_state=42)\n",
        "    clf.fit(X_train, y_train)\n",
        "    preds = clf.predict_proba(X_test)\n",
        "    acc_score = accuracy_score(y_test, preds.argmax(axis=1))\n",
        "    print('Accuracy: %.5f' % acc_score)\n",
        "    \n",
        "df_source = pd.read_csv('sample_data/client_segmentation.csv')\n",
        "X = df_source[['call_diff','sms_diff','traffic_diff']].values\n",
        "y = df_source.customes_class.values"
      ],
      "execution_count": null,
      "outputs": []
    },
    {
      "cell_type": "markdown",
      "metadata": {
        "id": "EGcbYYxLzNUq"
      },
      "source": [
        "Вычисляем скор baseline модели (по тестовым данным)"
      ]
    },
    {
      "cell_type": "code",
      "metadata": {
        "id": "iM-fSpU1zNUw",
        "colab": {
          "base_uri": "https://localhost:8080/"
        },
        "outputId": "2cc3f363-52ca-4118-c495-15280e96e1b5"
      },
      "source": [
        "eval_model(X, y)"
      ],
      "execution_count": null,
      "outputs": [
        {
          "output_type": "stream",
          "text": [
            "Accuracy: 0.80000\n"
          ],
          "name": "stdout"
        }
      ]
    },
    {
      "cell_type": "markdown",
      "metadata": {
        "id": "bWmS26jdzNVJ"
      },
      "source": [
        "Алгоритм выполнения домашней работы:\n",
        "\n",
        "* выполните PCA преобразование матрицы $X$, передайте новую матрицу в `eval_model`. Какое значение Accuracy получили?\n",
        "* выполните t-sne преобразование матрицы $X$, передайте новую матрицу в `eval_model`. Какое значение Accuracy получили?\n",
        "\n",
        "Какие выводы можно сделать?"
      ]
    },
    {
      "cell_type": "code",
      "metadata": {
        "colab": {
          "base_uri": "https://localhost:8080/"
        },
        "id": "7okizYrcv7zk",
        "outputId": "ee6ee882-31f2-4444-98b7-b50b5009357e"
      },
      "source": [
        "from sklearn.decomposition import PCA\n",
        "\n",
        "pca = PCA(n_components=2).fit(X)\n",
        "X_pca = pca.transform(X)\n",
        "# X_pca[:10]\n",
        "eval_model(X_pca, y)"
      ],
      "execution_count": null,
      "outputs": [
        {
          "output_type": "stream",
          "text": [
            "Accuracy: 0.83333\n"
          ],
          "name": "stdout"
        }
      ]
    },
    {
      "cell_type": "code",
      "metadata": {
        "colab": {
          "base_uri": "https://localhost:8080/"
        },
        "id": "isPHdPPSw4BU",
        "outputId": "1ecad3fb-d694-44b8-e01b-cae33c94b2dd"
      },
      "source": [
        "from sklearn.manifold import TSNE\n",
        "\n",
        "tsne = TSNE(n_components=2)\n",
        "X_tsne = tsne.fit_transform(X)\n",
        "# X_tsne[:10]\n",
        "eval_model(X_tsne, y)"
      ],
      "execution_count": null,
      "outputs": [
        {
          "output_type": "stream",
          "text": [
            "Accuracy: 0.93333\n"
          ],
          "name": "stdout"
        }
      ]
    },
    {
      "cell_type": "markdown",
      "metadata": {
        "id": "hDZy41-7xtwy"
      },
      "source": [
        "### Вывод: TSNE трансформация намного лучше разделила данные, это видно по результирующим скорам DecisionTreeClassifier из eval_model. В данном случае максимальный результат на тестовой выборке получен именно на TSNE. PCA заметно отстаёт."
      ]
    },
    {
      "cell_type": "markdown",
      "metadata": {
        "id": "i-qWNTVlzNVa"
      },
      "source": [
        "В этом уроке мы познакомились с новым алгоритмом t-SNE. Какие у него есть недостатки?\n",
        "\n",
        "* требует бережной настройки параметров на валидационной выборке (см. документацию - там очень много параметров)\n",
        "* плохо работает, когда данных очень много.\n",
        "\n",
        "На больших объёмах данных (более 10к элементов) следует применять более простые алгоритмы - PCA или SVD."
      ]
    }
  ]
}