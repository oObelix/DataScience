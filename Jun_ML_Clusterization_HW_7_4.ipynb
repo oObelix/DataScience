{
  "nbformat": 4,
  "nbformat_minor": 0,
  "metadata": {
    "colab": {
      "name": "Jun ML Clusterization HW 7.4.ipynb",
      "provenance": [],
      "collapsed_sections": [],
      "include_colab_link": true
    },
    "kernelspec": {
      "display_name": "Python 3",
      "language": "python",
      "name": "python3"
    },
    "language_info": {
      "codemirror_mode": {
        "name": "ipython",
        "version": 3
      },
      "file_extension": ".py",
      "mimetype": "text/x-python",
      "name": "python",
      "nbconvert_exporter": "python",
      "pygments_lexer": "ipython3",
      "version": "3.6.3"
    }
  },
  "cells": [
    {
      "cell_type": "markdown",
      "metadata": {
        "id": "view-in-github",
        "colab_type": "text"
      },
      "source": [
        "<a href=\"https://colab.research.google.com/github/oObelix/DataScience/blob/master/Jun_ML_Clusterization_HW_7_4.ipynb\" target=\"_parent\"><img src=\"https://colab.research.google.com/assets/colab-badge.svg\" alt=\"Open In Colab\"/></a>"
      ]
    },
    {
      "cell_type": "markdown",
      "metadata": {
        "id": "ToOBomb3PAB4"
      },
      "source": [
        "## Урок 4. Домашнее задание \n",
        "\n",
        "### 4.1 Домашнее задание начального уровня\n",
        "\n",
        "Потренируйтесь в программировании на python. Надо будет найти расстояние от каждой точки из массива $X$ до центра кластера, а потом просуммировать эти расстояния. Это будет реализацией библиотечной функции `sklearn.metrics.pairwise.euclidean_distances` из первого урока.  В итоге у Вас должно получиться число чуть более $16$ - это и будет расстояние.\n",
        "$$\n",
        "\\sum_{i=1}^{k} \\mid x_i - c \\mid\n",
        "$$\n",
        "\n",
        "где для одного обучающего примера x, состоящего из двух координат:\n",
        "$$\n",
        "\\mid x - c \\mid = (x_1-c_1)^2 + (x_2-c_2)^2\n",
        "$$\n",
        "\n",
        "**Примечание** Как вы уже знаете из урока про линейную регрессию, в этой формуле должен быть квадратный корень, но для скорости работы мы опускаем его.\n",
        "\n",
        "**Подсказка** Средствами библиотеки numpy реализуйте формулу нахождения суммы внутрикластерных расстояний"
      ]
    },
    {
      "cell_type": "code",
      "metadata": {
        "id": "nY5dFMW8PACP",
        "colab": {
          "base_uri": "https://localhost:8080/"
        },
        "outputId": "3b6f40c0-e80f-4abe-ccb3-cc348b71d682"
      },
      "source": [
        "import numpy as np\n",
        "\n",
        "clust = np.array([\n",
        " [-0.5972191612445694, -0.5919098916910581],\n",
        " [-1.5838020751869848, 0.4743393635868491],\n",
        " [-1.892642118066139, -1.2770390481464395],\n",
        " [-1.021761443519372, -0.38446059106320013],\n",
        " [-0.628271339507516, -2.308149346281125],\n",
        " [-0.7180915776856387, 1.1805550909358404],\n",
        " [-1.543143767548152, -1.4163791359687334],\n",
        " [0.022103701018375554, -1.1279478858865397],\n",
        " [-0.7776518874305778, -0.4157532453316538],\n",
        " [-1.2073577296008344, -1.1308523658604184]\n",
        "])\n",
        "\n",
        "centroid = np.array([-0.9774245525274352, -0.032635425821084516])\n",
        "\n",
        "# -- ВАШ КОД ТУТ --\n",
        "\n",
        "\n",
        "# np.linalg.norm(clust - centroid)\n",
        "# np.linalg.norm(clust - centroid)**2\n",
        "\n",
        "sum([(xi[0]-centroid[0])**2 + (xi[1]-centroid[1])**2  for xi in clust])\n",
        "np.array([(xi[0]-centroid[0])**2 + (xi[1]-centroid[1])**2 for xi in clust]).sum()\n"
      ],
      "execution_count": null,
      "outputs": [
        {
          "output_type": "execute_result",
          "data": {
            "text/plain": [
              "16.31211696438564"
            ]
          },
          "metadata": {
            "tags": []
          },
          "execution_count": 34
        }
      ]
    },
    {
      "cell_type": "markdown",
      "metadata": {
        "id": "O2lFNZ_EPACV"
      },
      "source": [
        "### 4.2 Домашнее задание начального уровня  \n",
        "\n",
        "Обучите алгоритм k-средних для количества кластеров $n=3$ на том же датасете, который содержится в файле `data/clustering.pkl`. Визуализируйте результат:"
      ]
    },
    {
      "cell_type": "code",
      "metadata": {
        "id": "GkTkaXo1PACW",
        "colab": {
          "base_uri": "https://localhost:8080/",
          "height": 265
        },
        "outputId": "e2704339-8a2c-4df7-a9a8-cdb1d084ed83"
      },
      "source": [
        "# -- ВАШ КОД ТУТ --\n",
        "\n",
        "import pickle\n",
        "\n",
        "with open('sample_data/clustering.pkl', 'rb') as f:\n",
        "  clustering = pickle.load(f)\n",
        "\n",
        "clustering\n",
        "\n",
        "X = np.array(clustering['X'])\n",
        "# y = np.array(clustering['Y'])\n",
        "\n",
        "from sklearn.cluster import KMeans\n",
        "\n",
        "km_model = KMeans(n_clusters=3)\n",
        "km_model.fit(X)\n",
        "\n",
        "from matplotlib import pyplot as plt\n",
        "\n",
        "plt.scatter(X[:, 0], X[:, 1], c=km_model.labels_)\n",
        "plt.show()\n"
      ],
      "execution_count": null,
      "outputs": [
        {
          "output_type": "display_data",
          "data": {
            "image/png": "[encoded data removed]",
            "text/plain": [
              "<Figure size 432x288 with 1 Axes>"
            ]
          },
          "metadata": {
            "tags": [],
            "needs_background": "light"
          }
        }
      ]
    },
    {
      "cell_type": "markdown",
      "metadata": {
        "id": "kxSaSMsuPACd"
      },
      "source": [
        "### 4.3 Домашнее задание высокого уровня\n",
        "\n",
        "Мы узнали про эвристику, улучшающую алгоритм: запустить несколько раз алгоритм, запомнить, куда попали центроиды при каждом запуске, а потом усреднить координаты за все несколько запуска.\n",
        "\n",
        "Попробуйте применить эту эвристику на практике: \n",
        "\n",
        "* используйте 10 запусков алгоритма $k$-средних для $k=2$ с параметрами\n",
        "<pre>\n",
        "kmeans_model = KMeans(n_clusters=2, n_init=1, random_state=None, algorithm='full', max_iter=2)\n",
        "</pre>\n",
        "* в каждом запуске сохраняйте координаты центроидов общий массив $c$. См. `cluster_centers_ : array, [n_clusters, n_features]`\n",
        "* визуализируйте координаты точек из $c$ на фоне исходного множества точек\n",
        "\n",
        "Результат будет примерно такой:\n",
        "![several_init_knn](https://248006.selcdn.ru/public/DS.%20Block%202.%20M7/several_init_knn.png)"
      ]
    },
    {
      "cell_type": "code",
      "metadata": {
        "id": "Y7TYD_kRPACg",
        "colab": {
          "base_uri": "https://localhost:8080/",
          "height": 265
        },
        "outputId": "27d43a98-362a-4075-ece6-1e3478e8589e"
      },
      "source": [
        "# -- ВАШ КОД ТУТ --\n",
        "\n",
        "plt.scatter(X[:, 0], X[:, 1], alpha=.4)\n",
        "\n",
        "cluster0_centr = []\n",
        "cluster1_centr = []\n",
        "for i in range(10):\n",
        "  km_model = KMeans(n_clusters=2, n_init=1, random_state=None, \n",
        "                    algorithm='full', max_iter=2)\n",
        "  km_model.fit(X)\n",
        "  # print(km_model.cluster_centers_)\n",
        "  cluster0_centr.append(km_model.cluster_centers_[0])\n",
        "  cluster1_centr.append(km_model.cluster_centers_[1])\n",
        "\n",
        "cluster0_centr = np.array(cluster0_centr)\n",
        "cluster1_centr = np.array(cluster1_centr)\n",
        "\n",
        "plt.scatter(cluster0_centr[:, 0], cluster0_centr[:, 1], c='red', s=80, marker='x')\n",
        "plt.scatter(cluster1_centr[:, 0], cluster1_centr[:, 1], c='orange', s=80, marker='x')\n",
        "\n",
        "plt.show()"
      ],
      "execution_count": null,
      "outputs": [
        {
          "output_type": "display_data",
          "data": {
            "image/png": "[encoded data removed]",
            "text/plain": [
              "<Figure size 432x288 with 1 Axes>"
            ]
          },
          "metadata": {
            "tags": [],
            "needs_background": "light"
          }
        }
      ]
    },
    {
      "cell_type": "markdown",
      "metadata": {
        "id": "rldfAxyWPACk"
      },
      "source": [
        "Мы выяснили, что один из недостатков алгоритма k-средних состоит в том, что количество кластеров надо задать до тренировки модели, но как же определить, сколько будет кластеров в данных? Для этой задачи существует эффективный алгоритм, о котором мы поговорим в следующем уроке."
      ]
    },
    {
      "cell_type": "code",
      "metadata": {
        "id": "ZH1FEaT8T-pe"
      },
      "source": [
        ""
      ],
      "execution_count": null,
      "outputs": []
    }
  ]
}