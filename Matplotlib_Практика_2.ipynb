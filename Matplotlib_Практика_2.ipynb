{
  "nbformat": 4,
  "nbformat_minor": 0,
  "metadata": {
    "kernelspec": {
      "display_name": "Python 3",
      "language": "python",
      "name": "python3"
    },
    "language_info": {
      "codemirror_mode": {
        "name": "ipython",
        "version": 3
      },
      "file_extension": ".py",
      "mimetype": "text/x-python",
      "name": "python",
      "nbconvert_exporter": "python",
      "pygments_lexer": "ipython3",
      "version": "3.7.4"
    },
    "colab": {
      "name": "Matplotlib Практика 2.ipynb",
      "provenance": [],
      "collapsed_sections": [],
      "toc_visible": true,
      "include_colab_link": true
    }
  },
  "cells": [
    {
      "cell_type": "markdown",
      "metadata": {
        "id": "view-in-github",
        "colab_type": "text"
      },
      "source": [
        "<a href=\"https://colab.research.google.com/github/oObelix/DataScience/blob/master/Matplotlib_%D0%9F%D1%80%D0%B0%D0%BA%D1%82%D0%B8%D0%BA%D0%B0_2.ipynb\" target=\"_parent\"><img src=\"https://colab.research.google.com/assets/colab-badge.svg\" alt=\"Open In Colab\"/></a>"
      ]
    },
    {
      "cell_type": "markdown",
      "metadata": {
        "id": "ZiS-LoTlkNxX"
      },
      "source": [
        "# Основы визуализации данных с помощью matplotlib"
      ]
    },
    {
      "cell_type": "code",
      "metadata": {
        "id": "Fqx7uXaKkNxd"
      },
      "source": [
        "import pandas as pd\n",
        "import matplotlib.pyplot as plt"
      ],
      "execution_count": 22,
      "outputs": []
    },
    {
      "cell_type": "markdown",
      "metadata": {
        "id": "yOx2VCUtkNxd"
      },
      "source": [
        "## Урок 2. Знакомство с matplotlib.pyplot\n",
        "\n",
        "### Практика\n",
        "\n",
        "#### Задание 1\n",
        "\n",
        "Загрузите файл `wage_data.csv` в DataFrame. Постройте линейный график изменения минимальной зарплаты (признак Salary), усредненной по всем штатам"
      ]
    },
    {
      "cell_type": "code",
      "metadata": {
        "id": "14idZ-mhkNxe",
        "colab": {
          "base_uri": "https://localhost:8080/"
        },
        "outputId": "732676da-f41b-4a6e-e880-08d5d70488b0"
      },
      "source": [
        "!ls sample_data"
      ],
      "execution_count": 23,
      "outputs": [
        {
          "output_type": "stream",
          "text": [
            "anscombe.json\t\t      mnist_test.csv\t     wage-data.csv\n",
            "california_housing_test.csv   mnist_train_small.csv\n",
            "california_housing_train.csv  README.md\n"
          ],
          "name": "stdout"
        }
      ]
    },
    {
      "cell_type": "code",
      "metadata": {
        "colab": {
          "base_uri": "https://localhost:8080/",
          "height": 419
        },
        "id": "f7K6-ntPgnKy",
        "outputId": "26a55a52-a2dd-46fd-ff7d-5e6c7e04c042"
      },
      "source": [
        "df = pd.read_csv('sample_data/wage-data.csv')\n",
        "df"
      ],
      "execution_count": 24,
      "outputs": [
        {
          "output_type": "execute_result",
          "data": {
            "text/html": [
              "<div>\n",
              "<style scoped>\n",
              "    .dataframe tbody tr th:only-of-type {\n",
              "        vertical-align: middle;\n",
              "    }\n",
              "\n",
              "    .dataframe tbody tr th {\n",
              "        vertical-align: top;\n",
              "    }\n",
              "\n",
              "    .dataframe thead th {\n",
              "        text-align: right;\n",
              "    }\n",
              "</style>\n",
              "<table border=\"1\" class=\"dataframe\">\n",
              "  <thead>\n",
              "    <tr style=\"text-align: right;\">\n",
              "      <th></th>\n",
              "      <th>Year</th>\n",
              "      <th>State</th>\n",
              "      <th>Salary</th>\n",
              "    </tr>\n",
              "  </thead>\n",
              "  <tbody>\n",
              "    <tr>\n",
              "      <th>0</th>\n",
              "      <td>1968</td>\n",
              "      <td>Alabama</td>\n",
              "      <td>0.00000</td>\n",
              "    </tr>\n",
              "    <tr>\n",
              "      <th>1</th>\n",
              "      <td>1968</td>\n",
              "      <td>Alaska</td>\n",
              "      <td>2.10000</td>\n",
              "    </tr>\n",
              "    <tr>\n",
              "      <th>2</th>\n",
              "      <td>1968</td>\n",
              "      <td>Arizona</td>\n",
              "      <td>0.66000</td>\n",
              "    </tr>\n",
              "    <tr>\n",
              "      <th>3</th>\n",
              "      <td>1968</td>\n",
              "      <td>Arkansas</td>\n",
              "      <td>0.15625</td>\n",
              "    </tr>\n",
              "    <tr>\n",
              "      <th>4</th>\n",
              "      <td>1968</td>\n",
              "      <td>California</td>\n",
              "      <td>1.65000</td>\n",
              "    </tr>\n",
              "    <tr>\n",
              "      <th>...</th>\n",
              "      <td>...</td>\n",
              "      <td>...</td>\n",
              "      <td>...</td>\n",
              "    </tr>\n",
              "    <tr>\n",
              "      <th>2745</th>\n",
              "      <td>2017</td>\n",
              "      <td>Virginia</td>\n",
              "      <td>7.25000</td>\n",
              "    </tr>\n",
              "    <tr>\n",
              "      <th>2746</th>\n",
              "      <td>2017</td>\n",
              "      <td>Washington</td>\n",
              "      <td>11.00000</td>\n",
              "    </tr>\n",
              "    <tr>\n",
              "      <th>2747</th>\n",
              "      <td>2017</td>\n",
              "      <td>West Virginia</td>\n",
              "      <td>8.75000</td>\n",
              "    </tr>\n",
              "    <tr>\n",
              "      <th>2748</th>\n",
              "      <td>2017</td>\n",
              "      <td>Wisconsin</td>\n",
              "      <td>7.25000</td>\n",
              "    </tr>\n",
              "    <tr>\n",
              "      <th>2749</th>\n",
              "      <td>2017</td>\n",
              "      <td>Wyoming</td>\n",
              "      <td>5.15000</td>\n",
              "    </tr>\n",
              "  </tbody>\n",
              "</table>\n",
              "<p>2750 rows × 3 columns</p>\n",
              "</div>"
            ],
            "text/plain": [
              "      Year          State    Salary\n",
              "0     1968        Alabama   0.00000\n",
              "1     1968         Alaska   2.10000\n",
              "2     1968        Arizona   0.66000\n",
              "3     1968       Arkansas   0.15625\n",
              "4     1968     California   1.65000\n",
              "...    ...            ...       ...\n",
              "2745  2017       Virginia   7.25000\n",
              "2746  2017     Washington  11.00000\n",
              "2747  2017  West Virginia   8.75000\n",
              "2748  2017      Wisconsin   7.25000\n",
              "2749  2017        Wyoming   5.15000\n",
              "\n",
              "[2750 rows x 3 columns]"
            ]
          },
          "metadata": {
            "tags": []
          },
          "execution_count": 24
        }
      ]
    },
    {
      "cell_type": "code",
      "metadata": {
        "id": "fBMUdmFEg6QX",
        "colab": {
          "base_uri": "https://localhost:8080/"
        },
        "outputId": "a30eea7d-a5fe-40d7-a4a6-0c1b0f096089"
      },
      "source": [
        "series = df.groupby('Year')['Salary'].mean()\n",
        "series"
      ],
      "execution_count": 25,
      "outputs": [
        {
          "output_type": "execute_result",
          "data": {
            "text/plain": [
              "Year\n",
              "1968    0.918819\n",
              "1969    0.918819\n",
              "1970    1.015000\n",
              "1971    1.015000\n",
              "1972    1.213148\n",
              "1973    1.213148\n",
              "1974    1.213148\n",
              "1975    1.213148\n",
              "1976    1.655741\n",
              "1977    1.655741\n",
              "1978    1.655741\n",
              "1979    2.026182\n",
              "1980    2.165818\n",
              "1981    2.321273\n",
              "1982    2.321273\n",
              "1983    2.321273\n",
              "1984    2.321273\n",
              "1985    2.321273\n",
              "1986    2.321273\n",
              "1987    2.321273\n",
              "1988    2.668182\n",
              "1989    2.668182\n",
              "1990    2.668182\n",
              "1991    3.258182\n",
              "1992    3.530364\n",
              "1993    3.530364\n",
              "1994    3.611273\n",
              "1995    3.611273\n",
              "1996    3.675818\n",
              "1997    3.928545\n",
              "1998    4.245091\n",
              "1999    4.245091\n",
              "2000    4.410909\n",
              "2001    4.485818\n",
              "2002    4.655455\n",
              "2003    4.713818\n",
              "2004    4.765636\n",
              "2005    4.820909\n",
              "2006    5.036000\n",
              "2007    5.574182\n",
              "2008    5.923455\n",
              "2009    6.210000\n",
              "2010    6.642727\n",
              "2011    6.673273\n",
              "2012    6.720182\n",
              "2013    6.749273\n",
              "2014    6.913273\n",
              "2015    7.186000\n",
              "2016    7.381091\n",
              "2017    7.575273\n",
              "Name: Salary, dtype: float64"
            ]
          },
          "metadata": {
            "tags": []
          },
          "execution_count": 25
        }
      ]
    },
    {
      "cell_type": "markdown",
      "metadata": {
        "id": "UkQjRqxBuCjV"
      },
      "source": [
        "### Отображаем простейший график"
      ]
    },
    {
      "cell_type": "code",
      "metadata": {
        "colab": {
          "base_uri": "https://localhost:8080/",
          "height": 282
        },
        "id": "CKpnL38fo_OI",
        "outputId": "3f33acba-3597-4913-aa0e-4c580008334a"
      },
      "source": [
        "plt.plot(series)"
      ],
      "execution_count": 27,
      "outputs": [
        {
          "output_type": "execute_result",
          "data": {
            "text/plain": [
              "[<matplotlib.lines.Line2D at 0x7f49132c8250>]"
            ]
          },
          "metadata": {
            "tags": []
          },
          "execution_count": 27
        },
        {
          "output_type": "display_data",
          "data": {
            "image/png": "[encoded data removed]",
            "text/plain": [
              "<Figure size 432x288 with 1 Axes>"
            ]
          },
          "metadata": {
            "tags": [],
            "needs_background": "light"
          }
        }
      ]
    },
    {
      "cell_type": "markdown",
      "metadata": {
        "id": "RQG9OrsHuIAV"
      },
      "source": [
        "### Добавляем к графику подписи осей и отображаем его корректно."
      ]
    },
    {
      "cell_type": "code",
      "metadata": {
        "id": "j3d6P0serHv3",
        "colab": {
          "base_uri": "https://localhost:8080/",
          "height": 281
        },
        "outputId": "29f83e5c-d63c-4329-d637-347dc7ddec57"
      },
      "source": [
        "plt.plot(series)\n",
        "plt.title('Усреднённая зарплата по всем штатам по годам')\n",
        "plt.ylabel('$/час')\n",
        "plt.show()"
      ],
      "execution_count": 53,
      "outputs": [
        {
          "output_type": "display_data",
          "data": {
            "image/png": "[encoded data removed]",
            "text/plain": [
              "<Figure size 432x288 with 1 Axes>"
            ]
          },
          "metadata": {
            "tags": [],
            "needs_background": "light"
          }
        }
      ]
    },
    {
      "cell_type": "markdown",
      "metadata": {
        "id": "VRXgdxA_uPG4"
      },
      "source": [
        "### Улучшаем точность оси x"
      ]
    },
    {
      "cell_type": "code",
      "metadata": {
        "colab": {
          "base_uri": "https://localhost:8080/",
          "height": 281
        },
        "id": "DWwmZxuQuAM_",
        "outputId": "b1a35c87-5b82-47a4-b782-354b978535c8"
      },
      "source": [
        "plt.plot(series)\n",
        "plt.title('Усреднённая зарплата по всем штатам по годам')\n",
        "plt.ylabel('$/час')\n",
        "# Создаём шкалу с минимальным и максимальным годом включительно\n",
        "x_range = list(range(series.index.min(), series.index.max() + 1, 10))\n",
        "x_range.append(series.index.max())\n",
        "plt.xticks(x_range)\n",
        "plt.show()"
      ],
      "execution_count": 52,
      "outputs": [
        {
          "output_type": "display_data",
          "data": {
            "image/png": "[encoded data removed]",
            "text/plain": [
              "<Figure size 432x288 with 1 Axes>"
            ]
          },
          "metadata": {
            "tags": [],
            "needs_background": "light"
          }
        }
      ]
    },
    {
      "cell_type": "code",
      "metadata": {
        "id": "PUi-PbSMx9wI"
      },
      "source": [
        ""
      ],
      "execution_count": null,
      "outputs": []
    }
  ]
}