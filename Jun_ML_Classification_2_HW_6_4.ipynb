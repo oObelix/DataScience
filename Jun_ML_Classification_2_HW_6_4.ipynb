{
  "nbformat": 4,
  "nbformat_minor": 0,
  "metadata": {
    "kernelspec": {
      "display_name": "Python 3",
      "language": "python",
      "name": "python3"
    },
    "language_info": {
      "codemirror_mode": {
        "name": "ipython",
        "version": 3
      },
      "file_extension": ".py",
      "mimetype": "text/x-python",
      "name": "python",
      "nbconvert_exporter": "python",
      "pygments_lexer": "ipython3",
      "version": "3.6.3"
    },
    "colab": {
      "name": "Jun ML Classification-2 HW  6.4.ipynb",
      "provenance": [],
      "collapsed_sections": [],
      "include_colab_link": true
    }
  },
  "cells": [
    {
      "cell_type": "markdown",
      "metadata": {
        "id": "view-in-github",
        "colab_type": "text"
      },
      "source": [
        "<a href=\"https://colab.research.google.com/github/oObelix/DataScience/blob/master/Jun_ML_Classification_2_HW_6_4.ipynb\" target=\"_parent\"><img src=\"https://colab.research.google.com/assets/colab-badge.svg\" alt=\"Open In Colab\"/></a>"
      ]
    },
    {
      "cell_type": "markdown",
      "metadata": {
        "id": "p0RpWMuyhXNc"
      },
      "source": [
        "# Урок 4. Метрики качества классификации ч.2\n",
        "\n",
        "Продолжим работу с метриками классификации. В предыдущем задании мы разобрали матрицу ошибок и две основные метрики, которые используются при бинарной классификации.\n",
        "\n",
        "Сейчас рассмотрим F-меру - совокупную метрику по precision и recall - и более сложную AUC-ROC."
      ]
    },
    {
      "cell_type": "markdown",
      "metadata": {
        "id": "desLnfjBhXNe"
      },
      "source": [
        "### 2.1\n",
        "Из задания к предыдущему уроку выберите классификатор, который давал наименьшее значение recall, вычислите для него precision, применив precision_score, и самостоятельно посчитайте F1-меру (расчеты должны присутствовать). Затем проверьте ответ, используя встроенную функцию.\n",
        "\n",
        "Сравните полученную f1-меру со значением среднего арифметического полноты и точности."
      ]
    },
    {
      "cell_type": "code",
      "metadata": {
        "id": "PqBv_cQmhXNf"
      },
      "source": [
        "from sklearn.metrics import precision_score, recall_score, f1_score\n",
        "\n",
        "import pandas as pd\n",
        "from sklearn.model_selection import train_test_split\n",
        "from sklearn.neighbors import KNeighborsClassifier\n",
        "from sklearn.naive_bayes import GaussianNB\n",
        "from sklearn.tree import DecisionTreeClassifier\n",
        "from sklearn.linear_model import LogisticRegression\n",
        "from sklearn.metrics import confusion_matrix"
      ],
      "execution_count": null,
      "outputs": []
    },
    {
      "cell_type": "code",
      "metadata": {
        "id": "7inF9IHdhXNl"
      },
      "source": [
        "### YOUR CODE HERE ###\n",
        "\n",
        "\n",
        "df = pd.read_csv('sample_data/train.csv')\n",
        "age_median = df.groupby('Sex')['Age'].median()\n",
        "\n",
        "def age_replace(row, age_median_female, age_median_male):\n",
        "  if pd.isnull(row['Cabin']):\n",
        "    row['Cabin'] = 'U'\n",
        "  if pd.isnull(row['Embarked']):\n",
        "    row['Embarked'] = 'U'\n",
        "  if pd.isnull(row['Age']):\n",
        "    if row['Sex'] == 'female':\n",
        "      row['Age'] = age_median_female\n",
        "    else:\n",
        "      row['Age'] = age_median_male\n",
        "  return row\n",
        "\n",
        "df_age_median = df.apply(age_replace, args = [age_median['female'], \n",
        "                                              age_median['male']], axis = 1)\n",
        "df_1 = df_age_median.replace({'Sex': {'male': 0, 'female': 1}, \n",
        "                       'Embarked': {\"U\": 0, \"S\": 1, \"C\": 2, \"Q\": 3}}) \\\n",
        "                       .drop(columns=['PassengerId', 'Name', 'Ticket', 'Cabin'])\n",
        "df_survived = df_1['Survived']\n",
        "df_2 = df_1.drop(columns=['Survived'])\n",
        "\n",
        "x_train, x_test, y_train, y_test = train_test_split(df_2, df_survived, \n",
        "                                                    test_size=0.25, \n",
        "                                                    random_state=17)\n",
        "\n",
        "model_knc = KNeighborsClassifier(n_neighbors=5).fit(x_train, y_train)\n",
        "model_gnb = GaussianNB().fit(x_train, y_train)\n",
        "model_dtc = DecisionTreeClassifier().fit(x_train, y_train)\n",
        "model_lrg = LogisticRegression().fit(x_train, y_train)\n",
        "\n",
        "y_pred = model_knc.predict(x_test)\n"
      ],
      "execution_count": null,
      "outputs": []
    },
    {
      "cell_type": "code",
      "metadata": {
        "colab": {
          "base_uri": "https://localhost:8080/"
        },
        "id": "LWbP4lGisNkF",
        "outputId": "e1faada5-cf7d-4f47-8061-8c738dffa5b3"
      },
      "source": [
        "print('recall_score = ', recall_score(y_test, y_pred))\n",
        "print('precision_score = ', precision_score(y_test, y_pred))"
      ],
      "execution_count": null,
      "outputs": [
        {
          "output_type": "stream",
          "text": [
            "recall_score =  0.4891304347826087\n",
            "precision_score =  0.6818181818181818\n"
          ],
          "name": "stdout"
        }
      ]
    },
    {
      "cell_type": "code",
      "metadata": {
        "colab": {
          "base_uri": "https://localhost:8080/"
        },
        "id": "qTTA30vDweOS",
        "outputId": "ef0d70d3-a1c9-4b37-db08-f6d0e3371c4d"
      },
      "source": [
        "cm_knc = confusion_matrix(y_test, y_pred)\n",
        "precision = cm_knc[1][1] / (cm_knc[1][1] + cm_knc[0][1])\n",
        "recall = cm_knc[1][1] / (cm_knc[1][1] + cm_knc[1][0])\n",
        "print('precision =', precision)\n",
        "print('recall =', recall)"
      ],
      "execution_count": null,
      "outputs": [
        {
          "output_type": "stream",
          "text": [
            "precision = 0.6818181818181818\n",
            "recall = 0.4891304347826087\n"
          ],
          "name": "stdout"
        }
      ]
    },
    {
      "cell_type": "code",
      "metadata": {
        "colab": {
          "base_uri": "https://localhost:8080/"
        },
        "id": "ImywJkb7v9mP",
        "outputId": "192ffb5c-0725-46f1-b33a-bece873977d3"
      },
      "source": [
        "f1_m = 2 * precision * recall / (precision + recall)\n",
        "print('F1-measure =', f1_m)"
      ],
      "execution_count": null,
      "outputs": [
        {
          "output_type": "stream",
          "text": [
            "F1-measure = 0.5696202531645569\n"
          ],
          "name": "stdout"
        }
      ]
    },
    {
      "cell_type": "code",
      "metadata": {
        "colab": {
          "base_uri": "https://localhost:8080/"
        },
        "id": "UOqByhn_x-BE",
        "outputId": "727b4c75-e8e8-476b-9faf-114f16e929f1"
      },
      "source": [
        "f1_score(y_test, y_pred)"
      ],
      "execution_count": null,
      "outputs": [
        {
          "output_type": "execute_result",
          "data": {
            "text/plain": [
              "0.5696202531645569"
            ]
          },
          "metadata": {
            "tags": []
          },
          "execution_count": 7
        }
      ]
    },
    {
      "cell_type": "markdown",
      "metadata": {
        "id": "zx1hiPXxhXNp"
      },
      "source": [
        "В библиотеке sklearn есть удобная функция classification_report, возвращающая precision, recall, F-меру и количество экземпляров каждого класса в удобном для чтения формате. Также существует функция precision_recall_fscore_support, возвращающая те же самые метрики, но в форме массива.\n",
        "\n",
        "### 2.2\n",
        "Для каждого классификатора из предыдущего урока рассчитайте и выведите следующие импортированные метрики."
      ]
    },
    {
      "cell_type": "code",
      "metadata": {
        "id": "vhcIcGX5hXNq"
      },
      "source": [
        "from sklearn.metrics import precision_recall_fscore_support, classification_report"
      ],
      "execution_count": null,
      "outputs": []
    },
    {
      "cell_type": "code",
      "metadata": {
        "id": "zUPZhuTGhXNt",
        "colab": {
          "base_uri": "https://localhost:8080/"
        },
        "outputId": "3eab57de-08e7-440a-c58c-18fc9e53bfed"
      },
      "source": [
        "### YOUR CODE HERE ###\n",
        "\n",
        "print()\n",
        "print('KNeighborsClassifier')\n",
        "print()\n",
        "y_pred = model_knc.predict(x_test)\n",
        "print('precision_recall_fscore_support =', precision_recall_fscore_support(y_test, y_pred))\n",
        "print('classification_report =', classification_report(y_test, y_pred))\n",
        "print('-'*30)\n",
        "\n",
        "print()\n",
        "print('GaussianNB')\n",
        "print()\n",
        "y_pred = model_gnb.predict(x_test)\n",
        "print('precision_recall_fscore_support =', precision_recall_fscore_support(y_test, y_pred))\n",
        "print('classification_report =', classification_report(y_test, y_pred))\n",
        "print('-'*30)\n",
        "\n",
        "print()\n",
        "print('DecisionTreeClassifier')\n",
        "print()\n",
        "y_pred = model_dtc.predict(x_test)\n",
        "print('precision_recall_fscore_support =', precision_recall_fscore_support(y_test, y_pred))\n",
        "print('classification_report =', classification_report(y_test, y_pred))\n",
        "print('-'*30)\n",
        "\n",
        "print()\n",
        "print('LogisticRegression')\n",
        "print()\n",
        "y_pred = model_lrg.predict(x_test)\n",
        "print('precision_recall_fscore_support =', precision_recall_fscore_support(y_test, y_pred))\n",
        "print('classification_report =', classification_report(y_test, y_pred))\n",
        "print('-'*30)\n"
      ],
      "execution_count": null,
      "outputs": [
        {
          "output_type": "stream",
          "text": [
            "\n",
            "KNeighborsClassifier\n",
            "\n",
            "precision_recall_fscore_support = (array([0.70063694, 0.68181818]), array([0.83969466, 0.48913043]), array([0.76388889, 0.56962025]), array([131,  92]))\n",
            "classification_report =               precision    recall  f1-score   support\n",
            "\n",
            "           0       0.70      0.84      0.76       131\n",
            "           1       0.68      0.49      0.57        92\n",
            "\n",
            "    accuracy                           0.70       223\n",
            "   macro avg       0.69      0.66      0.67       223\n",
            "weighted avg       0.69      0.70      0.68       223\n",
            "\n",
            "------------------------------\n",
            "\n",
            "GaussianNB\n",
            "\n",
            "precision_recall_fscore_support = (array([0.80434783, 0.76470588]), array([0.84732824, 0.70652174]), array([0.82527881, 0.73446328]), array([131,  92]))\n",
            "classification_report =               precision    recall  f1-score   support\n",
            "\n",
            "           0       0.80      0.85      0.83       131\n",
            "           1       0.76      0.71      0.73        92\n",
            "\n",
            "    accuracy                           0.79       223\n",
            "   macro avg       0.78      0.78      0.78       223\n",
            "weighted avg       0.79      0.79      0.79       223\n",
            "\n",
            "------------------------------\n",
            "\n",
            "DecisionTreeClassifier\n",
            "\n",
            "precision_recall_fscore_support = (array([0.81294964, 0.78571429]), array([0.86259542, 0.7173913 ]), array([0.83703704, 0.75      ]), array([131,  92]))\n",
            "classification_report =               precision    recall  f1-score   support\n",
            "\n",
            "           0       0.81      0.86      0.84       131\n",
            "           1       0.79      0.72      0.75        92\n",
            "\n",
            "    accuracy                           0.80       223\n",
            "   macro avg       0.80      0.79      0.79       223\n",
            "weighted avg       0.80      0.80      0.80       223\n",
            "\n",
            "------------------------------\n",
            "\n",
            "LogisticRegression\n",
            "\n",
            "precision_recall_fscore_support = (array([0.8028169 , 0.79012346]), array([0.87022901, 0.69565217]), array([0.83516484, 0.73988439]), array([131,  92]))\n",
            "classification_report =               precision    recall  f1-score   support\n",
            "\n",
            "           0       0.80      0.87      0.84       131\n",
            "           1       0.79      0.70      0.74        92\n",
            "\n",
            "    accuracy                           0.80       223\n",
            "   macro avg       0.80      0.78      0.79       223\n",
            "weighted avg       0.80      0.80      0.80       223\n",
            "\n",
            "------------------------------\n"
          ],
          "name": "stdout"
        }
      ]
    },
    {
      "cell_type": "markdown",
      "metadata": {
        "id": "sAisAae0hXNx"
      },
      "source": [
        "Вернемся к классификатору LogisticRegression, который мы обучали в предыдущем задании. Там мы не затрагивали настройку гиперпараметров: сделать это можно с помощью LogisticRegressionCV - перебора параметров по сетке с последующей кросс-валидацией (по сути это аналог GridSearchCV, но со своими параметрами внутри, применимыми только к логистической регрессии). Этот класс создан специально для логистической регрессии, т.к. для нее известны эффективные алгоритмы перебора параметров.\n",
        "\n",
        "У LogisticRegression есть гиперпараметр C - обратный коэффициент регуляризации. Не вдаваясь в подробное описание по формуле, можно сказать, что C соответствует \"сложности\" модели: чем больше C, тем более сложные зависимости может восстанавливать модель; если параметр C слишком мал (слишком сильная регуляризация), то модель окажется недообученной, а если наоборот регуляризация слишком слабая (т.е. C принимает большие значения), то скорее всего модель окажется переобученной, потому как модель будет слишком \"бояться\" ошибиться на обучающей выборке."
      ]
    },
    {
      "cell_type": "markdown",
      "metadata": {
        "id": "L-j5LLf3hXNx"
      },
      "source": [
        "### 2.3 \n",
        "\n",
        "1. Используя StratifiedKFold, разбейте данные для кросс-валидации по 5-ти блокам (не забывайте во всех методах использовать random_state=17).\n",
        "2. С помощью numpy.logspace разбейте интервал (-1, 2) на 500 значений.\n",
        "3. С помощью LogisticRegressionCV подберите оптимальный параметр C: установите гиперпараметр Cs равным объекту из п.2 (разбиение интервала (-1, 2) отвечает за подбор обратного коэффициента регуляризации C); cv равным объекту из п.1 (разбиение для кросс-валидации); scoring равным \"roc_auc\" (отвечает за оптимизацию гиперпараметров на кросс-валидации: метрика, установленная в scoring, контролирует, как оценивать модель при каждом из наборе параметров, т.е. показывает, какая метрика должна быть наилучшей).\n",
        "4. Обучите полученную модель на тренировочных данных."
      ]
    },
    {
      "cell_type": "code",
      "metadata": {
        "id": "H-0WuZbphXNy"
      },
      "source": [
        "from sklearn.model_selection import StratifiedKFold\n",
        "from sklearn.linear_model import LogisticRegressionCV\n",
        "import numpy as np"
      ],
      "execution_count": null,
      "outputs": []
    },
    {
      "cell_type": "code",
      "metadata": {
        "id": "0ezY2p2RhXN4"
      },
      "source": [
        "### YOUR CODE HERE ###\n",
        "\n",
        "skf = StratifiedKFold(n_splits=5, random_state=17, shuffle=True).get_n_splits(x_train, y_train)\n"
      ],
      "execution_count": null,
      "outputs": []
    },
    {
      "cell_type": "code",
      "metadata": {
        "id": "BjtDJHa12Mtn",
        "colab": {
          "base_uri": "https://localhost:8080/"
        },
        "outputId": "1d301ad3-4bbd-4cd8-cf0e-07ccfe81630a"
      },
      "source": [
        "np.logspace(-1, 2, 500)"
      ],
      "execution_count": null,
      "outputs": [
        {
          "output_type": "execute_result",
          "data": {
            "text/plain": [
              "array([  0.1       ,   0.10139395,   0.10280732,   0.1042404 ,\n",
              "         0.10569346,   0.10716676,   0.10866061,   0.11017528,\n",
              "         0.11171107,   0.11326826,   0.11484715,   0.11644806,\n",
              "         0.11807128,   0.11971713,   0.12138593,   0.12307798,\n",
              "         0.12479362,   0.12653318,   0.12829698,   0.13008537,\n",
              "         0.13189869,   0.13373729,   0.13560151,   0.13749172,\n",
              "         0.13940828,   0.14135156,   0.14332192,   0.14531975,\n",
              "         0.14734543,   0.14939935,   0.15148189,   0.15359347,\n",
              "         0.15573448,   0.15790533,   0.16010645,   0.16233824,\n",
              "         0.16460115,   0.1668956 ,   0.16922204,   0.1715809 ,\n",
              "         0.17397264,   0.17639773,   0.17885662,   0.18134978,\n",
              "         0.1838777 ,   0.18644085,   0.18903974,   0.19167485,\n",
              "         0.19434669,   0.19705578,   0.19980263,   0.20258777,\n",
              "         0.20541173,   0.20827506,   0.2111783 ,   0.21412202,\n",
              "         0.21710676,   0.22013311,   0.22320165,   0.22631296,\n",
              "         0.22946764,   0.23266629,   0.23590953,   0.23919798,\n",
              "         0.24253227,   0.24591304,   0.24934094,   0.25281661,\n",
              "         0.25634074,   0.25991399,   0.26353705,   0.26721062,\n",
              "         0.27093539,   0.27471208,   0.27854142,   0.28242413,\n",
              "         0.28636097,   0.29035269,   0.29440005,   0.29850382,\n",
              "         0.30266481,   0.30688379,   0.31116158,   0.31549901,\n",
              "         0.31989689,   0.32435608,   0.32887743,   0.3334618 ,\n",
              "         0.33811008,   0.34282315,   0.34760192,   0.3524473 ,\n",
              "         0.35736022,   0.36234163,   0.36739248,   0.37251373,\n",
              "         0.37770637,   0.38297139,   0.3883098 ,   0.39372263,\n",
              "         0.39921091,   0.4047757 ,   0.41041805,   0.41613906,\n",
              "         0.42193981,   0.42782142,   0.43378502,   0.43983175,\n",
              "         0.44596276,   0.45217924,   0.45848238,   0.46487337,\n",
              "         0.47135345,   0.47792386,   0.48458586,   0.49134073,\n",
              "         0.49818975,   0.50513425,   0.51217554,   0.51931499,\n",
              "         0.52655396,   0.53389384,   0.54133603,   0.54888196,\n",
              "         0.55653308,   0.56429085,   0.57215676,   0.58013231,\n",
              "         0.58821904,   0.59641849,   0.60473224,   0.61316188,\n",
              "         0.62170903,   0.63037532,   0.63916241,   0.64807198,\n",
              "         0.65710575,   0.66626545,   0.67555283,   0.68496967,\n",
              "         0.69451778,   0.70419898,   0.71401513,   0.72396811,\n",
              "         0.73405984,   0.74429223,   0.75466726,   0.76518692,\n",
              "         0.77585321,   0.78666818,   0.79763391,   0.80875249,\n",
              "         0.82002606,   0.83145678,   0.84304684,   0.85479845,\n",
              "         0.86671388,   0.8787954 ,   0.89104533,   0.90346602,\n",
              "         0.91605985,   0.92882923,   0.9417766 ,   0.95490446,\n",
              "         0.96821531,   0.9817117 ,   0.99539623,   1.00927151,\n",
              "         1.02334021,   1.03760502,   1.05206867,   1.06673394,\n",
              "         1.08160363,   1.0966806 ,   1.11196773,   1.12746796,\n",
              "         1.14318425,   1.15911962,   1.17527712,   1.19165984,\n",
              "         1.20827094,   1.22511358,   1.242191  ,   1.25950646,\n",
              "         1.2770633 ,   1.29486487,   1.31291459,   1.3312159 ,\n",
              "         1.34977233,   1.36858742,   1.38766479,   1.40700809,\n",
              "         1.42662102,   1.44650734,   1.46667087,   1.48711546,\n",
              "         1.50784505,   1.52886359,   1.55017512,   1.57178372,\n",
              "         1.59369353,   1.61590875,   1.63843365,   1.66127252,\n",
              "         1.68442976,   1.7079098 ,   1.73171713,   1.75585633,\n",
              "         1.78033202,   1.80514888,   1.83031168,   1.85582523,\n",
              "         1.88169442,   1.90792422,   1.93451965,   1.96148581,\n",
              "         1.98882786,   2.01655104,   2.04466067,   2.07316213,\n",
              "         2.10206088,   2.13136247,   2.16107251,   2.19119669,\n",
              "         2.22174078,   2.25271064,   2.28411221,   2.31595149,\n",
              "         2.3482346 ,   2.38096772,   2.41415712,   2.44780916,\n",
              "         2.48193029,   2.51652705,   2.55160607,   2.58717408,\n",
              "         2.62323788,   2.6598044 ,   2.69688063,   2.73447368,\n",
              "         2.77259076,   2.81123917,   2.85042632,   2.89015972,\n",
              "         2.93044698,   2.97129582,   3.01271407,   3.05470967,\n",
              "         3.09729067,   3.14046522,   3.1842416 ,   3.2286282 ,\n",
              "         3.27363353,   3.3192662 ,   3.36553498,   3.41244871,\n",
              "         3.46001639,   3.50824714,   3.55715021,   3.60673495,\n",
              "         3.65701088,   3.70798763,   3.75967497,   3.8120828 ,\n",
              "         3.86522116,   3.91910025,   3.97373038,   4.02912203,\n",
              "         4.0852858 ,   4.14223247,   4.19997295,   4.25851829,\n",
              "         4.31787973,   4.37806863,   4.43909653,   4.50097513,\n",
              "         4.56371628,   4.62733201,   4.69183451,   4.75723614,\n",
              "         4.82354943,   4.89078709,   4.95896201,   5.02808725,\n",
              "         5.09817606,   5.16924187,   5.2412983 ,   5.31435916,\n",
              "         5.38843844,   5.46355035,   5.53970928,   5.61692982,\n",
              "         5.69522678,   5.77461515,   5.85511016,   5.93672722,\n",
              "         6.01948197,   6.10339029,   6.18846824,   6.27473213,\n",
              "         6.36219849,   6.45088409,   6.54080591,   6.6319812 ,\n",
              "         6.72442742,   6.81816229,   6.91320378,   7.00957009,\n",
              "         7.1072797 ,   7.20635132,   7.30680395,   7.40865683,\n",
              "         7.51192949,   7.61664172,   7.72281357,   7.8304654 ,\n",
              "         7.93961785,   8.05029181,   8.16250851,   8.27628946,\n",
              "         8.39165644,   8.50863158,   8.62723729,   8.7474963 ,\n",
              "         8.86943166,   8.99306672,   9.1184252 ,   9.2455311 ,\n",
              "         9.37440879,   9.50508296,   9.63757866,   9.77192128,\n",
              "         9.90813657,  10.04625062,  10.1862899 ,  10.32828126,\n",
              "        10.4722519 ,  10.61822941,  10.76624177,  10.91631734,\n",
              "        11.06848489,  11.22277356,  11.37921294,  11.537833  ,\n",
              "        11.69866413,  11.86173716,  12.02708335,  12.19473437,\n",
              "        12.36472235,  12.53707987,  12.71183997,  12.88903612,\n",
              "        13.0687023 ,  13.25087292,  13.4355829 ,  13.62286764,\n",
              "        13.81276303,  14.00530545,  14.20053182,  14.39847953,\n",
              "        14.59918652,  14.80269127,  15.00903276,  15.21825053,\n",
              "        15.43038469,  15.64547589,  15.86356534,  16.08469483,\n",
              "        16.30890676,  16.53624407,  16.76675035,  17.00046975,\n",
              "        17.23744708,  17.47772774,  17.72135779,  17.96838391,\n",
              "        18.21885343,  18.47281437,  18.73031539,  18.99140582,\n",
              "        19.25613572,  19.52455581,  19.79671753,  20.07267304,\n",
              "        20.35247521,  20.63617768,  20.9238348 ,  21.21550171,\n",
              "        21.5112343 ,  21.81108924,  22.115124  ,  22.42339683,\n",
              "        22.73596682,  23.05289387,  23.37423871,  23.70006292,\n",
              "        24.03042894,  24.36540009,  24.70504055,  25.04941542,\n",
              "        25.39859069,  25.75263327,  26.11161101,  26.47559271,\n",
              "        26.84464811,  27.21884795,  27.59826392,  27.98296876,\n",
              "        28.37303617,  28.7685409 ,  29.16955876,  29.57616659,\n",
              "        29.98844231,  30.40646493,  30.83031457,  31.26007243,\n",
              "        31.69582089,  32.13764344,  32.58562476,  33.0398507 ,\n",
              "        33.5004083 ,  33.96738582,  34.44087276,  34.92095985,\n",
              "        35.40773909,  35.90130377,  36.40174847,  36.90916911,\n",
              "        37.42366291,  37.94532847,  38.47426577,  39.01057617,\n",
              "        39.55436245,  40.10572881,  40.66478092,  41.23162591,\n",
              "        41.80637241,  42.38913057,  42.98001206,  43.57913012,\n",
              "        44.18659956,  44.8025368 ,  45.42705986,  46.06028844,\n",
              "        46.70234388,  47.35334923,  48.01342924,  48.6827104 ,\n",
              "        49.36132098,  50.04939103,  50.74705239,  51.45443878,\n",
              "        52.17168576,  52.89893076,  53.63631317,  54.38397428,\n",
              "        55.14205739,  55.91070777,  56.69007271,  57.48030158,\n",
              "        58.28154581,  59.09395895,  59.91769669,  60.75291689,\n",
              "        61.5997796 ,  62.45844712,  63.329084  ,  64.21185709,\n",
              "        65.10693555,  66.01449093,  66.93469713,  67.86773051,\n",
              "        68.81376986,  69.7729965 ,  70.74559423,  71.73174944,\n",
              "        72.73165113,  73.7454909 ,  74.77346305,  75.81576458,\n",
              "        76.87259522,  77.9441575 ,  79.03065679,  80.13230128,\n",
              "        81.24930211,  82.38187331,  83.53023195,  84.69459808,\n",
              "        85.87519485,  87.07224849,  88.28598841,  89.51664721,\n",
              "        90.76446073,  92.02966809,  93.31251175,  94.61323756,\n",
              "        95.93209478,  97.26933615,  98.62521795, 100.        ])"
            ]
          },
          "metadata": {
            "tags": []
          },
          "execution_count": 11
        }
      ]
    },
    {
      "cell_type": "code",
      "metadata": {
        "id": "W2znY_2B3m4X",
        "colab": {
          "base_uri": "https://localhost:8080/"
        },
        "outputId": "06b320b5-cbb6-4353-e8e1-1edb62344a48"
      },
      "source": [
        "clf = LogisticRegressionCV(Cs=500, cv=skf, scoring=\"roc_auc\", random_state=17).fit(x_train, y_train)\n",
        "clf.C_\n"
      ],
      "execution_count": null,
      "outputs": [
        {
          "output_type": "execute_result",
          "data": {
            "text/plain": [
              "array([13.4977233])"
            ]
          },
          "metadata": {
            "tags": []
          },
          "execution_count": 12
        }
      ]
    },
    {
      "cell_type": "markdown",
      "metadata": {
        "id": "kaE1oixihXN8"
      },
      "source": [
        "### 2.4\n",
        "Используя метод plot из matplotlib.pyplot, выведите график зависимости auc_roc от значения C."
      ]
    },
    {
      "cell_type": "markdown",
      "metadata": {
        "id": "yRsW0oWQhXN9"
      },
      "source": [
        "*Примечание: значения по оси x - разбиение с помощью np.logspace из п.2 предыдущего задания, а значения по оси y - среднее значение roc_auc по каждой валидации, т.е. среднее значение из полученных на каждом из 5-ти разбиений при данном параметре C (используйте метод scores_ объекта, который инкапсулирует LogisticRegressionCV).*"
      ]
    },
    {
      "cell_type": "code",
      "metadata": {
        "id": "5H0CAgq9hXN-"
      },
      "source": [
        "import matplotlib.pyplot as plt"
      ],
      "execution_count": null,
      "outputs": []
    },
    {
      "cell_type": "code",
      "metadata": {
        "id": "KTZtXirYhXOC",
        "colab": {
          "base_uri": "https://localhost:8080/",
          "height": 269
        },
        "outputId": "0f82f6eb-b77a-49fd-8290-f53666910c14"
      },
      "source": [
        "### YOUR CODE HERE ###\n",
        "\n",
        "plt.plot(Cs, clf.scores_[1][0], label='clf.scores_[1][0]')\n",
        "plt.plot(Cs, clf.scores_[1][1], label='clf.scores_[1][1]')\n",
        "plt.plot(Cs, clf.scores_[1][2], label='clf.scores_[1][2]')\n",
        "plt.plot(Cs, clf.scores_[1][3], label='clf.scores_[1][3]')\n",
        "plt.plot(Cs, clf.scores_[1][4], label='clf.scores_[1][4]')\n",
        "plt.legend()\n",
        "plt.show()"
      ],
      "execution_count": null,
      "outputs": [
        {
          "output_type": "display_data",
          "data": {
            "image/png": "[encoded data removed]",
            "text/plain": [
              "<Figure size 432x288 with 1 Axes>"
            ]
          },
          "metadata": {
            "tags": [],
            "needs_background": "light"
          }
        }
      ]
    },
    {
      "cell_type": "markdown",
      "metadata": {
        "id": "lv9qcBE4hXOH"
      },
      "source": [
        "### 2.5\n",
        "С помощью метода C_ того же объекта выведите лучшее значение C. Выведите более конкретную область графика (область ~15 точкам по x), включающую лучшее значение C.\n",
        "\n",
        "*Примечание: используйте plt.xlim.*"
      ]
    },
    {
      "cell_type": "code",
      "metadata": {
        "id": "BUoS6KvRhXOI",
        "colab": {
          "base_uri": "https://localhost:8080/",
          "height": 265
        },
        "outputId": "1c46a4b0-9d7b-459e-ade6-8ed85470280d"
      },
      "source": [
        "### YOUR CODE HERE ###\n",
        "\n",
        "plt.plot(Cs, clf.scores_[1][3], label='clf.scores_[1][3]')\n",
        "plt.legend()\n",
        "plt.xlim(0, 8)\n",
        "plt.show()"
      ],
      "execution_count": null,
      "outputs": [
        {
          "output_type": "display_data",
          "data": {
            "image/png": "[encoded data removed]",
            "text/plain": [
              "<Figure size 432x288 with 1 Axes>"
            ]
          },
          "metadata": {
            "tags": [],
            "needs_background": "light"
          }
        }
      ]
    },
    {
      "cell_type": "markdown",
      "metadata": {
        "id": "d6ihFwlJhXOL"
      },
      "source": [
        "### 2.6\n",
        "С помощью метода predict_proba получите вероятности принадлежности объектов тестовой выборки к классам. Постройте график roc_auc для тестовой выборки и выведите значение auc."
      ]
    },
    {
      "cell_type": "markdown",
      "metadata": {
        "id": "H0f_DNEMhXOM"
      },
      "source": [
        "**Пример** построения графика."
      ]
    },
    {
      "cell_type": "code",
      "metadata": {
        "id": "WzMU7ULahXOM"
      },
      "source": [
        "from sklearn.metrics import roc_auc_score, roc_curve"
      ],
      "execution_count": null,
      "outputs": []
    },
    {
      "cell_type": "code",
      "metadata": {
        "id": "9ptD2581hXOY",
        "colab": {
          "base_uri": "https://localhost:8080/",
          "height": 265
        },
        "outputId": "35dbb9fb-b157-4855-c43a-2c48b23eae2f"
      },
      "source": [
        "### YOUR CODE HERE ###\n",
        "\n",
        "probas = LogisticRegression().fit(x_train, y_train).predict_proba(x_test)\n",
        "fpr, tpr, _ = roc_curve(y_test, probas[:, 1])\n",
        "auc = roc_auc_score(y_test, probas[:, 1])\n",
        "plt.plot(fpr, tpr, label=\"auc=\" + str(auc))\n",
        "plt.legend(loc=4)\n",
        "plt.show()"
      ],
      "execution_count": null,
      "outputs": [
        {
          "output_type": "display_data",
          "data": {
            "image/png": "[encoded data removed]",
            "text/plain": [
              "<Figure size 432x288 with 1 Axes>"
            ]
          },
          "metadata": {
            "tags": [],
            "needs_background": "light"
          }
        }
      ]
    },
    {
      "cell_type": "code",
      "metadata": {
        "id": "t61vT6UO-fxT"
      },
      "source": [
        ""
      ],
      "execution_count": null,
      "outputs": []
    }
  ]
}