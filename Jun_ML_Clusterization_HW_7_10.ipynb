{
  "nbformat": 4,
  "nbformat_minor": 0,
  "metadata": {
    "colab": {
      "name": "Jun ML Clusterization HW 7.10.ipynb",
      "provenance": [],
      "collapsed_sections": [],
      "include_colab_link": true
    },
    "kernelspec": {
      "display_name": "Python 3",
      "language": "python",
      "name": "python3"
    },
    "language_info": {
      "codemirror_mode": {
        "name": "ipython",
        "version": 3
      },
      "file_extension": ".py",
      "mimetype": "text/x-python",
      "name": "python",
      "nbconvert_exporter": "python",
      "pygments_lexer": "ipython3",
      "version": "3.6.3"
    }
  },
  "cells": [
    {
      "cell_type": "markdown",
      "metadata": {
        "id": "view-in-github",
        "colab_type": "text"
      },
      "source": [
        "<a href=\"https://colab.research.google.com/github/oObelix/DataScience/blob/master/Jun_ML_Clusterization_HW_7_10.ipynb\" target=\"_parent\"><img src=\"https://colab.research.google.com/assets/colab-badge.svg\" alt=\"Open In Colab\"/></a>"
      ]
    },
    {
      "cell_type": "markdown",
      "metadata": {
        "id": "B3KaF1cvPTEr"
      },
      "source": [
        "## Урок 10. Домашнее задание \n",
        "\n",
        "### 10.1 Домашнее задание начального уровня\n",
        "\n",
        "Обучите *k-means* для количества кластеров $k=4$ на датасете `data/clustering.pkl`. Как изменилась метрика силуэтта? Стало лучше или хуже? Какое количество кластеров лучше, два или четыре?"
      ]
    },
    {
      "cell_type": "code",
      "metadata": {
        "id": "LNZdiH3pFbJ7"
      },
      "source": [
        "import pickle\n",
        "import numpy as np\n",
        "import pandas as pd\n",
        "import matplotlib.pyplot as plt\n",
        "from sklearn.cluster import KMeans\n",
        "from sklearn.metrics import silhouette_score\n",
        "from sklearn.metrics import adjusted_mutual_info_score\n",
        "from scipy.spatial.distance import euclidean\n",
        "from sklearn.metrics.pairwise import euclidean_distances\n",
        "\n",
        "with open('sample_data/clustering.pkl', 'rb') as f:\n",
        "  clustering = pickle.load(f)\n",
        "\n",
        "X = np.array(clustering['X'])\n",
        "y = np.array(clustering['Y'])"
      ],
      "execution_count": null,
      "outputs": []
    },
    {
      "cell_type": "code",
      "metadata": {
        "colab": {
          "base_uri": "https://localhost:8080/"
        },
        "id": "4EerOYSgPTEu",
        "outputId": "ee1a223d-e627-47fb-a165-1062002eeb85"
      },
      "source": [
        "# -- ВАШ КОД ТУТ --\n",
        "\n",
        "km_model = KMeans(n_clusters=4).fit(X)\n",
        "s_score = silhouette_score(X, km_model.labels_)\n",
        "print(f'silhouette_score = {s_score}')"
      ],
      "execution_count": null,
      "outputs": [
        {
          "output_type": "stream",
          "text": [
            "silhouette_score = 0.4388619866610211\n"
          ],
          "name": "stdout"
        }
      ]
    },
    {
      "cell_type": "markdown",
      "metadata": {
        "id": "DaDxi5EWGzQ-"
      },
      "source": [
        "## Судя по silhouette_score = 0.443, метрика ухудшилась для n_clusters=4 (< 0.452)"
      ]
    },
    {
      "cell_type": "markdown",
      "metadata": {
        "id": "iUCVoJeaPTEz"
      },
      "source": [
        "\n",
        "### 10.2 Домашнее задание начального уровня\n",
        "\n",
        "Обучите *k-means* для количества кластеров $k=4$ на датасете `data/clustering.pkl`. Как изменилась метрика *AMI*? Стало лучше или хуже? Какое количество кластеров лучше по метрике AMI?"
      ]
    },
    {
      "cell_type": "code",
      "metadata": {
        "colab": {
          "base_uri": "https://localhost:8080/"
        },
        "id": "Q6sYr2h3PTE1",
        "outputId": "a8c39865-16d1-4a17-adef-c155dee486e8"
      },
      "source": [
        "# -- ВАШ КОД ТУТ --\n",
        "\n",
        "ami = adjusted_mutual_info_score(y, km_model.labels_, average_method='arithmetic')\n",
        "print(f'ami = {ami}')"
      ],
      "execution_count": null,
      "outputs": [
        {
          "output_type": "stream",
          "text": [
            "ami = 0.5815916539517929\n"
          ],
          "name": "stdout"
        }
      ]
    },
    {
      "cell_type": "markdown",
      "metadata": {
        "id": "jN4YH7XiIGGq"
      },
      "source": [
        "## Судя по ami = 0.583, метрика ухудшилась для n_clusters=4 (< 0.614)"
      ]
    },
    {
      "cell_type": "code",
      "metadata": {
        "id": "m0jaa7O-fqhO"
      },
      "source": [
        ""
      ],
      "execution_count": null,
      "outputs": []
    },
    {
      "cell_type": "markdown",
      "metadata": {
        "id": "fY8FY1FcPTE4"
      },
      "source": [
        "\n",
        "### 10.3 Домашнее задание высокого уровня\n",
        "\n",
        "Загрузите датасет `clustering_hw.csv` из приложенной директории `data` и визуализируйте данные. Должно получится как-то так:\n",
        "\n",
        "![clustering_hw](https://248006.selcdn.ru/public/DS.%20Block%202.%20M7/clustering_hw.png)\n",
        "\n",
        "В рамках домашней работы\n",
        "\n",
        "1. вычислите оптимальное количество кластеров $k$\n",
        "1. обучите k-means с количеством кластеров  $k$\n",
        "1. к какому кластеру принадлежит точка $x=(5, 8)$? к какому кластеру принадлежит точка $x=(0, 5)$? Они принадлежат к разным кластерам или одному?\n",
        "1. Каково качество кластеризации по AMI"
      ]
    },
    {
      "cell_type": "code",
      "metadata": {
        "colab": {
          "base_uri": "https://localhost:8080/",
          "height": 265
        },
        "id": "4XJifI-CPTE5",
        "outputId": "405a2386-8c85-458f-8f51-49679296ec30"
      },
      "source": [
        "# -- ВАШ КОД ТУТ --\n",
        "\n",
        "# Загрузка и визуализация\n",
        "\n",
        "pd_clustering_hw = pd.read_csv('sample_data/clustering_hw.csv')\n",
        "pd_clustering_hw.head(10)\n",
        "\n",
        "plt.scatter(pd_clustering_hw['x1'], pd_clustering_hw['x2'], c=pd_clustering_hw['y'])\n",
        "plt.scatter([5, 0], [0, 5], c='red', marker='x')\n",
        "plt.show()\n"
      ],
      "execution_count": null,
      "outputs": [
        {
          "output_type": "display_data",
          "data": {
            "image/png": "[encoded data removed]",
            "text/plain": [
              "<Figure size 432x288 with 1 Axes>"
            ]
          },
          "metadata": {
            "tags": [],
            "needs_background": "light"
          }
        }
      ]
    },
    {
      "cell_type": "code",
      "metadata": {
        "colab": {
          "base_uri": "https://localhost:8080/"
        },
        "id": "dTtPYyPnZEpm",
        "outputId": "77cc7b72-5f70-492f-c86a-dfe950f9a800"
      },
      "source": [
        "print(pd_clustering_hw)"
      ],
      "execution_count": null,
      "outputs": [
        {
          "output_type": "stream",
          "text": [
            "           x1        x2  y\n",
            "0    6.221343  4.968753  2\n",
            "1    7.360892  8.857455  2\n",
            "2   -0.108178  4.730723  1\n",
            "3    3.127358  1.927986  0\n",
            "4   -0.817259  6.759974  1\n",
            "..        ...       ... ..\n",
            "295  0.863590  4.798039  1\n",
            "296  4.451104  2.183275  0\n",
            "297  7.530399  8.261081  2\n",
            "298  0.103995  5.893627  1\n",
            "299  7.183510  6.842215  2\n",
            "\n",
            "[300 rows x 3 columns]\n"
          ],
          "name": "stdout"
        }
      ]
    },
    {
      "cell_type": "code",
      "metadata": {
        "colab": {
          "base_uri": "https://localhost:8080/"
        },
        "id": "vvZOTV8HLXNp",
        "outputId": "2386bddf-70a7-44f1-80ea-3ef4c6cad967"
      },
      "source": [
        "X = np.array(pd_clustering_hw[['x1', 'x2']])\n",
        "X[:10]"
      ],
      "execution_count": null,
      "outputs": [
        {
          "output_type": "execute_result",
          "data": {
            "text/plain": [
              "array([[ 6.2213434 ,  4.96875257],\n",
              "       [ 7.36089211,  8.85745517],\n",
              "       [-0.1081778 ,  4.73072345],\n",
              "       [ 3.12735827,  1.92798607],\n",
              "       [-0.81725933,  6.75997401],\n",
              "       [-0.45395306,  5.13148343],\n",
              "       [ 0.18634346,  5.4164213 ],\n",
              "       [ 0.30266601,  4.5447096 ],\n",
              "       [ 1.77307347,  5.43644781],\n",
              "       [-0.201195  ,  6.36651577]])"
            ]
          },
          "metadata": {
            "tags": []
          },
          "execution_count": 56
        }
      ]
    },
    {
      "cell_type": "code",
      "metadata": {
        "colab": {
          "base_uri": "https://localhost:8080/"
        },
        "id": "bMV8OCZBL_tk",
        "outputId": "db26bc84-31c5-41d9-b286-d05557523bba"
      },
      "source": [
        "y = np.array(pd_clustering_hw['y'])\n",
        "y[:10]"
      ],
      "execution_count": null,
      "outputs": [
        {
          "output_type": "execute_result",
          "data": {
            "text/plain": [
              "array([2, 2, 1, 0, 1, 1, 1, 1, 1, 1])"
            ]
          },
          "metadata": {
            "tags": []
          },
          "execution_count": 57
        }
      ]
    },
    {
      "cell_type": "code",
      "metadata": {
        "colab": {
          "base_uri": "https://localhost:8080/"
        },
        "id": "etkSFsc4LOQU",
        "outputId": "b14031f1-1779-48e1-84c3-6379741d7eeb"
      },
      "source": [
        "# 1.\n",
        "\n",
        "# a) При помощи формул локтевого метода находим оптимальное колличество кластеров\n",
        "\n",
        "metrics = []\n",
        "MAX_CLUSTERS = 7\n",
        "for cluster_num in range(1, MAX_CLUSTERS):\n",
        "    km_model = KMeans(n_clusters=cluster_num, random_state=99).fit(X)\n",
        "    centroids, labels = km_model.cluster_centers_, km_model.labels_\n",
        "    metric = 0\n",
        "    for centroid_label in range(cluster_num):\n",
        "        metric += euclidean_distances(\n",
        "            X[labels==centroid_label],\n",
        "            centroids[centroid_label,:].reshape(1,-1)\n",
        "        ).sum(axis=0)[0]\n",
        "    print(\"cluster_num %s, metric %s\" % (cluster_num, metric))\n",
        "    metrics.append(metric)\n",
        "\n",
        "D = []\n",
        "for i in range(0, len(metrics)-1):\n",
        "    d = abs(metrics[i+1]-metrics[i])/abs(metrics[i]-metrics[i-1])\n",
        "    D.append(d)\n",
        "print(\"best cluster num: %s\" % (np.argmin(D)+1))"
      ],
      "execution_count": null,
      "outputs": [
        {
          "output_type": "stream",
          "text": [
            "cluster_num 1, metric 1105.8973781101083\n",
            "cluster_num 2, metric 663.5712032768099\n",
            "cluster_num 3, metric 374.6589714184062\n",
            "cluster_num 4, metric 348.170527240596\n",
            "cluster_num 5, metric 323.0909288942994\n",
            "cluster_num 6, metric 300.10388486033423\n",
            "best cluster num: 3\n"
          ],
          "name": "stdout"
        }
      ]
    },
    {
      "cell_type": "code",
      "metadata": {
        "colab": {
          "base_uri": "https://localhost:8080/",
          "height": 283
        },
        "id": "lljw30VHMRFq",
        "outputId": "f3b42c76-56ba-465f-e619-5acc2dc4213d"
      },
      "source": [
        "# Визуализирую локоть для более наглядногографического вывода о колличестве кластеров\n",
        "\n",
        "D = []\n",
        "for i in range(0, len(metrics)-1):\n",
        "    d = abs(metrics[i+1]-metrics[i])/abs(metrics[i]-metrics[i-1])\n",
        "    D.append(d)\n",
        "print(\"best cluster num: %s\" % (np.argmin(D)+1))\n",
        "\n",
        "plt.plot([i+1 for i in range(len(metrics))], metrics)\n",
        "plt.show()"
      ],
      "execution_count": null,
      "outputs": [
        {
          "output_type": "stream",
          "text": [
            "best cluster num: 3\n"
          ],
          "name": "stdout"
        },
        {
          "output_type": "display_data",
          "data": {
            "image/png": "[encoded data removed]",
            "text/plain": [
              "<Figure size 432x288 with 1 Axes>"
            ]
          },
          "metadata": {
            "tags": [],
            "needs_background": "light"
          }
        }
      ]
    },
    {
      "cell_type": "code",
      "metadata": {
        "colab": {
          "base_uri": "https://localhost:8080/"
        },
        "id": "V33qnafvf-W2",
        "outputId": "21fdffc0-f529-46fe-c153-7bf9aa69721b"
      },
      "source": [
        "# b) Воспользуюсь метрикой AMI (так как мне известны метки y кластеров)\n",
        "\n",
        "ami_previous = -1\n",
        "\n",
        "for cluster_num in range(2, 10):\n",
        "  km_model = KMeans(n_clusters=cluster_num).fit(X)\n",
        "  ami = adjusted_mutual_info_score(y, km_model.labels_, average_method='arithmetic')\n",
        "  if ami < ami_previous:\n",
        "    break\n",
        "  ami_previous = ami\n",
        "\n",
        "print('cluster_num %s, ami %.4f' % (cluster_num-1, ami_previous))\n"
      ],
      "execution_count": null,
      "outputs": [
        {
          "output_type": "stream",
          "text": [
            "cluster_num 3, ami 0.9700\n"
          ],
          "name": "stdout"
        }
      ]
    },
    {
      "cell_type": "code",
      "metadata": {
        "id": "V-OT0Z7ghbAe"
      },
      "source": [
        "# 2.\n",
        "\n",
        "km_model = KMeans(n_clusters=3, random_state=99).fit(X)"
      ],
      "execution_count": null,
      "outputs": []
    },
    {
      "cell_type": "code",
      "metadata": {
        "colab": {
          "base_uri": "https://localhost:8080/"
        },
        "id": "q2gNaiAbNwU1",
        "outputId": "d6b9fa22-5e91-43d2-9945-ca1dfd1db1cd"
      },
      "source": [
        "km_model.cluster_centers_"
      ],
      "execution_count": null,
      "outputs": [
        {
          "output_type": "execute_result",
          "data": {
            "text/plain": [
              "array([[0.11472588, 5.38816844],\n",
              "       [7.32891777, 7.36774138],\n",
              "       [4.04379735, 2.45403144]])"
            ]
          },
          "metadata": {
            "tags": []
          },
          "execution_count": 62
        }
      ]
    },
    {
      "cell_type": "code",
      "metadata": {
        "colab": {
          "base_uri": "https://localhost:8080/"
        },
        "id": "p4e9GGqBiAFq",
        "outputId": "ed42b4ff-4a68-46ec-be6e-19fd6811bb28"
      },
      "source": [
        "# 3. К какому кластеру принадлежит точка 𝑥=(5,8) ? к какому кластеру принадлежит точка 𝑥=(0,5) ?\n",
        "\n",
        "def max_diist(arr, dot):\n",
        "  max_dist = 0\n",
        "  for do in arr:\n",
        "    tmp_dist = euclidean(do, dot)\n",
        "    if tmp_dist > max_dist:\n",
        "      max_dist = tmp_dist\n",
        "    # print(do, tmp_dist, dot)\n",
        "  return max_dist\n",
        "\n",
        "\n",
        "# cluster_0_radius = euclidean_distances(np.array(X)[y==0], \n",
        "#                                        [list(km_model.cluster_centers_[0])]).max()\n",
        "# cluster_1_radius = euclidean_distances(np.array(X)[y==1], \n",
        "#                                        [list(km_model.cluster_centers_[1])]).max()\n",
        "# cluster_2_radius = euclidean_distances(np.array(X)[y==2], \n",
        "#                                        [list(km_model.cluster_centers_[2])]).max()\n",
        "\n",
        "\n",
        "\n",
        "X0 = np.array(pd_clustering_hw[pd_clustering_hw['y']==0][['x1', 'x2']])\n",
        "X1 = np.array(pd_clustering_hw[pd_clustering_hw['y']==1][['x1', 'x2']])\n",
        "X2 = np.array(pd_clustering_hw[pd_clustering_hw['y']==2][['x1', 'x2']])\n",
        "\n",
        "# !!! Центры кластеров никак не связаны с метками. \n",
        "# Подбираем по минимуму расстояния к своему кластеру. !!!\n",
        "# Можно данный процесс было автоматизировать, но я не стал мудрить\n",
        "# и для данного колличества кластеров подобрал их центры вручную.\n",
        "cluster_0_radius = max_diist(X1, km_model.cluster_centers_[0])\n",
        "cluster_1_radius = max_diist(X2, km_model.cluster_centers_[1])\n",
        "cluster_2_radius = max_diist(X0, km_model.cluster_centers_[2])\n",
        "\n",
        "print('cluster_0 radius = %.3f' % cluster_0_radius)\n",
        "print('cluster_1 radius = %.3f' % cluster_1_radius)\n",
        "print('cluster_2 radius = %.3f' % cluster_2_radius)\n",
        "\n",
        "rads = [cluster_0_radius, cluster_1_radius, cluster_2_radius]\n",
        "dots = [[5, 8], [0, 5]]\n",
        "\n",
        "for i, center in enumerate(km_model.cluster_centers_):\n",
        "  for dot in dots:\n",
        "    dist = euclidean(dot, center)\n",
        "    print(dot, 'center: ', center, 'dist:', '{:.3f}'.format(dist), \n",
        "          'radius:', '{:.3f}'.format(rads[i]), 'Точка принадлежит кластеру:', dist <= rads[i])"
      ],
      "execution_count": null,
      "outputs": [
        {
          "output_type": "stream",
          "text": [
            "cluster_0 radius = 2.845\n",
            "cluster_1 radius = 3.377\n",
            "cluster_2 radius = 3.832\n",
            "[5, 8] center:  [0.11472588 5.38816844] dist: 5.540 radius: 2.845 Точка принадлежит кластеру: False\n",
            "[0, 5] center:  [0.11472588 5.38816844] dist: 0.405 radius: 2.845 Точка принадлежит кластеру: True\n",
            "[5, 8] center:  [7.32891777 7.36774138] dist: 2.413 radius: 3.377 Точка принадлежит кластеру: True\n",
            "[0, 5] center:  [7.32891777 7.36774138] dist: 7.702 radius: 3.377 Точка принадлежит кластеру: False\n",
            "[5, 8] center:  [4.04379735 2.45403144] dist: 5.628 radius: 3.832 Точка принадлежит кластеру: False\n",
            "[0, 5] center:  [4.04379735 2.45403144] dist: 4.779 radius: 3.832 Точка принадлежит кластеру: False\n"
          ],
          "name": "stdout"
        }
      ]
    },
    {
      "cell_type": "markdown",
      "metadata": {
        "id": "wSco2juK1tpl"
      },
      "source": [
        "## Судя по расстояниям до центов и спредам кластеров, точка [0, 5] принадлежит кластеру с центром в:  [0.11472588 5.38816844], а точка [5, 8] - [7.32891777 7.36774138]. "
      ]
    },
    {
      "cell_type": "code",
      "metadata": {
        "colab": {
          "base_uri": "https://localhost:8080/"
        },
        "id": "p-CyVulm2Ug3",
        "outputId": "5d344224-894f-46b6-c1dd-16210111dad7"
      },
      "source": [
        "# 4.\n",
        "\n",
        "ami = adjusted_mutual_info_score(y, km_model.labels_, average_method='arithmetic')\n",
        "print(f'ami = {ami}')"
      ],
      "execution_count": null,
      "outputs": [
        {
          "output_type": "stream",
          "text": [
            "ami = 0.9700074953683859\n"
          ],
          "name": "stdout"
        }
      ]
    },
    {
      "cell_type": "code",
      "metadata": {
        "id": "ipd91fnV2cqw"
      },
      "source": [
        ""
      ],
      "execution_count": null,
      "outputs": []
    },
    {
      "cell_type": "markdown",
      "metadata": {
        "id": "28VnuIijPTE8"
      },
      "source": [
        "### Заключение\n",
        "\n",
        "Мы познакомились с двумя метриками\n",
        "\n",
        "* Silhouette. Её используем, когда есть только сами объекты, а метки кластеров отсутствуют в обучающей выборке\n",
        "* AMI. Её используем, когда известны \"истинные\" метки кластеров\n",
        "\n",
        "Метрик намного больше - о них можно почитать [ в документации sklearn](https://scikit-learn.org/stable/modules/classes.html#clustering-metrics)"
      ]
    }
  ]
}