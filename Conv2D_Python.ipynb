{
  "nbformat": 4,
  "nbformat_minor": 0,
  "metadata": {
    "colab": {
      "name": "Conv2D Python.ipynb",
      "provenance": [],
      "collapsed_sections": [],
      "authorship_tag": "ABX9TyPSGSXmjjpaztC6GPbP+CGC",
      "include_colab_link": true
    },
    "kernelspec": {
      "name": "python3",
      "display_name": "Python 3"
    },
    "language_info": {
      "name": "python"
    }
  },
  "cells": [
    {
      "cell_type": "markdown",
      "metadata": {
        "id": "view-in-github",
        "colab_type": "text"
      },
      "source": [
        "<a href=\"https://colab.research.google.com/github/oObelix/DataScience/blob/master/Conv2D_Python.ipynb\" target=\"_parent\"><img src=\"https://colab.research.google.com/assets/colab-badge.svg\" alt=\"Open In Colab\"/></a>"
      ]
    },
    {
      "cell_type": "code",
      "metadata": {
        "id": "44qSmoCx9qbo"
      },
      "source": [
        "import numpy as np"
      ],
      "execution_count": 9,
      "outputs": []
    },
    {
      "cell_type": "code",
      "metadata": {
        "id": "krRM0H2Q9vyW"
      },
      "source": [
        "input = np.array([\n",
        "                  [3,3,2,1,0],\n",
        "                  [0,0,1,3,1],\n",
        "                  [3,1,2,2,3],\n",
        "                  [2,0,0,2,2],\n",
        "                  [2,0,0,0,1],\n",
        "                  ])"
      ],
      "execution_count": 10,
      "outputs": []
    },
    {
      "cell_type": "code",
      "metadata": {
        "id": "qK6Rm3foePrf"
      },
      "source": [
        "kernel = np.array([\n",
        "                   [0,1,2],\n",
        "                   [2,2,0],\n",
        "                   [0,1,2],\n",
        "                   ])"
      ],
      "execution_count": 11,
      "outputs": []
    },
    {
      "cell_type": "code",
      "metadata": {
        "id": "6viJsokyez75",
        "colab": {
          "base_uri": "https://localhost:8080/"
        },
        "outputId": "7b879191-76ad-4ae8-83f9-233387b933fd"
      },
      "source": [
        "def conv2D(signal, filter):\n",
        "  \"\"\"\n",
        "  Свёртка\n",
        "  \"\"\"\n",
        "  result = []\n",
        "  ms, ns = len(signal), len(signal[0])\n",
        "  mk, nk = len(filter), len(filter[0])\n",
        "  for n in range(ns - nk + 1):\n",
        "    for m in range(ms - mk + 1):\n",
        "      result.append(np.sum(np.multiply(signal[n:n+nk, m:m+mk], filter)))\n",
        "  return np.array(result).reshape(ns - nk // 2 - 1, ms - mk // 2 - 1)\n",
        "\n",
        "conv2D(input, kernel)"
      ],
      "execution_count": 55,
      "outputs": [
        {
          "output_type": "execute_result",
          "data": {
            "text/plain": [
              "array([[12, 12, 17],\n",
              "       [10, 17, 19],\n",
              "       [ 9,  6, 14]])"
            ]
          },
          "metadata": {
            "tags": []
          },
          "execution_count": 55
        }
      ]
    },
    {
      "cell_type": "code",
      "metadata": {
        "id": "An-hSuUDuW8H"
      },
      "source": [
        ""
      ],
      "execution_count": null,
      "outputs": []
    }
  ]
}