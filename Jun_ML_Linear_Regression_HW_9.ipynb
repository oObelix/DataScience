{
  "nbformat": 4,
  "nbformat_minor": 0,
  "metadata": {
    "colab": {
      "name": "Jun_ML_Linear_Regression_HW_9.ipynb",
      "provenance": [],
      "collapsed_sections": [],
      "include_colab_link": true
    },
    "kernelspec": {
      "display_name": "Python 3",
      "language": "python",
      "name": "python3"
    },
    "language_info": {
      "codemirror_mode": {
        "name": "ipython",
        "version": 3
      },
      "file_extension": ".py",
      "mimetype": "text/x-python",
      "name": "python",
      "nbconvert_exporter": "python",
      "pygments_lexer": "ipython3",
      "version": "3.6.3"
    }
  },
  "cells": [
    {
      "cell_type": "markdown",
      "metadata": {
        "id": "view-in-github",
        "colab_type": "text"
      },
      "source": [
        "<a href=\"https://colab.research.google.com/github/oObelix/DataScience/blob/master/Jun_ML_Linear_Regression_HW_9.ipynb\" target=\"_parent\"><img src=\"https://colab.research.google.com/assets/colab-badge.svg\" alt=\"Open In Colab\"/></a>"
      ]
    },
    {
      "cell_type": "markdown",
      "metadata": {
        "id": "9zmQCpvzzeTK"
      },
      "source": [
        "### Урок 9. Домашняя работа\n",
        "\n",
        "Даны точки $x$ и значения в этих точках $y$. Нормализуйте $y$ с помощью *z-score* и постройте график зависимости нормализованных значений от $x$. Для графика используйте `.scatter(x,y_tansformed)`"
      ]
    },
    {
      "cell_type": "code",
      "metadata": {
        "id": "O8W9tZnFzeTL"
      },
      "source": [
        "import numpy as np\n",
        "from sklearn.preprocessing import StandardScaler\n",
        "from matplotlib import pyplot as plt\n",
        "\n",
        "x = np.linspace(1,10,num=10)\n",
        "y = np.array(\n",
        "    [1.,  3.,  4.,  2., 10.,  5.,  5.,  2.,  5., 10.],\n",
        "    dtype=np.float32\n",
        ")\n",
        "\n",
        "# -- ВАШ КОД ТУТ --"
      ],
      "execution_count": null,
      "outputs": []
    },
    {
      "cell_type": "code",
      "metadata": {
        "colab": {
          "base_uri": "https://localhost:8080/",
          "height": 265
        },
        "id": "__8_e9QzP06h",
        "outputId": "c956f31d-9764-4b2f-972a-9f615d9fcfa1"
      },
      "source": [
        "plt.scatter(x, y)\n",
        "plt.show()"
      ],
      "execution_count": null,
      "outputs": [
        {
          "output_type": "display_data",
          "data": {
            "image/png": "[encoded data removed]",
            "text/plain": [
              "<Figure size 432x288 with 1 Axes>"
            ]
          },
          "metadata": {
            "tags": [],
            "needs_background": "light"
          }
        }
      ]
    },
    {
      "cell_type": "code",
      "metadata": {
        "colab": {
          "base_uri": "https://localhost:8080/"
        },
        "id": "L9VbzjQ-P71q",
        "outputId": "05fecdfb-ce0d-44ed-c24f-d9db2cb3db1d"
      },
      "source": [
        "y_transformed = StandardScaler().fit_transform(y.reshape(-1, 1))\n",
        "y_transformed = y_transformed.reshape(-1)\n",
        "y_transformed"
      ],
      "execution_count": null,
      "outputs": [
        {
          "output_type": "execute_result",
          "data": {
            "text/plain": [
              "array([-1.2465616 , -0.57274455, -0.23583598, -0.9096531 ,  1.7856153 ,\n",
              "        0.10107257,  0.10107257, -0.9096531 ,  0.10107257,  1.7856153 ],\n",
              "      dtype=float32)"
            ]
          },
          "metadata": {
            "tags": []
          },
          "execution_count": 7
        }
      ]
    },
    {
      "cell_type": "code",
      "metadata": {
        "colab": {
          "base_uri": "https://localhost:8080/",
          "height": 265
        },
        "id": "zpAfRKTeRijO",
        "outputId": "6c5597ea-be01-41ee-d37d-496bcf485816"
      },
      "source": [
        "plt.scatter(x, y_transformed)\n",
        "plt.show()"
      ],
      "execution_count": null,
      "outputs": [
        {
          "output_type": "display_data",
          "data": {
            "image/png": "[encoded data removed]",
            "text/plain": [
              "<Figure size 432x288 with 1 Axes>"
            ]
          },
          "metadata": {
            "tags": [],
            "needs_background": "light"
          }
        }
      ]
    },
    {
      "cell_type": "markdown",
      "metadata": {
        "id": "Nz57_jloSRIB"
      },
      "source": [
        "### Значения сузились до диапазона (-1.3, 1.8)"
      ]
    },
    {
      "cell_type": "code",
      "metadata": {
        "id": "AivEq_cRSPis"
      },
      "source": [
        ""
      ],
      "execution_count": null,
      "outputs": []
    }
  ]
}