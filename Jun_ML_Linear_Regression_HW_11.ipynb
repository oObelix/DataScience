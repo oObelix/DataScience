{
  "nbformat": 4,
  "nbformat_minor": 0,
  "metadata": {
    "colab": {
      "name": "Jun_ML_Linear_Regression_HW_11.ipynb",
      "provenance": [],
      "collapsed_sections": [],
      "toc_visible": true,
      "include_colab_link": true
    },
    "kernelspec": {
      "display_name": "Python 3",
      "language": "python",
      "name": "python3"
    },
    "language_info": {
      "codemirror_mode": {
        "name": "ipython",
        "version": 3
      },
      "file_extension": ".py",
      "mimetype": "text/x-python",
      "name": "python",
      "nbconvert_exporter": "python",
      "pygments_lexer": "ipython3",
      "version": "3.6.3"
    }
  },
  "cells": [
    {
      "cell_type": "markdown",
      "metadata": {
        "id": "view-in-github",
        "colab_type": "text"
      },
      "source": [
        "<a href=\"https://colab.research.google.com/github/oObelix/DataScience/blob/master/Jun_ML_Linear_Regression_HW_11.ipynb\" target=\"_parent\"><img src=\"https://colab.research.google.com/assets/colab-badge.svg\" alt=\"Open In Colab\"/></a>"
      ]
    },
    {
      "cell_type": "markdown",
      "metadata": {
        "id": "cisB24TazhU2"
      },
      "source": [
        "### Урок 11. Домашняя работа\n",
        "\n",
        "**Задание простого уровня** Мы говорили, что метрики качества нужны, чтобы сравнивать различные модели между собой. В задаче полиномиальной регрессии реализуйте код для выбора лучшей степени полиному:\n",
        "\n",
        "* возьмите все степени от 1 до 10 по порядку, без пропусков.\n",
        "* найдите степень полинома, где будет лучший r2-score\n",
        "* напишите код, который выводит самую подходящую степень полинома и соответствующий ей скор\n",
        "\n",
        "Эта процедура называется Grid Search и помогает найти лучшие параметры для модели.\n",
        "\n",
        "Обучите лучшую модель и сделайте predict"
      ]
    },
    {
      "cell_type": "code",
      "metadata": {
        "id": "R9W3iW0z4aYq"
      },
      "source": [
        "import numpy as np\n",
        "import pandas as pd\n",
        "from matplotlib import pyplot as plt\n",
        "from sklearn.linear_model import LinearRegression\n",
        "from sklearn.metrics import r2_score, mean_squared_error\n",
        "from numpy.linalg import inv\n",
        "from sklearn.datasets import load_boston\n",
        "from sklearn.model_selection import train_test_split\n",
        "from sklearn.preprocessing import StandardScaler"
      ],
      "execution_count": 1,
      "outputs": []
    },
    {
      "cell_type": "code",
      "metadata": {
        "colab": {
          "base_uri": "https://localhost:8080/"
        },
        "id": "ctDIJLLg6mQb",
        "outputId": "75426218-7c3e-4960-8642-bedf016792a2"
      },
      "source": [
        "!ls sample_data"
      ],
      "execution_count": 2,
      "outputs": [
        {
          "output_type": "stream",
          "text": [
            "3.10_non_linear.csv\t     california_housing_train.csv  README.md\n",
            "anscombe.json\t\t     mnist_test.csv\n",
            "california_housing_test.csv  mnist_train_small.csv\n"
          ],
          "name": "stdout"
        }
      ]
    },
    {
      "cell_type": "code",
      "metadata": {
        "colab": {
          "base_uri": "https://localhost:8080/",
          "height": 204
        },
        "id": "-quTUGIC6rOW",
        "outputId": "9c244271-a32f-40f3-ba76-de6669dbe853"
      },
      "source": [
        "data = pd.read_csv('sample_data/3.10_non_linear.csv')\n",
        "data.head()"
      ],
      "execution_count": 3,
      "outputs": [
        {
          "output_type": "execute_result",
          "data": {
            "text/html": [
              "<div>\n",
              "<style scoped>\n",
              "    .dataframe tbody tr th:only-of-type {\n",
              "        vertical-align: middle;\n",
              "    }\n",
              "\n",
              "    .dataframe tbody tr th {\n",
              "        vertical-align: top;\n",
              "    }\n",
              "\n",
              "    .dataframe thead th {\n",
              "        text-align: right;\n",
              "    }\n",
              "</style>\n",
              "<table border=\"1\" class=\"dataframe\">\n",
              "  <thead>\n",
              "    <tr style=\"text-align: right;\">\n",
              "      <th></th>\n",
              "      <th>x_train</th>\n",
              "      <th>y_train</th>\n",
              "    </tr>\n",
              "  </thead>\n",
              "  <tbody>\n",
              "    <tr>\n",
              "      <th>0</th>\n",
              "      <td>0.138368</td>\n",
              "      <td>0.838812</td>\n",
              "    </tr>\n",
              "    <tr>\n",
              "      <th>1</th>\n",
              "      <td>0.157237</td>\n",
              "      <td>0.889313</td>\n",
              "    </tr>\n",
              "    <tr>\n",
              "      <th>2</th>\n",
              "      <td>0.188684</td>\n",
              "      <td>1.430040</td>\n",
              "    </tr>\n",
              "    <tr>\n",
              "      <th>3</th>\n",
              "      <td>0.685553</td>\n",
              "      <td>1.717309</td>\n",
              "    </tr>\n",
              "    <tr>\n",
              "      <th>4</th>\n",
              "      <td>0.874237</td>\n",
              "      <td>2.032588</td>\n",
              "    </tr>\n",
              "  </tbody>\n",
              "</table>\n",
              "</div>"
            ],
            "text/plain": [
              "    x_train   y_train\n",
              "0  0.138368  0.838812\n",
              "1  0.157237  0.889313\n",
              "2  0.188684  1.430040\n",
              "3  0.685553  1.717309\n",
              "4  0.874237  2.032588"
            ]
          },
          "metadata": {
            "tags": []
          },
          "execution_count": 3
        }
      ]
    },
    {
      "cell_type": "code",
      "metadata": {
        "id": "1b2GC3T05A70"
      },
      "source": [
        "def generate_degrees(source_data: list, degree: int):\n",
        "    \"\"\"Функция, которая принимает на вход одномерный массив, а возвращает n-мерный\n",
        "    \n",
        "    Для каждой степени от 1 до  degree возводим x в эту степень\n",
        "    \"\"\"\n",
        "    return np.array([\n",
        "          source_data**n for n in range(1, degree + 1)  \n",
        "    ]).T\n",
        "\n",
        "def train_polynomial(degree, data):\n",
        "    \"\"\"Генерим данные, тренируем модель\n",
        "    \"\"\"\n",
        "    \n",
        "    X = generate_degrees(data['x_train'], degree)\n",
        "\n",
        "    model = LinearRegression().fit(X, data['y_train'])\n",
        "    y_pred = model.predict(X)\n",
        "\n",
        "    error = r2_score(data['y_train'], y_pred)\n",
        "\n",
        "    return error\n"
      ],
      "execution_count": 4,
      "outputs": []
    },
    {
      "cell_type": "code",
      "metadata": {
        "colab": {
          "base_uri": "https://localhost:8080/"
        },
        "id": "4N7mgdtk5L__",
        "outputId": "13c7d381-8656-46ae-bdf0-164f263db5c9"
      },
      "source": [
        "def grid_search(max_degree, data):\n",
        "  good_error = -np.inf\n",
        "  good_degree = 1\n",
        "  for degree in range(1, max_degree + 1):\n",
        "    error = train_polynomial(degree, data)\n",
        "    if error > good_error:\n",
        "      good_error = error\n",
        "      good_degree = degree\n",
        "  return good_degree, good_error\n",
        "\n",
        "degree, error = grid_search(20, data)\n",
        "print('Cтепень полинома, где лучший r2-score = {degree}, \\\n",
        "      \\nпри этом скор = {error}'.format(degree=degree, error=error))"
      ],
      "execution_count": 5,
      "outputs": [
        {
          "output_type": "stream",
          "text": [
            "Cтепень полинома, где лучший r2-score = 14,       \n",
            "при этом скор = 0.916397086647856\n"
          ],
          "name": "stdout"
        }
      ]
    },
    {
      "cell_type": "markdown",
      "metadata": {
        "id": "z3dSmlAFzhU9"
      },
      "source": [
        "**Задание среднего уровня** Напишите класс для обучения модели, который содержит:\n",
        "\n",
        "* функцию `.fit(X, y)` , которая принимает на вход массив фичей `X`, массив таргетов `y` и обучает коэффициенты регрессии. Код для обучения взять из первого урока модуля *Постановка ML задачи линейной регрессии*\n",
        "* функцию `.predict(X)`, которая по массиву фичей `X` возвращает массив предсказаний `y`\n",
        "\n",
        "Нужно использовать код для аналитически вычисляемых коэффициентов. \n",
        "\n",
        "Это задание позволит понять, как работает линейная регрессия \"внутри\" библиотечной реализации."
      ]
    },
    {
      "cell_type": "code",
      "metadata": {
        "id": "rayvZFx1zhU9"
      },
      "source": [
        "class CustomLinearReg:\n",
        "    def __init__(self):\n",
        "        pass\n",
        "    \n",
        "    def fit(self, X, y):\n",
        "      Ones = np.ones((X.shape[0],2))\n",
        "      Ones[:,1:] = np.array(X).reshape(-1,1)\n",
        "      X = Ones\n",
        "      y = np.array(y).reshape(-1,1)\n",
        "      w = inv((X.T).dot(X)).dot(X.T).dot(y)\n",
        "      self.w1 = w[0][0]\n",
        "      self.w2 = w[1][0]\n",
        "    \n",
        "    def predict(self, X):\n",
        "      return self.w1 + self.w2*np.array(X)"
      ],
      "execution_count": null,
      "outputs": []
    },
    {
      "cell_type": "code",
      "metadata": {
        "colab": {
          "base_uri": "https://localhost:8080/"
        },
        "id": "8Rp6iCU0URMl",
        "outputId": "9bda4910-0352-453c-d10b-27677def1fe1"
      },
      "source": [
        "clr = CustomLinearReg()\n",
        "clr.fit(data['x_train'], data['y_train'])\n",
        "clr.predict(data['x_train'])"
      ],
      "execution_count": null,
      "outputs": [
        {
          "output_type": "execute_result",
          "data": {
            "text/plain": [
              "array([ 1.92263843,  1.91631157,  1.9057668 ,  1.73915947,  1.67589087,\n",
              "        1.57255215,  1.54935366,  1.5430268 ,  1.49873878,  1.49030296,\n",
              "        1.47554029,  1.45445075,  1.44812389,  1.35111203,  1.29206133,\n",
              "        1.20137633,  1.08327494,  1.06851226,  1.0305511 ,  1.02211529,\n",
              "        0.99258994,  0.98837203,  0.87237959,  0.85761691,  0.78591249,\n",
              "        0.76271401,  0.70788121,  0.70366331,  0.65515738,  0.59188877,\n",
              "        0.59188877,  0.58556191,  0.56447238,  0.51596645,  0.44637098,\n",
              "        0.43582621,  0.41895459,  0.41262772,  0.31350691,  0.25023831,\n",
              "        0.23969354,  0.20595028,  0.18907865,  0.15322644,  0.14268168,\n",
              "        0.12159214,  0.08784889, -0.0260346 , -0.03236146, -0.03236146])"
            ]
          },
          "metadata": {
            "tags": []
          },
          "execution_count": 102
        }
      ]
    },
    {
      "cell_type": "code",
      "metadata": {
        "colab": {
          "base_uri": "https://localhost:8080/"
        },
        "id": "NHdyJ4Y-VzJf",
        "outputId": "18e07248-896c-4e11-df75-844ec365e3e9"
      },
      "source": [
        "# Для проверки подсчитаем тот же массив ссредствами sklearn LinearRegression\n",
        "# и убедимся, что массивы похожи или совпадают.\n",
        "model = LinearRegression().fit(np.array(data['x_train']).reshape(-1, 1),\n",
        "                               data['y_train'])\n",
        "model.predict(np.array(data['x_train']).reshape(-1, 1))"
      ],
      "execution_count": null,
      "outputs": [
        {
          "output_type": "execute_result",
          "data": {
            "text/plain": [
              "array([ 1.92263843,  1.91631157,  1.9057668 ,  1.73915947,  1.67589087,\n",
              "        1.57255215,  1.54935366,  1.5430268 ,  1.49873878,  1.49030296,\n",
              "        1.47554029,  1.45445075,  1.44812389,  1.35111203,  1.29206133,\n",
              "        1.20137633,  1.08327494,  1.06851226,  1.0305511 ,  1.02211529,\n",
              "        0.99258994,  0.98837203,  0.87237959,  0.85761691,  0.78591249,\n",
              "        0.76271401,  0.70788121,  0.70366331,  0.65515738,  0.59188877,\n",
              "        0.59188877,  0.58556191,  0.56447238,  0.51596645,  0.44637098,\n",
              "        0.43582621,  0.41895459,  0.41262772,  0.31350691,  0.25023831,\n",
              "        0.23969354,  0.20595028,  0.18907865,  0.15322644,  0.14268168,\n",
              "        0.12159214,  0.08784889, -0.0260346 , -0.03236146, -0.03236146])"
            ]
          },
          "metadata": {
            "tags": []
          },
          "execution_count": 100
        }
      ]
    },
    {
      "cell_type": "markdown",
      "metadata": {
        "id": "uwWP7aPOzhVA"
      },
      "source": [
        "**Задание высокого уровня**\n",
        "\n",
        "1. разделите датасет с домами Бостона из Урока 2 (таргет и фичи) на две части: в одной части 80% датасета (назовём train) в другой 20% (назовём valid) с помощью функции `train_test_split` из библиотеки `sklearn`\n",
        "1. обучите модель только на train датасете\n",
        "1. постройте предсказания valid датасете\n",
        "1. Посчитайте  `r2 score` на валидационном сете\n",
        "\n",
        "После этого примените к обеим датасетам z-преобразование и повторите шаги 2-4. Как изменилась метрика r2?\n",
        "\n",
        "Это задание поможет понять, как валидировать линейную регрессию (и другие модели) на отложенной выборке."
      ]
    },
    {
      "cell_type": "code",
      "metadata": {
        "id": "f6p8B0VB5mHa",
        "colab": {
          "base_uri": "https://localhost:8080/"
        },
        "outputId": "547227ac-389f-45f2-b5cb-d81d9410ad0d"
      },
      "source": [
        "boston_dataset = load_boston()\n",
        "\n",
        "X = boston_dataset.data\n",
        "y = boston_dataset.target\n",
        "\n",
        "X_train, X_valid, y_train, y_valid = train_test_split(X, y, train_size=0.8, \n",
        "                                                      random_state=42)\n",
        "\n",
        "reg = LinearRegression().fit(X_train, y_train)\n",
        "y_X_valid_pred = reg.predict(X_valid)\n",
        "\n",
        "r2_score(y_valid, y_X_valid_pred)"
      ],
      "execution_count": 6,
      "outputs": [
        {
          "output_type": "execute_result",
          "data": {
            "text/plain": [
              "0.6687594935356307"
            ]
          },
          "metadata": {
            "tags": []
          },
          "execution_count": 6
        }
      ]
    },
    {
      "cell_type": "code",
      "metadata": {
        "id": "RjwHITjhXUBV"
      },
      "source": [
        "# z-преобразования на уже разбитом множестве\n",
        "scaler_X = StandardScaler()\n",
        "X_train_z = scaler_X.fit_transform(X_train)\n",
        "X_valid_z = scaler_X.transform(X_valid)\n",
        "\n",
        "scaler_y = StandardScaler()\n",
        "y_train_z = scaler_y.fit_transform(y_train.reshape(-1, 1)).reshape(-1)\n",
        "y_valid_z = scaler_y.transform(y_valid.reshape(-1, 1)).reshape(-1)"
      ],
      "execution_count": 13,
      "outputs": []
    },
    {
      "cell_type": "code",
      "metadata": {
        "colab": {
          "base_uri": "https://localhost:8080/"
        },
        "id": "jRUff3TnjvLp",
        "outputId": "ab9f1c8b-7cee-4401-a3ec-a1ee168031c3"
      },
      "source": [
        "reg = LinearRegression().fit(X_train_z, y_train_z)\n",
        "y_pred_X_valid_z = reg.predict(X_valid_z)\n",
        "\n",
        "r2_score(y_valid_z, y_pred_X_valid_z)"
      ],
      "execution_count": 10,
      "outputs": [
        {
          "output_type": "execute_result",
          "data": {
            "text/plain": [
              "0.668759493535632"
            ]
          },
          "metadata": {
            "tags": []
          },
          "execution_count": 10
        }
      ]
    },
    {
      "cell_type": "markdown",
      "metadata": {
        "id": "MrhwzhuCj5at"
      },
      "source": [
        "### Вывод: Z-преобразование не влияет на качество модели по r2-score."
      ]
    },
    {
      "cell_type": "code",
      "metadata": {
        "id": "p2JjQo9Zjw5v"
      },
      "source": [
        ""
      ],
      "execution_count": null,
      "outputs": []
    }
  ]
}