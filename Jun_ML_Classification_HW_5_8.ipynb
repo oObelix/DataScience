{
  "nbformat": 4,
  "nbformat_minor": 0,
  "metadata": {
    "colab": {
      "name": "Jun ML Classification HW  5.8.ipynb",
      "provenance": [],
      "collapsed_sections": [],
      "include_colab_link": true
    },
    "kernelspec": {
      "display_name": "Python 3",
      "language": "python",
      "name": "python3"
    },
    "language_info": {
      "codemirror_mode": {
        "name": "ipython",
        "version": 3
      },
      "file_extension": ".py",
      "mimetype": "text/x-python",
      "name": "python",
      "nbconvert_exporter": "python",
      "pygments_lexer": "ipython3",
      "version": "3.6.3"
    }
  },
  "cells": [
    {
      "cell_type": "markdown",
      "metadata": {
        "id": "view-in-github",
        "colab_type": "text"
      },
      "source": [
        "<a href=\"https://colab.research.google.com/github/oObelix/DataScience/blob/master/Jun_ML_Classification_HW_5_8.ipynb\" target=\"_parent\"><img src=\"https://colab.research.google.com/assets/colab-badge.svg\" alt=\"Open In Colab\"/></a>"
      ]
    },
    {
      "cell_type": "markdown",
      "metadata": {
        "id": "gyHxysn44I-z"
      },
      "source": [
        "# Урок 8. Деревья решений.\n",
        "\n",
        "В уроках мы разбирали на небольшом наборе данных деревья решений без настройки гиперпараметров. Здесь предлагаем вам рассмотреть работу классификатора на более сложном датасете, применив настройку гиперпараметров."
      ]
    },
    {
      "cell_type": "markdown",
      "metadata": {
        "id": "ie9fI_rI4I-1"
      },
      "source": [
        "### 1.\n",
        "На датасете из предыдущего урока - load_wine() - обучите дерево решений (DecisionTreeClassifier)."
      ]
    },
    {
      "cell_type": "markdown",
      "metadata": {
        "id": "Fz-HWZqk4I-2"
      },
      "source": [
        "*Примечание: при установке гиперпараметров модели и разбиении на тренировочный и тестовый датасеты используйте random_state=17 для воспроизводимости результатов.*"
      ]
    },
    {
      "cell_type": "code",
      "metadata": {
        "id": "XdWEqtdn4I-4"
      },
      "source": [
        "from sklearn.datasets import load_wine\n",
        "from sklearn.tree import DecisionTreeClassifier\n",
        "from sklearn.model_selection import train_test_split"
      ],
      "execution_count": null,
      "outputs": []
    },
    {
      "cell_type": "code",
      "metadata": {
        "id": "Pvq2DSbA4I-7"
      },
      "source": [
        "### YOUR CODE HERE ###"
      ],
      "execution_count": null,
      "outputs": []
    },
    {
      "cell_type": "code",
      "metadata": {
        "colab": {
          "base_uri": "https://localhost:8080/"
        },
        "id": "mi_paqbC_RvS",
        "outputId": "4d436125-069b-4c81-e1a8-6445449be099"
      },
      "source": [
        "wine_dataset = load_wine()\n",
        "print(wine_dataset.data.shape, wine_dataset.target.shape)"
      ],
      "execution_count": null,
      "outputs": [
        {
          "output_type": "stream",
          "text": [
            "(178, 13) (178,)\n"
          ],
          "name": "stdout"
        }
      ]
    },
    {
      "cell_type": "code",
      "metadata": {
        "id": "M2mp_YeP_r8c"
      },
      "source": [
        "dtc = DecisionTreeClassifier(random_state=17)\n",
        "dtc_model = dtc.fit(wine_dataset.data, wine_dataset.target)"
      ],
      "execution_count": null,
      "outputs": []
    },
    {
      "cell_type": "code",
      "metadata": {
        "id": "7D2F6X_T_sIP"
      },
      "source": [
        ""
      ],
      "execution_count": null,
      "outputs": []
    },
    {
      "cell_type": "markdown",
      "metadata": {
        "id": "Lsp2IelB4I-9"
      },
      "source": [
        "### 2.\n",
        "Отобразите дерево с помощью библиотеки graphviz.\n",
        "\n",
        "*Примечание: если, изучая урок, вы не установили библиотеку graphviz, то необходимо сделать это сейчас.*"
      ]
    },
    {
      "cell_type": "code",
      "metadata": {
        "id": "nZhmh4K94I-_"
      },
      "source": [
        "from sklearn import tree\n",
        "import graphviz"
      ],
      "execution_count": null,
      "outputs": []
    },
    {
      "cell_type": "code",
      "metadata": {
        "id": "xb-TBuRW4I_B"
      },
      "source": [
        "### YOUR CODE HERE ###"
      ],
      "execution_count": null,
      "outputs": []
    },
    {
      "cell_type": "code",
      "metadata": {
        "colab": {
          "base_uri": "https://localhost:8080/",
          "height": 936
        },
        "id": "jt6h-HcaEp_1",
        "outputId": "a26c55ec-5711-469a-b4f2-177f7c799ae2"
      },
      "source": [
        "def print_graph(data):\n",
        "    dot_data = tree.export_graphviz(data, out_file=None,\n",
        "                                    feature_names=wine_dataset.feature_names,  \n",
        "                                    class_names=wine_dataset.target_names,  \n",
        "                                    filled=True)  \n",
        "    return graphviz.Source(dot_data)  \n",
        "\n",
        "print_graph(dtc_model)"
      ],
      "execution_count": null,
      "outputs": [
        {
          "output_type": "execute_result",
          "data": {
            "text/plain": [
              "<graphviz.files.Source at 0x7f3b4b124590>"
            ],
            "image/svg+xml": "<?xml version=\"1.0\" encoding=\"UTF-8\" standalone=\"no\"?>\n<!DOCTYPE svg PUBLIC \"-//W3C//DTD SVG 1.1//EN\"\n \"http://www.w3.org/Graphics/SVG/1.1/DTD/svg11.dtd\">\n<!-- Generated by graphviz version 2.40.1 (20161225.0304)\n -->\n<!-- Title: Tree Pages: 1 -->\n<svg width=\"1221pt\" height=\"671pt\"\n viewBox=\"0.00 0.00 1220.50 671.00\" xmlns=\"http://www.w3.org/2000/svg\" xmlns:xlink=\"http://www.w3.org/1999/xlink\">\n<g id=\"graph0\" class=\"graph\" transform=\"scale(1 1) rotate(0) translate(4 667)\">\n<title>Tree</title>\n<polygon fill=\"#ffffff\" stroke=\"transparent\" points=\"-4,4 -4,-667 1216.5,-667 1216.5,4 -4,4\"/>\n<!-- 0 -->\n<g id=\"node1\" class=\"node\">\n<title>0</title>\n<polygon fill=\"#ebfcf2\" stroke=\"#000000\" points=\"723.5,-663 591.5,-663 591.5,-580 723.5,-580 723.5,-663\"/>\n<text text-anchor=\"middle\" x=\"657.5\" y=\"-647.8\" font-family=\"Times,serif\" font-size=\"14.00\" fill=\"#000000\">proline &lt;= 755.0</text>\n<text text-anchor=\"middle\" x=\"657.5\" y=\"-632.8\" font-family=\"Times,serif\" font-size=\"14.00\" fill=\"#000000\">gini = 0.658</text>\n<text text-anchor=\"middle\" x=\"657.5\" y=\"-617.8\" font-family=\"Times,serif\" font-size=\"14.00\" fill=\"#000000\">samples = 178</text>\n<text text-anchor=\"middle\" x=\"657.5\" y=\"-602.8\" font-family=\"Times,serif\" font-size=\"14.00\" fill=\"#000000\">value = [59, 71, 48]</text>\n<text text-anchor=\"middle\" x=\"657.5\" y=\"-587.8\" font-family=\"Times,serif\" font-size=\"14.00\" fill=\"#000000\">class = class_1</text>\n</g>\n<!-- 1 -->\n<g id=\"node2\" class=\"node\">\n<title>1</title>\n<polygon fill=\"#b7f6d1\" stroke=\"#000000\" points=\"652.5,-544 392.5,-544 392.5,-461 652.5,-461 652.5,-544\"/>\n<text text-anchor=\"middle\" x=\"522.5\" y=\"-528.8\" font-family=\"Times,serif\" font-size=\"14.00\" fill=\"#000000\">od280/od315_of_diluted_wines &lt;= 2.115</text>\n<text text-anchor=\"middle\" x=\"522.5\" y=\"-513.8\" font-family=\"Times,serif\" font-size=\"14.00\" fill=\"#000000\">gini = 0.492</text>\n<text text-anchor=\"middle\" x=\"522.5\" y=\"-498.8\" font-family=\"Times,serif\" font-size=\"14.00\" fill=\"#000000\">samples = 111</text>\n<text text-anchor=\"middle\" x=\"522.5\" y=\"-483.8\" font-family=\"Times,serif\" font-size=\"14.00\" fill=\"#000000\">value = [2, 67, 42]</text>\n<text text-anchor=\"middle\" x=\"522.5\" y=\"-468.8\" font-family=\"Times,serif\" font-size=\"14.00\" fill=\"#000000\">class = class_1</text>\n</g>\n<!-- 0&#45;&gt;1 -->\n<g id=\"edge1\" class=\"edge\">\n<title>0&#45;&gt;1</title>\n<path fill=\"none\" stroke=\"#000000\" d=\"M610.2836,-579.8796C599.7598,-570.6031 588.5109,-560.6874 577.6979,-551.1559\"/>\n<polygon fill=\"#000000\" stroke=\"#000000\" points=\"579.734,-548.2851 569.918,-544.2981 575.1052,-553.5362 579.734,-548.2851\"/>\n<text text-anchor=\"middle\" x=\"571.4897\" y=\"-565.5486\" font-family=\"Times,serif\" font-size=\"14.00\" fill=\"#000000\">True</text>\n</g>\n<!-- 16 -->\n<g id=\"node17\" class=\"node\">\n<title>16</title>\n<polygon fill=\"#e99659\" stroke=\"#000000\" points=\"884.5,-544 750.5,-544 750.5,-461 884.5,-461 884.5,-544\"/>\n<text text-anchor=\"middle\" x=\"817.5\" y=\"-528.8\" font-family=\"Times,serif\" font-size=\"14.00\" fill=\"#000000\">flavanoids &lt;= 2.165</text>\n<text text-anchor=\"middle\" x=\"817.5\" y=\"-513.8\" font-family=\"Times,serif\" font-size=\"14.00\" fill=\"#000000\">gini = 0.265</text>\n<text text-anchor=\"middle\" x=\"817.5\" y=\"-498.8\" font-family=\"Times,serif\" font-size=\"14.00\" fill=\"#000000\">samples = 67</text>\n<text text-anchor=\"middle\" x=\"817.5\" y=\"-483.8\" font-family=\"Times,serif\" font-size=\"14.00\" fill=\"#000000\">value = [57, 4, 6]</text>\n<text text-anchor=\"middle\" x=\"817.5\" y=\"-468.8\" font-family=\"Times,serif\" font-size=\"14.00\" fill=\"#000000\">class = class_0</text>\n</g>\n<!-- 0&#45;&gt;16 -->\n<g id=\"edge16\" class=\"edge\">\n<title>0&#45;&gt;16</title>\n<path fill=\"none\" stroke=\"#000000\" d=\"M713.4602,-579.8796C726.3708,-570.2774 740.2021,-559.9903 753.4282,-550.1534\"/>\n<polygon fill=\"#000000\" stroke=\"#000000\" points=\"755.6361,-552.8732 761.5714,-544.0969 751.4586,-547.2564 755.6361,-552.8732\"/>\n<text text-anchor=\"middle\" x=\"757.9366\" y=\"-565.1313\" font-family=\"Times,serif\" font-size=\"14.00\" fill=\"#000000\">False</text>\n</g>\n<!-- 2 -->\n<g id=\"node3\" class=\"node\">\n<title>2</title>\n<polygon fill=\"#9457e9\" stroke=\"#000000\" points=\"401,-425 284,-425 284,-342 401,-342 401,-425\"/>\n<text text-anchor=\"middle\" x=\"342.5\" y=\"-409.8\" font-family=\"Times,serif\" font-size=\"14.00\" fill=\"#000000\">hue &lt;= 0.935</text>\n<text text-anchor=\"middle\" x=\"342.5\" y=\"-394.8\" font-family=\"Times,serif\" font-size=\"14.00\" fill=\"#000000\">gini = 0.227</text>\n<text text-anchor=\"middle\" x=\"342.5\" y=\"-379.8\" font-family=\"Times,serif\" font-size=\"14.00\" fill=\"#000000\">samples = 46</text>\n<text text-anchor=\"middle\" x=\"342.5\" y=\"-364.8\" font-family=\"Times,serif\" font-size=\"14.00\" fill=\"#000000\">value = [0, 6, 40]</text>\n<text text-anchor=\"middle\" x=\"342.5\" y=\"-349.8\" font-family=\"Times,serif\" font-size=\"14.00\" fill=\"#000000\">class = class_2</text>\n</g>\n<!-- 1&#45;&gt;2 -->\n<g id=\"edge2\" class=\"edge\">\n<title>1&#45;&gt;2</title>\n<path fill=\"none\" stroke=\"#000000\" d=\"M459.5447,-460.8796C443.4007,-450.2066 425.9767,-438.6874 409.6307,-427.8809\"/>\n<polygon fill=\"#000000\" stroke=\"#000000\" points=\"411.4656,-424.8982 401.1936,-422.303 407.6052,-430.7375 411.4656,-424.8982\"/>\n</g>\n<!-- 9 -->\n<g id=\"node10\" class=\"node\">\n<title>9</title>\n<polygon fill=\"#46e789\" stroke=\"#000000\" points=\"589.5,-425 455.5,-425 455.5,-342 589.5,-342 589.5,-425\"/>\n<text text-anchor=\"middle\" x=\"522.5\" y=\"-409.8\" font-family=\"Times,serif\" font-size=\"14.00\" fill=\"#000000\">flavanoids &lt;= 0.795</text>\n<text text-anchor=\"middle\" x=\"522.5\" y=\"-394.8\" font-family=\"Times,serif\" font-size=\"14.00\" fill=\"#000000\">gini = 0.117</text>\n<text text-anchor=\"middle\" x=\"522.5\" y=\"-379.8\" font-family=\"Times,serif\" font-size=\"14.00\" fill=\"#000000\">samples = 65</text>\n<text text-anchor=\"middle\" x=\"522.5\" y=\"-364.8\" font-family=\"Times,serif\" font-size=\"14.00\" fill=\"#000000\">value = [2, 61, 2]</text>\n<text text-anchor=\"middle\" x=\"522.5\" y=\"-349.8\" font-family=\"Times,serif\" font-size=\"14.00\" fill=\"#000000\">class = class_1</text>\n</g>\n<!-- 1&#45;&gt;9 -->\n<g id=\"edge9\" class=\"edge\">\n<title>1&#45;&gt;9</title>\n<path fill=\"none\" stroke=\"#000000\" d=\"M522.5,-460.8796C522.5,-452.6838 522.5,-443.9891 522.5,-435.5013\"/>\n<polygon fill=\"#000000\" stroke=\"#000000\" points=\"526.0001,-435.298 522.5,-425.2981 519.0001,-435.2981 526.0001,-435.298\"/>\n</g>\n<!-- 3 -->\n<g id=\"node4\" class=\"node\">\n<title>3</title>\n<polygon fill=\"#843ee6\" stroke=\"#000000\" points=\"244.5,-306 118.5,-306 118.5,-223 244.5,-223 244.5,-306\"/>\n<text text-anchor=\"middle\" x=\"181.5\" y=\"-290.8\" font-family=\"Times,serif\" font-size=\"14.00\" fill=\"#000000\">flavanoids &lt;= 1.58</text>\n<text text-anchor=\"middle\" x=\"181.5\" y=\"-275.8\" font-family=\"Times,serif\" font-size=\"14.00\" fill=\"#000000\">gini = 0.049</text>\n<text text-anchor=\"middle\" x=\"181.5\" y=\"-260.8\" font-family=\"Times,serif\" font-size=\"14.00\" fill=\"#000000\">samples = 40</text>\n<text text-anchor=\"middle\" x=\"181.5\" y=\"-245.8\" font-family=\"Times,serif\" font-size=\"14.00\" fill=\"#000000\">value = [0, 1, 39]</text>\n<text text-anchor=\"middle\" x=\"181.5\" y=\"-230.8\" font-family=\"Times,serif\" font-size=\"14.00\" fill=\"#000000\">class = class_2</text>\n</g>\n<!-- 2&#45;&gt;3 -->\n<g id=\"edge3\" class=\"edge\">\n<title>2&#45;&gt;3</title>\n<path fill=\"none\" stroke=\"#000000\" d=\"M286.19,-341.8796C273.1988,-332.2774 259.281,-321.9903 245.9723,-312.1534\"/>\n<polygon fill=\"#000000\" stroke=\"#000000\" points=\"247.9004,-309.2263 237.7782,-306.0969 243.7396,-314.8555 247.9004,-309.2263\"/>\n</g>\n<!-- 6 -->\n<g id=\"node7\" class=\"node\">\n<title>6</title>\n<polygon fill=\"#61ea9a\" stroke=\"#000000\" points=\"422.5,-306 262.5,-306 262.5,-223 422.5,-223 422.5,-306\"/>\n<text text-anchor=\"middle\" x=\"342.5\" y=\"-290.8\" font-family=\"Times,serif\" font-size=\"14.00\" fill=\"#000000\">color_intensity &lt;= 5.815</text>\n<text text-anchor=\"middle\" x=\"342.5\" y=\"-275.8\" font-family=\"Times,serif\" font-size=\"14.00\" fill=\"#000000\">gini = 0.278</text>\n<text text-anchor=\"middle\" x=\"342.5\" y=\"-260.8\" font-family=\"Times,serif\" font-size=\"14.00\" fill=\"#000000\">samples = 6</text>\n<text text-anchor=\"middle\" x=\"342.5\" y=\"-245.8\" font-family=\"Times,serif\" font-size=\"14.00\" fill=\"#000000\">value = [0, 5, 1]</text>\n<text text-anchor=\"middle\" x=\"342.5\" y=\"-230.8\" font-family=\"Times,serif\" font-size=\"14.00\" fill=\"#000000\">class = class_1</text>\n</g>\n<!-- 2&#45;&gt;6 -->\n<g id=\"edge6\" class=\"edge\">\n<title>2&#45;&gt;6</title>\n<path fill=\"none\" stroke=\"#000000\" d=\"M342.5,-341.8796C342.5,-333.6838 342.5,-324.9891 342.5,-316.5013\"/>\n<polygon fill=\"#000000\" stroke=\"#000000\" points=\"346.0001,-316.298 342.5,-306.2981 339.0001,-316.2981 346.0001,-316.298\"/>\n</g>\n<!-- 4 -->\n<g id=\"node5\" class=\"node\">\n<title>4</title>\n<polygon fill=\"#8139e5\" stroke=\"#000000\" points=\"117,-179.5 0,-179.5 0,-111.5 117,-111.5 117,-179.5\"/>\n<text text-anchor=\"middle\" x=\"58.5\" y=\"-164.3\" font-family=\"Times,serif\" font-size=\"14.00\" fill=\"#000000\">gini = 0.0</text>\n<text text-anchor=\"middle\" x=\"58.5\" y=\"-149.3\" font-family=\"Times,serif\" font-size=\"14.00\" fill=\"#000000\">samples = 39</text>\n<text text-anchor=\"middle\" x=\"58.5\" y=\"-134.3\" font-family=\"Times,serif\" font-size=\"14.00\" fill=\"#000000\">value = [0, 0, 39]</text>\n<text text-anchor=\"middle\" x=\"58.5\" y=\"-119.3\" font-family=\"Times,serif\" font-size=\"14.00\" fill=\"#000000\">class = class_2</text>\n</g>\n<!-- 3&#45;&gt;4 -->\n<g id=\"edge4\" class=\"edge\">\n<title>3&#45;&gt;4</title>\n<path fill=\"none\" stroke=\"#000000\" d=\"M138.4806,-222.8796C126.4329,-211.2237 113.3422,-198.5587 101.3069,-186.9148\"/>\n<polygon fill=\"#000000\" stroke=\"#000000\" points=\"103.589,-184.2528 93.9684,-179.8149 98.7217,-189.2837 103.589,-184.2528\"/>\n</g>\n<!-- 5 -->\n<g id=\"node6\" class=\"node\">\n<title>5</title>\n<polygon fill=\"#39e581\" stroke=\"#000000\" points=\"245.5,-179.5 135.5,-179.5 135.5,-111.5 245.5,-111.5 245.5,-179.5\"/>\n<text text-anchor=\"middle\" x=\"190.5\" y=\"-164.3\" font-family=\"Times,serif\" font-size=\"14.00\" fill=\"#000000\">gini = 0.0</text>\n<text text-anchor=\"middle\" x=\"190.5\" y=\"-149.3\" font-family=\"Times,serif\" font-size=\"14.00\" fill=\"#000000\">samples = 1</text>\n<text text-anchor=\"middle\" x=\"190.5\" y=\"-134.3\" font-family=\"Times,serif\" font-size=\"14.00\" fill=\"#000000\">value = [0, 1, 0]</text>\n<text text-anchor=\"middle\" x=\"190.5\" y=\"-119.3\" font-family=\"Times,serif\" font-size=\"14.00\" fill=\"#000000\">class = class_1</text>\n</g>\n<!-- 3&#45;&gt;5 -->\n<g id=\"edge5\" class=\"edge\">\n<title>3&#45;&gt;5</title>\n<path fill=\"none\" stroke=\"#000000\" d=\"M184.6478,-222.8796C185.4545,-212.2134 186.3251,-200.7021 187.1419,-189.9015\"/>\n<polygon fill=\"#000000\" stroke=\"#000000\" points=\"190.6405,-190.0504 187.9048,-179.8149 183.6605,-189.5225 190.6405,-190.0504\"/>\n</g>\n<!-- 7 -->\n<g id=\"node8\" class=\"node\">\n<title>7</title>\n<polygon fill=\"#39e581\" stroke=\"#000000\" points=\"389.5,-179.5 279.5,-179.5 279.5,-111.5 389.5,-111.5 389.5,-179.5\"/>\n<text text-anchor=\"middle\" x=\"334.5\" y=\"-164.3\" font-family=\"Times,serif\" font-size=\"14.00\" fill=\"#000000\">gini = 0.0</text>\n<text text-anchor=\"middle\" x=\"334.5\" y=\"-149.3\" font-family=\"Times,serif\" font-size=\"14.00\" fill=\"#000000\">samples = 5</text>\n<text text-anchor=\"middle\" x=\"334.5\" y=\"-134.3\" font-family=\"Times,serif\" font-size=\"14.00\" fill=\"#000000\">value = [0, 5, 0]</text>\n<text text-anchor=\"middle\" x=\"334.5\" y=\"-119.3\" font-family=\"Times,serif\" font-size=\"14.00\" fill=\"#000000\">class = class_1</text>\n</g>\n<!-- 6&#45;&gt;7 -->\n<g id=\"edge7\" class=\"edge\">\n<title>6&#45;&gt;7</title>\n<path fill=\"none\" stroke=\"#000000\" d=\"M339.702,-222.8796C338.9849,-212.2134 338.2111,-200.7021 337.485,-189.9015\"/>\n<polygon fill=\"#000000\" stroke=\"#000000\" points=\"340.9699,-189.5576 336.8069,-179.8149 333.9856,-190.0272 340.9699,-189.5576\"/>\n</g>\n<!-- 8 -->\n<g id=\"node9\" class=\"node\">\n<title>8</title>\n<polygon fill=\"#8139e5\" stroke=\"#000000\" points=\"517.5,-179.5 407.5,-179.5 407.5,-111.5 517.5,-111.5 517.5,-179.5\"/>\n<text text-anchor=\"middle\" x=\"462.5\" y=\"-164.3\" font-family=\"Times,serif\" font-size=\"14.00\" fill=\"#000000\">gini = 0.0</text>\n<text text-anchor=\"middle\" x=\"462.5\" y=\"-149.3\" font-family=\"Times,serif\" font-size=\"14.00\" fill=\"#000000\">samples = 1</text>\n<text text-anchor=\"middle\" x=\"462.5\" y=\"-134.3\" font-family=\"Times,serif\" font-size=\"14.00\" fill=\"#000000\">value = [0, 0, 1]</text>\n<text text-anchor=\"middle\" x=\"462.5\" y=\"-119.3\" font-family=\"Times,serif\" font-size=\"14.00\" fill=\"#000000\">class = class_2</text>\n</g>\n<!-- 6&#45;&gt;8 -->\n<g id=\"edge8\" class=\"edge\">\n<title>6&#45;&gt;8</title>\n<path fill=\"none\" stroke=\"#000000\" d=\"M384.4702,-222.8796C396.224,-211.2237 408.9954,-198.5587 420.7372,-186.9148\"/>\n<polygon fill=\"#000000\" stroke=\"#000000\" points=\"423.2606,-189.3416 427.8967,-179.8149 418.3316,-184.3712 423.2606,-189.3416\"/>\n</g>\n<!-- 10 -->\n<g id=\"node11\" class=\"node\">\n<title>10</title>\n<polygon fill=\"#8139e5\" stroke=\"#000000\" points=\"550.5,-298.5 440.5,-298.5 440.5,-230.5 550.5,-230.5 550.5,-298.5\"/>\n<text text-anchor=\"middle\" x=\"495.5\" y=\"-283.3\" font-family=\"Times,serif\" font-size=\"14.00\" fill=\"#000000\">gini = 0.0</text>\n<text text-anchor=\"middle\" x=\"495.5\" y=\"-268.3\" font-family=\"Times,serif\" font-size=\"14.00\" fill=\"#000000\">samples = 2</text>\n<text text-anchor=\"middle\" x=\"495.5\" y=\"-253.3\" font-family=\"Times,serif\" font-size=\"14.00\" fill=\"#000000\">value = [0, 0, 2]</text>\n<text text-anchor=\"middle\" x=\"495.5\" y=\"-238.3\" font-family=\"Times,serif\" font-size=\"14.00\" fill=\"#000000\">class = class_2</text>\n</g>\n<!-- 9&#45;&gt;10 -->\n<g id=\"edge10\" class=\"edge\">\n<title>9&#45;&gt;10</title>\n<path fill=\"none\" stroke=\"#000000\" d=\"M513.0567,-341.8796C510.6117,-331.1034 507.971,-319.4647 505.4986,-308.5677\"/>\n<polygon fill=\"#000000\" stroke=\"#000000\" points=\"508.9117,-307.7926 503.2857,-298.8149 502.0852,-309.3415 508.9117,-307.7926\"/>\n</g>\n<!-- 11 -->\n<g id=\"node12\" class=\"node\">\n<title>11</title>\n<polygon fill=\"#3fe685\" stroke=\"#000000\" points=\"692.5,-306 568.5,-306 568.5,-223 692.5,-223 692.5,-306\"/>\n<text text-anchor=\"middle\" x=\"630.5\" y=\"-290.8\" font-family=\"Times,serif\" font-size=\"14.00\" fill=\"#000000\">alcohol &lt;= 13.175</text>\n<text text-anchor=\"middle\" x=\"630.5\" y=\"-275.8\" font-family=\"Times,serif\" font-size=\"14.00\" fill=\"#000000\">gini = 0.061</text>\n<text text-anchor=\"middle\" x=\"630.5\" y=\"-260.8\" font-family=\"Times,serif\" font-size=\"14.00\" fill=\"#000000\">samples = 63</text>\n<text text-anchor=\"middle\" x=\"630.5\" y=\"-245.8\" font-family=\"Times,serif\" font-size=\"14.00\" fill=\"#000000\">value = [2, 61, 0]</text>\n<text text-anchor=\"middle\" x=\"630.5\" y=\"-230.8\" font-family=\"Times,serif\" font-size=\"14.00\" fill=\"#000000\">class = class_1</text>\n</g>\n<!-- 9&#45;&gt;11 -->\n<g id=\"edge11\" class=\"edge\">\n<title>9&#45;&gt;11</title>\n<path fill=\"none\" stroke=\"#000000\" d=\"M560.2732,-341.8796C568.5287,-332.7832 577.342,-323.0722 585.8374,-313.7116\"/>\n<polygon fill=\"#000000\" stroke=\"#000000\" points=\"588.4368,-316.0553 592.5656,-306.2981 583.2533,-311.3509 588.4368,-316.0553\"/>\n</g>\n<!-- 12 -->\n<g id=\"node13\" class=\"node\">\n<title>12</title>\n<polygon fill=\"#39e581\" stroke=\"#000000\" points=\"671,-179.5 554,-179.5 554,-111.5 671,-111.5 671,-179.5\"/>\n<text text-anchor=\"middle\" x=\"612.5\" y=\"-164.3\" font-family=\"Times,serif\" font-size=\"14.00\" fill=\"#000000\">gini = 0.0</text>\n<text text-anchor=\"middle\" x=\"612.5\" y=\"-149.3\" font-family=\"Times,serif\" font-size=\"14.00\" fill=\"#000000\">samples = 58</text>\n<text text-anchor=\"middle\" x=\"612.5\" y=\"-134.3\" font-family=\"Times,serif\" font-size=\"14.00\" fill=\"#000000\">value = [0, 58, 0]</text>\n<text text-anchor=\"middle\" x=\"612.5\" y=\"-119.3\" font-family=\"Times,serif\" font-size=\"14.00\" fill=\"#000000\">class = class_1</text>\n</g>\n<!-- 11&#45;&gt;12 -->\n<g id=\"edge12\" class=\"edge\">\n<title>11&#45;&gt;12</title>\n<path fill=\"none\" stroke=\"#000000\" d=\"M624.2045,-222.8796C622.5911,-212.2134 620.8499,-200.7021 619.2162,-189.9015\"/>\n<polygon fill=\"#000000\" stroke=\"#000000\" points=\"622.6468,-189.179 617.6905,-179.8149 615.7255,-190.226 622.6468,-189.179\"/>\n</g>\n<!-- 13 -->\n<g id=\"node14\" class=\"node\">\n<title>13</title>\n<polygon fill=\"#bdf6d5\" stroke=\"#000000\" points=\"813.5,-187 689.5,-187 689.5,-104 813.5,-104 813.5,-187\"/>\n<text text-anchor=\"middle\" x=\"751.5\" y=\"-171.8\" font-family=\"Times,serif\" font-size=\"14.00\" fill=\"#000000\">alcohol &lt;= 13.365</text>\n<text text-anchor=\"middle\" x=\"751.5\" y=\"-156.8\" font-family=\"Times,serif\" font-size=\"14.00\" fill=\"#000000\">gini = 0.48</text>\n<text text-anchor=\"middle\" x=\"751.5\" y=\"-141.8\" font-family=\"Times,serif\" font-size=\"14.00\" fill=\"#000000\">samples = 5</text>\n<text text-anchor=\"middle\" x=\"751.5\" y=\"-126.8\" font-family=\"Times,serif\" font-size=\"14.00\" fill=\"#000000\">value = [2, 3, 0]</text>\n<text text-anchor=\"middle\" x=\"751.5\" y=\"-111.8\" font-family=\"Times,serif\" font-size=\"14.00\" fill=\"#000000\">class = class_1</text>\n</g>\n<!-- 11&#45;&gt;13 -->\n<g id=\"edge13\" class=\"edge\">\n<title>11&#45;&gt;13</title>\n<path fill=\"none\" stroke=\"#000000\" d=\"M672.8199,-222.8796C682.1608,-213.6931 692.139,-203.8798 701.744,-194.4336\"/>\n<polygon fill=\"#000000\" stroke=\"#000000\" points=\"704.3238,-196.8054 708.9994,-187.2981 699.4155,-191.8146 704.3238,-196.8054\"/>\n</g>\n<!-- 14 -->\n<g id=\"node15\" class=\"node\">\n<title>14</title>\n<polygon fill=\"#e58139\" stroke=\"#000000\" points=\"742.5,-68 632.5,-68 632.5,0 742.5,0 742.5,-68\"/>\n<text text-anchor=\"middle\" x=\"687.5\" y=\"-52.8\" font-family=\"Times,serif\" font-size=\"14.00\" fill=\"#000000\">gini = 0.0</text>\n<text text-anchor=\"middle\" x=\"687.5\" y=\"-37.8\" font-family=\"Times,serif\" font-size=\"14.00\" fill=\"#000000\">samples = 2</text>\n<text text-anchor=\"middle\" x=\"687.5\" y=\"-22.8\" font-family=\"Times,serif\" font-size=\"14.00\" fill=\"#000000\">value = [2, 0, 0]</text>\n<text text-anchor=\"middle\" x=\"687.5\" y=\"-7.8\" font-family=\"Times,serif\" font-size=\"14.00\" fill=\"#000000\">class = class_0</text>\n</g>\n<!-- 13&#45;&gt;14 -->\n<g id=\"edge14\" class=\"edge\">\n<title>13&#45;&gt;14</title>\n<path fill=\"none\" stroke=\"#000000\" d=\"M727.6688,-103.9815C722.6044,-95.1585 717.2475,-85.8258 712.1532,-76.9506\"/>\n<polygon fill=\"#000000\" stroke=\"#000000\" points=\"715.1807,-75.1942 707.167,-68.2637 709.1097,-78.6789 715.1807,-75.1942\"/>\n</g>\n<!-- 15 -->\n<g id=\"node16\" class=\"node\">\n<title>15</title>\n<polygon fill=\"#39e581\" stroke=\"#000000\" points=\"870.5,-68 760.5,-68 760.5,0 870.5,0 870.5,-68\"/>\n<text text-anchor=\"middle\" x=\"815.5\" y=\"-52.8\" font-family=\"Times,serif\" font-size=\"14.00\" fill=\"#000000\">gini = 0.0</text>\n<text text-anchor=\"middle\" x=\"815.5\" y=\"-37.8\" font-family=\"Times,serif\" font-size=\"14.00\" fill=\"#000000\">samples = 3</text>\n<text text-anchor=\"middle\" x=\"815.5\" y=\"-22.8\" font-family=\"Times,serif\" font-size=\"14.00\" fill=\"#000000\">value = [0, 3, 0]</text>\n<text text-anchor=\"middle\" x=\"815.5\" y=\"-7.8\" font-family=\"Times,serif\" font-size=\"14.00\" fill=\"#000000\">class = class_1</text>\n</g>\n<!-- 13&#45;&gt;15 -->\n<g id=\"edge15\" class=\"edge\">\n<title>13&#45;&gt;15</title>\n<path fill=\"none\" stroke=\"#000000\" d=\"M775.3312,-103.9815C780.3956,-95.1585 785.7525,-85.8258 790.8468,-76.9506\"/>\n<polygon fill=\"#000000\" stroke=\"#000000\" points=\"793.8903,-78.6789 795.833,-68.2637 787.8193,-75.1942 793.8903,-78.6789\"/>\n</g>\n<!-- 17 -->\n<g id=\"node18\" class=\"node\">\n<title>17</title>\n<polygon fill=\"#ab7bee\" stroke=\"#000000\" points=\"885.5,-425 749.5,-425 749.5,-342 885.5,-342 885.5,-425\"/>\n<text text-anchor=\"middle\" x=\"817.5\" y=\"-409.8\" font-family=\"Times,serif\" font-size=\"14.00\" fill=\"#000000\">malic_acid &lt;= 2.085</text>\n<text text-anchor=\"middle\" x=\"817.5\" y=\"-394.8\" font-family=\"Times,serif\" font-size=\"14.00\" fill=\"#000000\">gini = 0.375</text>\n<text text-anchor=\"middle\" x=\"817.5\" y=\"-379.8\" font-family=\"Times,serif\" font-size=\"14.00\" fill=\"#000000\">samples = 8</text>\n<text text-anchor=\"middle\" x=\"817.5\" y=\"-364.8\" font-family=\"Times,serif\" font-size=\"14.00\" fill=\"#000000\">value = [0, 2, 6]</text>\n<text text-anchor=\"middle\" x=\"817.5\" y=\"-349.8\" font-family=\"Times,serif\" font-size=\"14.00\" fill=\"#000000\">class = class_2</text>\n</g>\n<!-- 16&#45;&gt;17 -->\n<g id=\"edge17\" class=\"edge\">\n<title>16&#45;&gt;17</title>\n<path fill=\"none\" stroke=\"#000000\" d=\"M817.5,-460.8796C817.5,-452.6838 817.5,-443.9891 817.5,-435.5013\"/>\n<polygon fill=\"#000000\" stroke=\"#000000\" points=\"821.0001,-435.298 817.5,-425.2981 814.0001,-435.2981 821.0001,-435.298\"/>\n</g>\n<!-- 20 -->\n<g id=\"node21\" class=\"node\">\n<title>20</title>\n<polygon fill=\"#e68540\" stroke=\"#000000\" points=\"1095.5,-425 955.5,-425 955.5,-342 1095.5,-342 1095.5,-425\"/>\n<text text-anchor=\"middle\" x=\"1025.5\" y=\"-409.8\" font-family=\"Times,serif\" font-size=\"14.00\" fill=\"#000000\">magnesium &lt;= 135.5</text>\n<text text-anchor=\"middle\" x=\"1025.5\" y=\"-394.8\" font-family=\"Times,serif\" font-size=\"14.00\" fill=\"#000000\">gini = 0.065</text>\n<text text-anchor=\"middle\" x=\"1025.5\" y=\"-379.8\" font-family=\"Times,serif\" font-size=\"14.00\" fill=\"#000000\">samples = 59</text>\n<text text-anchor=\"middle\" x=\"1025.5\" y=\"-364.8\" font-family=\"Times,serif\" font-size=\"14.00\" fill=\"#000000\">value = [57, 2, 0]</text>\n<text text-anchor=\"middle\" x=\"1025.5\" y=\"-349.8\" font-family=\"Times,serif\" font-size=\"14.00\" fill=\"#000000\">class = class_0</text>\n</g>\n<!-- 16&#45;&gt;20 -->\n<g id=\"edge20\" class=\"edge\">\n<title>16&#45;&gt;20</title>\n<path fill=\"none\" stroke=\"#000000\" d=\"M884.7444,-464.0284C904.3888,-452.7896 926.0411,-440.402 946.3505,-428.7827\"/>\n<polygon fill=\"#000000\" stroke=\"#000000\" points=\"948.3258,-431.6849 955.2676,-423.681 944.8497,-425.609 948.3258,-431.6849\"/>\n</g>\n<!-- 18 -->\n<g id=\"node19\" class=\"node\">\n<title>18</title>\n<polygon fill=\"#39e581\" stroke=\"#000000\" points=\"820.5,-298.5 710.5,-298.5 710.5,-230.5 820.5,-230.5 820.5,-298.5\"/>\n<text text-anchor=\"middle\" x=\"765.5\" y=\"-283.3\" font-family=\"Times,serif\" font-size=\"14.00\" fill=\"#000000\">gini = 0.0</text>\n<text text-anchor=\"middle\" x=\"765.5\" y=\"-268.3\" font-family=\"Times,serif\" font-size=\"14.00\" fill=\"#000000\">samples = 2</text>\n<text text-anchor=\"middle\" x=\"765.5\" y=\"-253.3\" font-family=\"Times,serif\" font-size=\"14.00\" fill=\"#000000\">value = [0, 2, 0]</text>\n<text text-anchor=\"middle\" x=\"765.5\" y=\"-238.3\" font-family=\"Times,serif\" font-size=\"14.00\" fill=\"#000000\">class = class_1</text>\n</g>\n<!-- 17&#45;&gt;18 -->\n<g id=\"edge18\" class=\"edge\">\n<title>17&#45;&gt;18</title>\n<path fill=\"none\" stroke=\"#000000\" d=\"M799.3129,-341.8796C794.556,-330.9935 789.4143,-319.227 784.6108,-308.2344\"/>\n<polygon fill=\"#000000\" stroke=\"#000000\" points=\"787.7061,-306.5768 780.4948,-298.8149 781.2918,-309.3798 787.7061,-306.5768\"/>\n</g>\n<!-- 19 -->\n<g id=\"node20\" class=\"node\">\n<title>19</title>\n<polygon fill=\"#8139e5\" stroke=\"#000000\" points=\"948.5,-298.5 838.5,-298.5 838.5,-230.5 948.5,-230.5 948.5,-298.5\"/>\n<text text-anchor=\"middle\" x=\"893.5\" y=\"-283.3\" font-family=\"Times,serif\" font-size=\"14.00\" fill=\"#000000\">gini = 0.0</text>\n<text text-anchor=\"middle\" x=\"893.5\" y=\"-268.3\" font-family=\"Times,serif\" font-size=\"14.00\" fill=\"#000000\">samples = 6</text>\n<text text-anchor=\"middle\" x=\"893.5\" y=\"-253.3\" font-family=\"Times,serif\" font-size=\"14.00\" fill=\"#000000\">value = [0, 0, 6]</text>\n<text text-anchor=\"middle\" x=\"893.5\" y=\"-238.3\" font-family=\"Times,serif\" font-size=\"14.00\" fill=\"#000000\">class = class_2</text>\n</g>\n<!-- 17&#45;&gt;19 -->\n<g id=\"edge19\" class=\"edge\">\n<title>17&#45;&gt;19</title>\n<path fill=\"none\" stroke=\"#000000\" d=\"M844.0811,-341.8796C851.174,-330.7735 858.8521,-318.7513 865.9937,-307.5691\"/>\n<polygon fill=\"#000000\" stroke=\"#000000\" points=\"869.1518,-309.1267 871.5846,-298.8149 863.2523,-305.3589 869.1518,-309.1267\"/>\n</g>\n<!-- 21 -->\n<g id=\"node22\" class=\"node\">\n<title>21</title>\n<polygon fill=\"#e58139\" stroke=\"#000000\" points=\"1084,-298.5 967,-298.5 967,-230.5 1084,-230.5 1084,-298.5\"/>\n<text text-anchor=\"middle\" x=\"1025.5\" y=\"-283.3\" font-family=\"Times,serif\" font-size=\"14.00\" fill=\"#000000\">gini = 0.0</text>\n<text text-anchor=\"middle\" x=\"1025.5\" y=\"-268.3\" font-family=\"Times,serif\" font-size=\"14.00\" fill=\"#000000\">samples = 57</text>\n<text text-anchor=\"middle\" x=\"1025.5\" y=\"-253.3\" font-family=\"Times,serif\" font-size=\"14.00\" fill=\"#000000\">value = [57, 0, 0]</text>\n<text text-anchor=\"middle\" x=\"1025.5\" y=\"-238.3\" font-family=\"Times,serif\" font-size=\"14.00\" fill=\"#000000\">class = class_0</text>\n</g>\n<!-- 20&#45;&gt;21 -->\n<g id=\"edge21\" class=\"edge\">\n<title>20&#45;&gt;21</title>\n<path fill=\"none\" stroke=\"#000000\" d=\"M1025.5,-341.8796C1025.5,-331.2134 1025.5,-319.7021 1025.5,-308.9015\"/>\n<polygon fill=\"#000000\" stroke=\"#000000\" points=\"1029.0001,-308.8149 1025.5,-298.8149 1022.0001,-308.815 1029.0001,-308.8149\"/>\n</g>\n<!-- 22 -->\n<g id=\"node23\" class=\"node\">\n<title>22</title>\n<polygon fill=\"#39e581\" stroke=\"#000000\" points=\"1212.5,-298.5 1102.5,-298.5 1102.5,-230.5 1212.5,-230.5 1212.5,-298.5\"/>\n<text text-anchor=\"middle\" x=\"1157.5\" y=\"-283.3\" font-family=\"Times,serif\" font-size=\"14.00\" fill=\"#000000\">gini = 0.0</text>\n<text text-anchor=\"middle\" x=\"1157.5\" y=\"-268.3\" font-family=\"Times,serif\" font-size=\"14.00\" fill=\"#000000\">samples = 2</text>\n<text text-anchor=\"middle\" x=\"1157.5\" y=\"-253.3\" font-family=\"Times,serif\" font-size=\"14.00\" fill=\"#000000\">value = [0, 2, 0]</text>\n<text text-anchor=\"middle\" x=\"1157.5\" y=\"-238.3\" font-family=\"Times,serif\" font-size=\"14.00\" fill=\"#000000\">class = class_1</text>\n</g>\n<!-- 20&#45;&gt;22 -->\n<g id=\"edge22\" class=\"edge\">\n<title>20&#45;&gt;22</title>\n<path fill=\"none\" stroke=\"#000000\" d=\"M1071.6672,-341.8796C1084.7183,-330.1138 1098.9101,-317.3197 1111.9261,-305.5855\"/>\n<polygon fill=\"#000000\" stroke=\"#000000\" points=\"1114.3526,-308.1104 1119.4364,-298.8149 1109.6654,-302.9113 1114.3526,-308.1104\"/>\n</g>\n</g>\n</svg>\n"
          },
          "metadata": {
            "tags": []
          },
          "execution_count": 16
        }
      ]
    },
    {
      "cell_type": "markdown",
      "metadata": {
        "id": "IIDx6Zyu4I_E"
      },
      "source": [
        "### 3.\n",
        "Используя полученную модель, сделайте прогноз для тестовой выборки данных и, пользуясь встроенной функцией score(), определите точность модели."
      ]
    },
    {
      "cell_type": "code",
      "metadata": {
        "colab": {
          "base_uri": "https://localhost:8080/"
        },
        "id": "4znL7UcIFWqC",
        "outputId": "9bf298c9-1315-4887-8838-2422d5e4e790"
      },
      "source": [
        "_, x_test, _, y_test = train_test_split(wine_dataset.data, wine_dataset.target,\n",
        "                                        random_state=17)\n",
        "accuracy = dtc.score(x_test, y_test)\n",
        "accuracy"
      ],
      "execution_count": null,
      "outputs": [
        {
          "output_type": "execute_result",
          "data": {
            "text/plain": [
              "1.0"
            ]
          },
          "metadata": {
            "tags": []
          },
          "execution_count": 46
        }
      ]
    },
    {
      "cell_type": "markdown",
      "metadata": {
        "id": "iaZZ7PdZ4I_H"
      },
      "source": [
        "Теперь попробуем сделать начальную настройку гиперпараметров и посмотреть, что из этого выйдет. \n",
        "\n",
        "### 4.\n",
        "\n",
        "Постройте модель, указав гиперпараметр max_features равным 2 (так же указав random_state=17) и, сделав прогноз на тестовых данных, определите, стала ли модель работать точнее."
      ]
    },
    {
      "cell_type": "markdown",
      "metadata": {
        "id": "uuCNx_8J4I_I"
      },
      "source": [
        "*Примечание: гиперпараметр max_features показывает модели, сколько различных признаков необходимо использовать каждый раз при принятии решения о разделении. То есть если, допустим, у вас имеются 50 признаков, а max_features=10, то в каждом узле случайным образом выбираются 10 признаков, которые будут использоваться для поиска лучшего разделения.*"
      ]
    },
    {
      "cell_type": "code",
      "metadata": {
        "colab": {
          "base_uri": "https://localhost:8080/"
        },
        "id": "9re2QWx9GYg0",
        "outputId": "45388a23-10e0-431e-f201-79954fef27db"
      },
      "source": [
        "dtc = DecisionTreeClassifier(random_state=17, max_features=2)\n",
        "dtc_model = dtc.fit(wine_dataset.data, wine_dataset.target)\n",
        "_, x_test, _, y_test = train_test_split(wine_dataset.data, wine_dataset.target,\n",
        "                                        random_state=17)\n",
        "accuracy = dtc.score(x_test, y_test)\n",
        "accuracy"
      ],
      "execution_count": null,
      "outputs": [
        {
          "output_type": "execute_result",
          "data": {
            "text/plain": [
              "1.0"
            ]
          },
          "metadata": {
            "tags": []
          },
          "execution_count": 48
        }
      ]
    },
    {
      "cell_type": "markdown",
      "metadata": {
        "id": "3jf721T1G4KK"
      },
      "source": [
        "## Точность не изменилась, она и так была максимальная."
      ]
    },
    {
      "cell_type": "markdown",
      "metadata": {
        "id": "iqSAgyN64I_L"
      },
      "source": [
        "### 5.\n",
        "Теперь постройте граф дерева решений, используя graphviz."
      ]
    },
    {
      "cell_type": "code",
      "metadata": {
        "colab": {
          "base_uri": "https://localhost:8080/",
          "height": 1000
        },
        "id": "hnoWq-B1GXYw",
        "outputId": "f0384766-b437-4972-f0c0-494389a30fd7"
      },
      "source": [
        "def print_graph(data):\n",
        "    dot_data = tree.export_graphviz(data, out_file=None,\n",
        "                                    feature_names=wine_dataset.feature_names,  \n",
        "                                    class_names=wine_dataset.target_names,  \n",
        "                                    filled=True)  \n",
        "    return graphviz.Source(dot_data)  \n",
        "\n",
        "print_graph(dtc_model)"
      ],
      "execution_count": null,
      "outputs": [
        {
          "output_type": "execute_result",
          "data": {
            "text/plain": [
              "<graphviz.files.Source at 0x7f3b4b156b90>"
            ],
            "image/svg+xml": "<?xml version=\"1.0\" encoding=\"UTF-8\" standalone=\"no\"?>\n<!DOCTYPE svg PUBLIC \"-//W3C//DTD SVG 1.1//EN\"\n \"http://www.w3.org/Graphics/SVG/1.1/DTD/svg11.dtd\">\n<!-- Generated by graphviz version 2.40.1 (20161225.0304)\n -->\n<!-- Title: Tree Pages: 1 -->\n<svg width=\"1831pt\" height=\"1147pt\"\n viewBox=\"0.00 0.00 1831.00 1147.00\" xmlns=\"http://www.w3.org/2000/svg\" xmlns:xlink=\"http://www.w3.org/1999/xlink\">\n<g id=\"graph0\" class=\"graph\" transform=\"scale(1 1) rotate(0) translate(4 1143)\">\n<title>Tree</title>\n<polygon fill=\"#ffffff\" stroke=\"transparent\" points=\"-4,4 -4,-1143 1827,-1143 1827,4 -4,4\"/>\n<!-- 0 -->\n<g id=\"node1\" class=\"node\">\n<title>0</title>\n<polygon fill=\"#ebfcf2\" stroke=\"#000000\" points=\"372,-1139 220,-1139 220,-1056 372,-1056 372,-1139\"/>\n<text text-anchor=\"middle\" x=\"296\" y=\"-1123.8\" font-family=\"Times,serif\" font-size=\"14.00\" fill=\"#000000\">color_intensity &lt;= 3.82</text>\n<text text-anchor=\"middle\" x=\"296\" y=\"-1108.8\" font-family=\"Times,serif\" font-size=\"14.00\" fill=\"#000000\">gini = 0.658</text>\n<text text-anchor=\"middle\" x=\"296\" y=\"-1093.8\" font-family=\"Times,serif\" font-size=\"14.00\" fill=\"#000000\">samples = 178</text>\n<text text-anchor=\"middle\" x=\"296\" y=\"-1078.8\" font-family=\"Times,serif\" font-size=\"14.00\" fill=\"#000000\">value = [59, 71, 48]</text>\n<text text-anchor=\"middle\" x=\"296\" y=\"-1063.8\" font-family=\"Times,serif\" font-size=\"14.00\" fill=\"#000000\">class = class_1</text>\n</g>\n<!-- 1 -->\n<g id=\"node2\" class=\"node\">\n<title>1</title>\n<polygon fill=\"#46e789\" stroke=\"#000000\" points=\"290,-1020 146,-1020 146,-937 290,-937 290,-1020\"/>\n<text text-anchor=\"middle\" x=\"218\" y=\"-1004.8\" font-family=\"Times,serif\" font-size=\"14.00\" fill=\"#000000\">total_phenols &lt;= 2.38</text>\n<text text-anchor=\"middle\" x=\"218\" y=\"-989.8\" font-family=\"Times,serif\" font-size=\"14.00\" fill=\"#000000\">gini = 0.117</text>\n<text text-anchor=\"middle\" x=\"218\" y=\"-974.8\" font-family=\"Times,serif\" font-size=\"14.00\" fill=\"#000000\">samples = 64</text>\n<text text-anchor=\"middle\" x=\"218\" y=\"-959.8\" font-family=\"Times,serif\" font-size=\"14.00\" fill=\"#000000\">value = [4, 60, 0]</text>\n<text text-anchor=\"middle\" x=\"218\" y=\"-944.8\" font-family=\"Times,serif\" font-size=\"14.00\" fill=\"#000000\">class = class_1</text>\n</g>\n<!-- 0&#45;&gt;1 -->\n<g id=\"edge1\" class=\"edge\">\n<title>0&#45;&gt;1</title>\n<path fill=\"none\" stroke=\"#000000\" d=\"M268.7194,-1055.8796C262.9932,-1047.1434 256.8954,-1037.8404 250.9863,-1028.8253\"/>\n<polygon fill=\"#000000\" stroke=\"#000000\" points=\"253.8063,-1026.7429 245.3971,-1020.2981 247.9518,-1030.5803 253.8063,-1026.7429\"/>\n<text text-anchor=\"middle\" x=\"240.3032\" y=\"-1041.0736\" font-family=\"Times,serif\" font-size=\"14.00\" fill=\"#000000\">True</text>\n</g>\n<!-- 10 -->\n<g id=\"node11\" class=\"node\">\n<title>10</title>\n<polygon fill=\"#fcf2ea\" stroke=\"#000000\" points=\"541.5,-1020 408.5,-1020 408.5,-937 541.5,-937 541.5,-1020\"/>\n<text text-anchor=\"middle\" x=\"475\" y=\"-1004.8\" font-family=\"Times,serif\" font-size=\"14.00\" fill=\"#000000\">magnesium &lt;= 89.5</text>\n<text text-anchor=\"middle\" x=\"475\" y=\"-989.8\" font-family=\"Times,serif\" font-size=\"14.00\" fill=\"#000000\">gini = 0.581</text>\n<text text-anchor=\"middle\" x=\"475\" y=\"-974.8\" font-family=\"Times,serif\" font-size=\"14.00\" fill=\"#000000\">samples = 114</text>\n<text text-anchor=\"middle\" x=\"475\" y=\"-959.8\" font-family=\"Times,serif\" font-size=\"14.00\" fill=\"#000000\">value = [55, 11, 48]</text>\n<text text-anchor=\"middle\" x=\"475\" y=\"-944.8\" font-family=\"Times,serif\" font-size=\"14.00\" fill=\"#000000\">class = class_0</text>\n</g>\n<!-- 0&#45;&gt;10 -->\n<g id=\"edge10\" class=\"edge\">\n<title>0&#45;&gt;10</title>\n<path fill=\"none\" stroke=\"#000000\" d=\"M358.6055,-1055.8796C373.1854,-1046.1868 388.8151,-1035.7961 403.7382,-1025.8752\"/>\n<polygon fill=\"#000000\" stroke=\"#000000\" points=\"406.0399,-1028.5479 412.4298,-1020.0969 402.1645,-1022.7185 406.0399,-1028.5479\"/>\n<text text-anchor=\"middle\" x=\"407.4953\" y=\"-1040.9051\" font-family=\"Times,serif\" font-size=\"14.00\" fill=\"#000000\">False</text>\n</g>\n<!-- 2 -->\n<g id=\"node3\" class=\"node\">\n<title>2</title>\n<polygon fill=\"#39e581\" stroke=\"#000000\" points=\"141.5,-893.5 24.5,-893.5 24.5,-825.5 141.5,-825.5 141.5,-893.5\"/>\n<text text-anchor=\"middle\" x=\"83\" y=\"-878.3\" font-family=\"Times,serif\" font-size=\"14.00\" fill=\"#000000\">gini = 0.0</text>\n<text text-anchor=\"middle\" x=\"83\" y=\"-863.3\" font-family=\"Times,serif\" font-size=\"14.00\" fill=\"#000000\">samples = 37</text>\n<text text-anchor=\"middle\" x=\"83\" y=\"-848.3\" font-family=\"Times,serif\" font-size=\"14.00\" fill=\"#000000\">value = [0, 37, 0]</text>\n<text text-anchor=\"middle\" x=\"83\" y=\"-833.3\" font-family=\"Times,serif\" font-size=\"14.00\" fill=\"#000000\">class = class_1</text>\n</g>\n<!-- 1&#45;&gt;2 -->\n<g id=\"edge2\" class=\"edge\">\n<title>1&#45;&gt;2</title>\n<path fill=\"none\" stroke=\"#000000\" d=\"M170.7836,-936.8796C157.4358,-925.1138 142.9215,-912.3197 129.6096,-900.5855\"/>\n<polygon fill=\"#000000\" stroke=\"#000000\" points=\"131.7448,-897.8019 121.9287,-893.8149 127.116,-903.0531 131.7448,-897.8019\"/>\n</g>\n<!-- 3 -->\n<g id=\"node4\" class=\"node\">\n<title>3</title>\n<polygon fill=\"#5bea97\" stroke=\"#000000\" points=\"276.5,-901 159.5,-901 159.5,-818 276.5,-818 276.5,-901\"/>\n<text text-anchor=\"middle\" x=\"218\" y=\"-885.8\" font-family=\"Times,serif\" font-size=\"14.00\" fill=\"#000000\">proline &lt;= 790.0</text>\n<text text-anchor=\"middle\" x=\"218\" y=\"-870.8\" font-family=\"Times,serif\" font-size=\"14.00\" fill=\"#000000\">gini = 0.252</text>\n<text text-anchor=\"middle\" x=\"218\" y=\"-855.8\" font-family=\"Times,serif\" font-size=\"14.00\" fill=\"#000000\">samples = 27</text>\n<text text-anchor=\"middle\" x=\"218\" y=\"-840.8\" font-family=\"Times,serif\" font-size=\"14.00\" fill=\"#000000\">value = [4, 23, 0]</text>\n<text text-anchor=\"middle\" x=\"218\" y=\"-825.8\" font-family=\"Times,serif\" font-size=\"14.00\" fill=\"#000000\">class = class_1</text>\n</g>\n<!-- 1&#45;&gt;3 -->\n<g id=\"edge3\" class=\"edge\">\n<title>1&#45;&gt;3</title>\n<path fill=\"none\" stroke=\"#000000\" d=\"M218,-936.8796C218,-928.6838 218,-919.9891 218,-911.5013\"/>\n<polygon fill=\"#000000\" stroke=\"#000000\" points=\"221.5001,-911.298 218,-901.2981 214.5001,-911.2981 221.5001,-911.298\"/>\n</g>\n<!-- 4 -->\n<g id=\"node5\" class=\"node\">\n<title>4</title>\n<polygon fill=\"#39e581\" stroke=\"#000000\" points=\"118.5,-774.5 1.5,-774.5 1.5,-706.5 118.5,-706.5 118.5,-774.5\"/>\n<text text-anchor=\"middle\" x=\"60\" y=\"-759.3\" font-family=\"Times,serif\" font-size=\"14.00\" fill=\"#000000\">gini = 0.0</text>\n<text text-anchor=\"middle\" x=\"60\" y=\"-744.3\" font-family=\"Times,serif\" font-size=\"14.00\" fill=\"#000000\">samples = 20</text>\n<text text-anchor=\"middle\" x=\"60\" y=\"-729.3\" font-family=\"Times,serif\" font-size=\"14.00\" fill=\"#000000\">value = [0, 20, 0]</text>\n<text text-anchor=\"middle\" x=\"60\" y=\"-714.3\" font-family=\"Times,serif\" font-size=\"14.00\" fill=\"#000000\">class = class_1</text>\n</g>\n<!-- 3&#45;&gt;4 -->\n<g id=\"edge4\" class=\"edge\">\n<title>3&#45;&gt;4</title>\n<path fill=\"none\" stroke=\"#000000\" d=\"M162.7393,-817.8796C146.7497,-805.8368 129.3297,-792.7167 113.4526,-780.7586\"/>\n<polygon fill=\"#000000\" stroke=\"#000000\" points=\"115.3998,-777.8435 105.3062,-774.623 111.1884,-783.435 115.3998,-777.8435\"/>\n</g>\n<!-- 5 -->\n<g id=\"node6\" class=\"node\">\n<title>5</title>\n<polygon fill=\"#f8e0ce\" stroke=\"#000000\" points=\"299,-782 137,-782 137,-699 299,-699 299,-782\"/>\n<text text-anchor=\"middle\" x=\"218\" y=\"-766.8\" font-family=\"Times,serif\" font-size=\"14.00\" fill=\"#000000\">proanthocyanins &lt;= 1.94</text>\n<text text-anchor=\"middle\" x=\"218\" y=\"-751.8\" font-family=\"Times,serif\" font-size=\"14.00\" fill=\"#000000\">gini = 0.49</text>\n<text text-anchor=\"middle\" x=\"218\" y=\"-736.8\" font-family=\"Times,serif\" font-size=\"14.00\" fill=\"#000000\">samples = 7</text>\n<text text-anchor=\"middle\" x=\"218\" y=\"-721.8\" font-family=\"Times,serif\" font-size=\"14.00\" fill=\"#000000\">value = [4, 3, 0]</text>\n<text text-anchor=\"middle\" x=\"218\" y=\"-706.8\" font-family=\"Times,serif\" font-size=\"14.00\" fill=\"#000000\">class = class_0</text>\n</g>\n<!-- 3&#45;&gt;5 -->\n<g id=\"edge5\" class=\"edge\">\n<title>3&#45;&gt;5</title>\n<path fill=\"none\" stroke=\"#000000\" d=\"M218,-817.8796C218,-809.6838 218,-800.9891 218,-792.5013\"/>\n<polygon fill=\"#000000\" stroke=\"#000000\" points=\"221.5001,-792.298 218,-782.2981 214.5001,-792.2981 221.5001,-792.298\"/>\n</g>\n<!-- 6 -->\n<g id=\"node7\" class=\"node\">\n<title>6</title>\n<polygon fill=\"#eca06a\" stroke=\"#000000\" points=\"186,-663 52,-663 52,-580 186,-580 186,-663\"/>\n<text text-anchor=\"middle\" x=\"119\" y=\"-647.8\" font-family=\"Times,serif\" font-size=\"14.00\" fill=\"#000000\">flavanoids &lt;= 2.375</text>\n<text text-anchor=\"middle\" x=\"119\" y=\"-632.8\" font-family=\"Times,serif\" font-size=\"14.00\" fill=\"#000000\">gini = 0.32</text>\n<text text-anchor=\"middle\" x=\"119\" y=\"-617.8\" font-family=\"Times,serif\" font-size=\"14.00\" fill=\"#000000\">samples = 5</text>\n<text text-anchor=\"middle\" x=\"119\" y=\"-602.8\" font-family=\"Times,serif\" font-size=\"14.00\" fill=\"#000000\">value = [4, 1, 0]</text>\n<text text-anchor=\"middle\" x=\"119\" y=\"-587.8\" font-family=\"Times,serif\" font-size=\"14.00\" fill=\"#000000\">class = class_0</text>\n</g>\n<!-- 5&#45;&gt;6 -->\n<g id=\"edge6\" class=\"edge\">\n<title>5&#45;&gt;6</title>\n<path fill=\"none\" stroke=\"#000000\" d=\"M183.3746,-698.8796C175.882,-689.8733 167.8881,-680.2644 160.1721,-670.9897\"/>\n<polygon fill=\"#000000\" stroke=\"#000000\" points=\"162.8593,-668.7472 153.7732,-663.2981 157.4781,-673.224 162.8593,-668.7472\"/>\n</g>\n<!-- 9 -->\n<g id=\"node10\" class=\"node\">\n<title>9</title>\n<polygon fill=\"#39e581\" stroke=\"#000000\" points=\"314,-655.5 204,-655.5 204,-587.5 314,-587.5 314,-655.5\"/>\n<text text-anchor=\"middle\" x=\"259\" y=\"-640.3\" font-family=\"Times,serif\" font-size=\"14.00\" fill=\"#000000\">gini = 0.0</text>\n<text text-anchor=\"middle\" x=\"259\" y=\"-625.3\" font-family=\"Times,serif\" font-size=\"14.00\" fill=\"#000000\">samples = 2</text>\n<text text-anchor=\"middle\" x=\"259\" y=\"-610.3\" font-family=\"Times,serif\" font-size=\"14.00\" fill=\"#000000\">value = [0, 2, 0]</text>\n<text text-anchor=\"middle\" x=\"259\" y=\"-595.3\" font-family=\"Times,serif\" font-size=\"14.00\" fill=\"#000000\">class = class_1</text>\n</g>\n<!-- 5&#45;&gt;9 -->\n<g id=\"edge9\" class=\"edge\">\n<title>5&#45;&gt;9</title>\n<path fill=\"none\" stroke=\"#000000\" d=\"M232.3398,-698.8796C236.0526,-688.1034 240.0626,-676.4647 243.817,-665.5677\"/>\n<polygon fill=\"#000000\" stroke=\"#000000\" points=\"247.2288,-666.4096 247.1772,-655.8149 240.6106,-664.1294 247.2288,-666.4096\"/>\n</g>\n<!-- 7 -->\n<g id=\"node8\" class=\"node\">\n<title>7</title>\n<polygon fill=\"#39e581\" stroke=\"#000000\" points=\"110,-536.5 0,-536.5 0,-468.5 110,-468.5 110,-536.5\"/>\n<text text-anchor=\"middle\" x=\"55\" y=\"-521.3\" font-family=\"Times,serif\" font-size=\"14.00\" fill=\"#000000\">gini = 0.0</text>\n<text text-anchor=\"middle\" x=\"55\" y=\"-506.3\" font-family=\"Times,serif\" font-size=\"14.00\" fill=\"#000000\">samples = 1</text>\n<text text-anchor=\"middle\" x=\"55\" y=\"-491.3\" font-family=\"Times,serif\" font-size=\"14.00\" fill=\"#000000\">value = [0, 1, 0]</text>\n<text text-anchor=\"middle\" x=\"55\" y=\"-476.3\" font-family=\"Times,serif\" font-size=\"14.00\" fill=\"#000000\">class = class_1</text>\n</g>\n<!-- 6&#45;&gt;7 -->\n<g id=\"edge7\" class=\"edge\">\n<title>6&#45;&gt;7</title>\n<path fill=\"none\" stroke=\"#000000\" d=\"M96.6159,-579.8796C90.702,-568.8835 84.3051,-556.9893 78.342,-545.9015\"/>\n<polygon fill=\"#000000\" stroke=\"#000000\" points=\"81.2742,-543.9642 73.4551,-536.8149 75.1092,-547.2799 81.2742,-543.9642\"/>\n</g>\n<!-- 8 -->\n<g id=\"node9\" class=\"node\">\n<title>8</title>\n<polygon fill=\"#e58139\" stroke=\"#000000\" points=\"238,-536.5 128,-536.5 128,-468.5 238,-468.5 238,-536.5\"/>\n<text text-anchor=\"middle\" x=\"183\" y=\"-521.3\" font-family=\"Times,serif\" font-size=\"14.00\" fill=\"#000000\">gini = 0.0</text>\n<text text-anchor=\"middle\" x=\"183\" y=\"-506.3\" font-family=\"Times,serif\" font-size=\"14.00\" fill=\"#000000\">samples = 4</text>\n<text text-anchor=\"middle\" x=\"183\" y=\"-491.3\" font-family=\"Times,serif\" font-size=\"14.00\" fill=\"#000000\">value = [4, 0, 0]</text>\n<text text-anchor=\"middle\" x=\"183\" y=\"-476.3\" font-family=\"Times,serif\" font-size=\"14.00\" fill=\"#000000\">class = class_0</text>\n</g>\n<!-- 6&#45;&gt;8 -->\n<g id=\"edge8\" class=\"edge\">\n<title>6&#45;&gt;8</title>\n<path fill=\"none\" stroke=\"#000000\" d=\"M141.3841,-579.8796C147.298,-568.8835 153.6949,-556.9893 159.658,-545.9015\"/>\n<polygon fill=\"#000000\" stroke=\"#000000\" points=\"162.8908,-547.2799 164.5449,-536.8149 156.7258,-543.9642 162.8908,-547.2799\"/>\n</g>\n<!-- 11 -->\n<g id=\"node12\" class=\"node\">\n<title>11</title>\n<polygon fill=\"#d8c2f7\" stroke=\"#000000\" points=\"543,-901 407,-901 407,-818 543,-818 543,-901\"/>\n<text text-anchor=\"middle\" x=\"475\" y=\"-885.8\" font-family=\"Times,serif\" font-size=\"14.00\" fill=\"#000000\">malic_acid &lt;= 1.205</text>\n<text text-anchor=\"middle\" x=\"475\" y=\"-870.8\" font-family=\"Times,serif\" font-size=\"14.00\" fill=\"#000000\">gini = 0.526</text>\n<text text-anchor=\"middle\" x=\"475\" y=\"-855.8\" font-family=\"Times,serif\" font-size=\"14.00\" fill=\"#000000\">samples = 21</text>\n<text text-anchor=\"middle\" x=\"475\" y=\"-840.8\" font-family=\"Times,serif\" font-size=\"14.00\" fill=\"#000000\">value = [1, 8, 12]</text>\n<text text-anchor=\"middle\" x=\"475\" y=\"-825.8\" font-family=\"Times,serif\" font-size=\"14.00\" fill=\"#000000\">class = class_2</text>\n</g>\n<!-- 10&#45;&gt;11 -->\n<g id=\"edge11\" class=\"edge\">\n<title>10&#45;&gt;11</title>\n<path fill=\"none\" stroke=\"#000000\" d=\"M475,-936.8796C475,-928.6838 475,-919.9891 475,-911.5013\"/>\n<polygon fill=\"#000000\" stroke=\"#000000\" points=\"478.5001,-911.298 475,-901.2981 471.5001,-911.2981 478.5001,-911.298\"/>\n</g>\n<!-- 20 -->\n<g id=\"node21\" class=\"node\">\n<title>20</title>\n<polygon fill=\"#f7d7c0\" stroke=\"#000000\" points=\"1103.5,-901 978.5,-901 978.5,-818 1103.5,-818 1103.5,-901\"/>\n<text text-anchor=\"middle\" x=\"1041\" y=\"-885.8\" font-family=\"Times,serif\" font-size=\"14.00\" fill=\"#000000\">alcohol &lt;= 13.715</text>\n<text text-anchor=\"middle\" x=\"1041\" y=\"-870.8\" font-family=\"Times,serif\" font-size=\"14.00\" fill=\"#000000\">gini = 0.512</text>\n<text text-anchor=\"middle\" x=\"1041\" y=\"-855.8\" font-family=\"Times,serif\" font-size=\"14.00\" fill=\"#000000\">samples = 93</text>\n<text text-anchor=\"middle\" x=\"1041\" y=\"-840.8\" font-family=\"Times,serif\" font-size=\"14.00\" fill=\"#000000\">value = [54, 3, 36]</text>\n<text text-anchor=\"middle\" x=\"1041\" y=\"-825.8\" font-family=\"Times,serif\" font-size=\"14.00\" fill=\"#000000\">class = class_0</text>\n</g>\n<!-- 10&#45;&gt;20 -->\n<g id=\"edge20\" class=\"edge\">\n<title>10&#45;&gt;20</title>\n<path fill=\"none\" stroke=\"#000000\" d=\"M541.5918,-964.4993C648.4242,-942.038 857.3147,-898.1193 968.0484,-874.8379\"/>\n<polygon fill=\"#000000\" stroke=\"#000000\" points=\"969.0603,-878.2017 978.1262,-872.7191 967.62,-871.3515 969.0603,-878.2017\"/>\n</g>\n<!-- 12 -->\n<g id=\"node13\" class=\"node\">\n<title>12</title>\n<polygon fill=\"#39e581\" stroke=\"#000000\" points=\"427,-774.5 317,-774.5 317,-706.5 427,-706.5 427,-774.5\"/>\n<text text-anchor=\"middle\" x=\"372\" y=\"-759.3\" font-family=\"Times,serif\" font-size=\"14.00\" fill=\"#000000\">gini = 0.0</text>\n<text text-anchor=\"middle\" x=\"372\" y=\"-744.3\" font-family=\"Times,serif\" font-size=\"14.00\" fill=\"#000000\">samples = 5</text>\n<text text-anchor=\"middle\" x=\"372\" y=\"-729.3\" font-family=\"Times,serif\" font-size=\"14.00\" fill=\"#000000\">value = [0, 5, 0]</text>\n<text text-anchor=\"middle\" x=\"372\" y=\"-714.3\" font-family=\"Times,serif\" font-size=\"14.00\" fill=\"#000000\">class = class_1</text>\n</g>\n<!-- 11&#45;&gt;12 -->\n<g id=\"edge12\" class=\"edge\">\n<title>11&#45;&gt;12</title>\n<path fill=\"none\" stroke=\"#000000\" d=\"M438.9756,-817.8796C429.0773,-806.4436 418.3381,-794.0363 408.4178,-782.575\"/>\n<polygon fill=\"#000000\" stroke=\"#000000\" points=\"410.8921,-780.0855 401.7012,-774.8149 405.5993,-784.6666 410.8921,-780.0855\"/>\n</g>\n<!-- 13 -->\n<g id=\"node14\" class=\"node\">\n<title>13</title>\n<polygon fill=\"#a876ed\" stroke=\"#000000\" points=\"705,-782 445,-782 445,-699 705,-699 705,-782\"/>\n<text text-anchor=\"middle\" x=\"575\" y=\"-766.8\" font-family=\"Times,serif\" font-size=\"14.00\" fill=\"#000000\">od280/od315_of_diluted_wines &lt;= 1.935</text>\n<text text-anchor=\"middle\" x=\"575\" y=\"-751.8\" font-family=\"Times,serif\" font-size=\"14.00\" fill=\"#000000\">gini = 0.398</text>\n<text text-anchor=\"middle\" x=\"575\" y=\"-736.8\" font-family=\"Times,serif\" font-size=\"14.00\" fill=\"#000000\">samples = 16</text>\n<text text-anchor=\"middle\" x=\"575\" y=\"-721.8\" font-family=\"Times,serif\" font-size=\"14.00\" fill=\"#000000\">value = [1, 3, 12]</text>\n<text text-anchor=\"middle\" x=\"575\" y=\"-706.8\" font-family=\"Times,serif\" font-size=\"14.00\" fill=\"#000000\">class = class_2</text>\n</g>\n<!-- 11&#45;&gt;13 -->\n<g id=\"edge13\" class=\"edge\">\n<title>11&#45;&gt;13</title>\n<path fill=\"none\" stroke=\"#000000\" d=\"M509.9751,-817.8796C517.5435,-808.8733 525.6181,-799.2644 533.412,-789.9897\"/>\n<polygon fill=\"#000000\" stroke=\"#000000\" points=\"536.1216,-792.2056 539.8756,-782.2981 530.7626,-787.7022 536.1216,-792.2056\"/>\n</g>\n<!-- 14 -->\n<g id=\"node15\" class=\"node\">\n<title>14</title>\n<polygon fill=\"#8139e5\" stroke=\"#000000\" points=\"490,-655.5 374,-655.5 374,-587.5 490,-587.5 490,-655.5\"/>\n<text text-anchor=\"middle\" x=\"432\" y=\"-640.3\" font-family=\"Times,serif\" font-size=\"14.00\" fill=\"#000000\">gini = 0.0</text>\n<text text-anchor=\"middle\" x=\"432\" y=\"-625.3\" font-family=\"Times,serif\" font-size=\"14.00\" fill=\"#000000\">samples = 11</text>\n<text text-anchor=\"middle\" x=\"432\" y=\"-610.3\" font-family=\"Times,serif\" font-size=\"14.00\" fill=\"#000000\">value = [0, 0, 11]</text>\n<text text-anchor=\"middle\" x=\"432\" y=\"-595.3\" font-family=\"Times,serif\" font-size=\"14.00\" fill=\"#000000\">class = class_2</text>\n</g>\n<!-- 13&#45;&gt;14 -->\n<g id=\"edge14\" class=\"edge\">\n<title>13&#45;&gt;14</title>\n<path fill=\"none\" stroke=\"#000000\" d=\"M524.9855,-698.8796C510.7147,-687.0038 495.1849,-674.0804 480.9767,-662.2568\"/>\n<polygon fill=\"#000000\" stroke=\"#000000\" points=\"483.161,-659.5212 473.2356,-655.8149 478.6834,-664.9019 483.161,-659.5212\"/>\n</g>\n<!-- 15 -->\n<g id=\"node16\" class=\"node\">\n<title>15</title>\n<polygon fill=\"#9cf2c0\" stroke=\"#000000\" points=\"641.5,-663 508.5,-663 508.5,-580 641.5,-580 641.5,-663\"/>\n<text text-anchor=\"middle\" x=\"575\" y=\"-647.8\" font-family=\"Times,serif\" font-size=\"14.00\" fill=\"#000000\">magnesium &lt;= 87.5</text>\n<text text-anchor=\"middle\" x=\"575\" y=\"-632.8\" font-family=\"Times,serif\" font-size=\"14.00\" fill=\"#000000\">gini = 0.56</text>\n<text text-anchor=\"middle\" x=\"575\" y=\"-617.8\" font-family=\"Times,serif\" font-size=\"14.00\" fill=\"#000000\">samples = 5</text>\n<text text-anchor=\"middle\" x=\"575\" y=\"-602.8\" font-family=\"Times,serif\" font-size=\"14.00\" fill=\"#000000\">value = [1, 3, 1]</text>\n<text text-anchor=\"middle\" x=\"575\" y=\"-587.8\" font-family=\"Times,serif\" font-size=\"14.00\" fill=\"#000000\">class = class_1</text>\n</g>\n<!-- 13&#45;&gt;15 -->\n<g id=\"edge15\" class=\"edge\">\n<title>13&#45;&gt;15</title>\n<path fill=\"none\" stroke=\"#000000\" d=\"M575,-698.8796C575,-690.6838 575,-681.9891 575,-673.5013\"/>\n<polygon fill=\"#000000\" stroke=\"#000000\" points=\"578.5001,-673.298 575,-663.2981 571.5001,-673.2981 578.5001,-673.298\"/>\n</g>\n<!-- 16 -->\n<g id=\"node17\" class=\"node\">\n<title>16</title>\n<polygon fill=\"#39e581\" stroke=\"#000000\" points=\"488,-536.5 378,-536.5 378,-468.5 488,-468.5 488,-536.5\"/>\n<text text-anchor=\"middle\" x=\"433\" y=\"-521.3\" font-family=\"Times,serif\" font-size=\"14.00\" fill=\"#000000\">gini = 0.0</text>\n<text text-anchor=\"middle\" x=\"433\" y=\"-506.3\" font-family=\"Times,serif\" font-size=\"14.00\" fill=\"#000000\">samples = 3</text>\n<text text-anchor=\"middle\" x=\"433\" y=\"-491.3\" font-family=\"Times,serif\" font-size=\"14.00\" fill=\"#000000\">value = [0, 3, 0]</text>\n<text text-anchor=\"middle\" x=\"433\" y=\"-476.3\" font-family=\"Times,serif\" font-size=\"14.00\" fill=\"#000000\">class = class_1</text>\n</g>\n<!-- 15&#45;&gt;16 -->\n<g id=\"edge16\" class=\"edge\">\n<title>15&#45;&gt;16</title>\n<path fill=\"none\" stroke=\"#000000\" d=\"M525.3353,-579.8796C511.1642,-568.0038 495.743,-555.0804 481.6342,-543.2568\"/>\n<polygon fill=\"#000000\" stroke=\"#000000\" points=\"483.8598,-540.5554 473.9472,-536.8149 479.3637,-545.9206 483.8598,-540.5554\"/>\n</g>\n<!-- 17 -->\n<g id=\"node18\" class=\"node\">\n<title>17</title>\n<polygon fill=\"#ffffff\" stroke=\"#000000\" points=\"643.5,-544 506.5,-544 506.5,-461 643.5,-461 643.5,-544\"/>\n<text text-anchor=\"middle\" x=\"575\" y=\"-528.8\" font-family=\"Times,serif\" font-size=\"14.00\" fill=\"#000000\">total_phenols &lt;= 2.0</text>\n<text text-anchor=\"middle\" x=\"575\" y=\"-513.8\" font-family=\"Times,serif\" font-size=\"14.00\" fill=\"#000000\">gini = 0.5</text>\n<text text-anchor=\"middle\" x=\"575\" y=\"-498.8\" font-family=\"Times,serif\" font-size=\"14.00\" fill=\"#000000\">samples = 2</text>\n<text text-anchor=\"middle\" x=\"575\" y=\"-483.8\" font-family=\"Times,serif\" font-size=\"14.00\" fill=\"#000000\">value = [1, 0, 1]</text>\n<text text-anchor=\"middle\" x=\"575\" y=\"-468.8\" font-family=\"Times,serif\" font-size=\"14.00\" fill=\"#000000\">class = class_0</text>\n</g>\n<!-- 15&#45;&gt;17 -->\n<g id=\"edge17\" class=\"edge\">\n<title>15&#45;&gt;17</title>\n<path fill=\"none\" stroke=\"#000000\" d=\"M575,-579.8796C575,-571.6838 575,-562.9891 575,-554.5013\"/>\n<polygon fill=\"#000000\" stroke=\"#000000\" points=\"578.5001,-554.298 575,-544.2981 571.5001,-554.2981 578.5001,-554.298\"/>\n</g>\n<!-- 18 -->\n<g id=\"node19\" class=\"node\">\n<title>18</title>\n<polygon fill=\"#8139e5\" stroke=\"#000000\" points=\"502,-417.5 392,-417.5 392,-349.5 502,-349.5 502,-417.5\"/>\n<text text-anchor=\"middle\" x=\"447\" y=\"-402.3\" font-family=\"Times,serif\" font-size=\"14.00\" fill=\"#000000\">gini = 0.0</text>\n<text text-anchor=\"middle\" x=\"447\" y=\"-387.3\" font-family=\"Times,serif\" font-size=\"14.00\" fill=\"#000000\">samples = 1</text>\n<text text-anchor=\"middle\" x=\"447\" y=\"-372.3\" font-family=\"Times,serif\" font-size=\"14.00\" fill=\"#000000\">value = [0, 0, 1]</text>\n<text text-anchor=\"middle\" x=\"447\" y=\"-357.3\" font-family=\"Times,serif\" font-size=\"14.00\" fill=\"#000000\">class = class_2</text>\n</g>\n<!-- 17&#45;&gt;18 -->\n<g id=\"edge18\" class=\"edge\">\n<title>17&#45;&gt;18</title>\n<path fill=\"none\" stroke=\"#000000\" d=\"M530.2318,-460.8796C517.6944,-449.2237 504.0716,-436.5587 491.547,-424.9148\"/>\n<polygon fill=\"#000000\" stroke=\"#000000\" points=\"493.6172,-422.0605 483.9102,-417.8149 488.8509,-427.1872 493.6172,-422.0605\"/>\n</g>\n<!-- 19 -->\n<g id=\"node20\" class=\"node\">\n<title>19</title>\n<polygon fill=\"#e58139\" stroke=\"#000000\" points=\"630,-417.5 520,-417.5 520,-349.5 630,-349.5 630,-417.5\"/>\n<text text-anchor=\"middle\" x=\"575\" y=\"-402.3\" font-family=\"Times,serif\" font-size=\"14.00\" fill=\"#000000\">gini = 0.0</text>\n<text text-anchor=\"middle\" x=\"575\" y=\"-387.3\" font-family=\"Times,serif\" font-size=\"14.00\" fill=\"#000000\">samples = 1</text>\n<text text-anchor=\"middle\" x=\"575\" y=\"-372.3\" font-family=\"Times,serif\" font-size=\"14.00\" fill=\"#000000\">value = [1, 0, 0]</text>\n<text text-anchor=\"middle\" x=\"575\" y=\"-357.3\" font-family=\"Times,serif\" font-size=\"14.00\" fill=\"#000000\">class = class_0</text>\n</g>\n<!-- 17&#45;&gt;19 -->\n<g id=\"edge19\" class=\"edge\">\n<title>17&#45;&gt;19</title>\n<path fill=\"none\" stroke=\"#000000\" d=\"M575,-460.8796C575,-450.2134 575,-438.7021 575,-427.9015\"/>\n<polygon fill=\"#000000\" stroke=\"#000000\" points=\"578.5001,-427.8149 575,-417.8149 571.5001,-427.815 578.5001,-427.8149\"/>\n</g>\n<!-- 21 -->\n<g id=\"node22\" class=\"node\">\n<title>21</title>\n<polygon fill=\"#dbc6f8\" stroke=\"#000000\" points=\"1105,-782 977,-782 977,-699 1105,-699 1105,-782\"/>\n<text text-anchor=\"middle\" x=\"1041\" y=\"-766.8\" font-family=\"Times,serif\" font-size=\"14.00\" fill=\"#000000\">malic_acid &lt;= 2.41</text>\n<text text-anchor=\"middle\" x=\"1041\" y=\"-751.8\" font-family=\"Times,serif\" font-size=\"14.00\" fill=\"#000000\">gini = 0.533</text>\n<text text-anchor=\"middle\" x=\"1041\" y=\"-736.8\" font-family=\"Times,serif\" font-size=\"14.00\" fill=\"#000000\">samples = 57</text>\n<text text-anchor=\"middle\" x=\"1041\" y=\"-721.8\" font-family=\"Times,serif\" font-size=\"14.00\" fill=\"#000000\">value = [22, 3, 32]</text>\n<text text-anchor=\"middle\" x=\"1041\" y=\"-706.8\" font-family=\"Times,serif\" font-size=\"14.00\" fill=\"#000000\">class = class_2</text>\n</g>\n<!-- 20&#45;&gt;21 -->\n<g id=\"edge21\" class=\"edge\">\n<title>20&#45;&gt;21</title>\n<path fill=\"none\" stroke=\"#000000\" d=\"M1041,-817.8796C1041,-809.6838 1041,-800.9891 1041,-792.5013\"/>\n<polygon fill=\"#000000\" stroke=\"#000000\" points=\"1044.5001,-792.298 1041,-782.2981 1037.5001,-792.2981 1044.5001,-792.298\"/>\n</g>\n<!-- 40 -->\n<g id=\"node41\" class=\"node\">\n<title>40</title>\n<polygon fill=\"#e89152\" stroke=\"#000000\" points=\"1501,-782 1365,-782 1365,-699 1501,-699 1501,-782\"/>\n<text text-anchor=\"middle\" x=\"1433\" y=\"-766.8\" font-family=\"Times,serif\" font-size=\"14.00\" fill=\"#000000\">malic_acid &lt;= 2.335</text>\n<text text-anchor=\"middle\" x=\"1433\" y=\"-751.8\" font-family=\"Times,serif\" font-size=\"14.00\" fill=\"#000000\">gini = 0.198</text>\n<text text-anchor=\"middle\" x=\"1433\" y=\"-736.8\" font-family=\"Times,serif\" font-size=\"14.00\" fill=\"#000000\">samples = 36</text>\n<text text-anchor=\"middle\" x=\"1433\" y=\"-721.8\" font-family=\"Times,serif\" font-size=\"14.00\" fill=\"#000000\">value = [32, 0, 4]</text>\n<text text-anchor=\"middle\" x=\"1433\" y=\"-706.8\" font-family=\"Times,serif\" font-size=\"14.00\" fill=\"#000000\">class = class_0</text>\n</g>\n<!-- 20&#45;&gt;40 -->\n<g id=\"edge40\" class=\"edge\">\n<title>20&#45;&gt;40</title>\n<path fill=\"none\" stroke=\"#000000\" d=\"M1103.547,-840.5125C1171.8137,-819.7887 1281.2143,-786.5778 1355.0284,-764.1699\"/>\n<polygon fill=\"#000000\" stroke=\"#000000\" points=\"1356.1965,-767.4732 1364.7486,-761.2192 1354.163,-760.775 1356.1965,-767.4732\"/>\n</g>\n<!-- 22 -->\n<g id=\"node23\" class=\"node\">\n<title>22</title>\n<polygon fill=\"#eead7e\" stroke=\"#000000\" points=\"1051.5,-663 848.5,-663 848.5,-580 1051.5,-580 1051.5,-663\"/>\n<text text-anchor=\"middle\" x=\"950\" y=\"-647.8\" font-family=\"Times,serif\" font-size=\"14.00\" fill=\"#000000\">nonflavanoid_phenols &lt;= 0.355</text>\n<text text-anchor=\"middle\" x=\"950\" y=\"-632.8\" font-family=\"Times,serif\" font-size=\"14.00\" fill=\"#000000\">gini = 0.455</text>\n<text text-anchor=\"middle\" x=\"950\" y=\"-617.8\" font-family=\"Times,serif\" font-size=\"14.00\" fill=\"#000000\">samples = 24</text>\n<text text-anchor=\"middle\" x=\"950\" y=\"-602.8\" font-family=\"Times,serif\" font-size=\"14.00\" fill=\"#000000\">value = [17, 3, 4]</text>\n<text text-anchor=\"middle\" x=\"950\" y=\"-587.8\" font-family=\"Times,serif\" font-size=\"14.00\" fill=\"#000000\">class = class_0</text>\n</g>\n<!-- 21&#45;&gt;22 -->\n<g id=\"edge22\" class=\"edge\">\n<title>21&#45;&gt;22</title>\n<path fill=\"none\" stroke=\"#000000\" d=\"M1009.1726,-698.8796C1002.3543,-689.9633 995.0844,-680.4565 988.0579,-671.268\"/>\n<polygon fill=\"#000000\" stroke=\"#000000\" points=\"990.818,-669.1156 981.9632,-663.2981 985.2575,-673.3678 990.818,-669.1156\"/>\n</g>\n<!-- 37 -->\n<g id=\"node38\" class=\"node\">\n<title>37</title>\n<polygon fill=\"#985cea\" stroke=\"#000000\" points=\"1196,-663 1070,-663 1070,-580 1196,-580 1196,-663\"/>\n<text text-anchor=\"middle\" x=\"1133\" y=\"-647.8\" font-family=\"Times,serif\" font-size=\"14.00\" fill=\"#000000\">flavanoids &lt;= 1.99</text>\n<text text-anchor=\"middle\" x=\"1133\" y=\"-632.8\" font-family=\"Times,serif\" font-size=\"14.00\" fill=\"#000000\">gini = 0.257</text>\n<text text-anchor=\"middle\" x=\"1133\" y=\"-617.8\" font-family=\"Times,serif\" font-size=\"14.00\" fill=\"#000000\">samples = 33</text>\n<text text-anchor=\"middle\" x=\"1133\" y=\"-602.8\" font-family=\"Times,serif\" font-size=\"14.00\" fill=\"#000000\">value = [5, 0, 28]</text>\n<text text-anchor=\"middle\" x=\"1133\" y=\"-587.8\" font-family=\"Times,serif\" font-size=\"14.00\" fill=\"#000000\">class = class_2</text>\n</g>\n<!-- 21&#45;&gt;37 -->\n<g id=\"edge37\" class=\"edge\">\n<title>21&#45;&gt;37</title>\n<path fill=\"none\" stroke=\"#000000\" d=\"M1073.1771,-698.8796C1080.0704,-689.9633 1087.4202,-680.4565 1094.5239,-671.268\"/>\n<polygon fill=\"#000000\" stroke=\"#000000\" points=\"1097.3381,-673.3502 1100.6855,-663.2981 1091.8001,-669.0687 1097.3381,-673.3502\"/>\n</g>\n<!-- 23 -->\n<g id=\"node24\" class=\"node\">\n<title>23</title>\n<polygon fill=\"#ea995e\" stroke=\"#000000\" points=\"877,-544 741,-544 741,-461 877,-461 877,-544\"/>\n<text text-anchor=\"middle\" x=\"809\" y=\"-528.8\" font-family=\"Times,serif\" font-size=\"14.00\" fill=\"#000000\">malic_acid &lt;= 1.475</text>\n<text text-anchor=\"middle\" x=\"809\" y=\"-513.8\" font-family=\"Times,serif\" font-size=\"14.00\" fill=\"#000000\">gini = 0.266</text>\n<text text-anchor=\"middle\" x=\"809\" y=\"-498.8\" font-family=\"Times,serif\" font-size=\"14.00\" fill=\"#000000\">samples = 19</text>\n<text text-anchor=\"middle\" x=\"809\" y=\"-483.8\" font-family=\"Times,serif\" font-size=\"14.00\" fill=\"#000000\">value = [16, 0, 3]</text>\n<text text-anchor=\"middle\" x=\"809\" y=\"-468.8\" font-family=\"Times,serif\" font-size=\"14.00\" fill=\"#000000\">class = class_0</text>\n</g>\n<!-- 22&#45;&gt;23 -->\n<g id=\"edge23\" class=\"edge\">\n<title>22&#45;&gt;23</title>\n<path fill=\"none\" stroke=\"#000000\" d=\"M900.685,-579.8796C889.5868,-570.513 877.7165,-560.4948 866.3223,-550.8784\"/>\n<polygon fill=\"#000000\" stroke=\"#000000\" points=\"868.425,-548.0731 858.5254,-544.2981 863.9101,-553.4225 868.425,-548.0731\"/>\n</g>\n<!-- 32 -->\n<g id=\"node33\" class=\"node\">\n<title>32</title>\n<polygon fill=\"#9cf2c0\" stroke=\"#000000\" points=\"1039,-544 895,-544 895,-461 1039,-461 1039,-544\"/>\n<text text-anchor=\"middle\" x=\"967\" y=\"-528.8\" font-family=\"Times,serif\" font-size=\"14.00\" fill=\"#000000\">total_phenols &lt;= 1.75</text>\n<text text-anchor=\"middle\" x=\"967\" y=\"-513.8\" font-family=\"Times,serif\" font-size=\"14.00\" fill=\"#000000\">gini = 0.56</text>\n<text text-anchor=\"middle\" x=\"967\" y=\"-498.8\" font-family=\"Times,serif\" font-size=\"14.00\" fill=\"#000000\">samples = 5</text>\n<text text-anchor=\"middle\" x=\"967\" y=\"-483.8\" font-family=\"Times,serif\" font-size=\"14.00\" fill=\"#000000\">value = [1, 3, 1]</text>\n<text text-anchor=\"middle\" x=\"967\" y=\"-468.8\" font-family=\"Times,serif\" font-size=\"14.00\" fill=\"#000000\">class = class_1</text>\n</g>\n<!-- 22&#45;&gt;32 -->\n<g id=\"edge32\" class=\"edge\">\n<title>22&#45;&gt;32</title>\n<path fill=\"none\" stroke=\"#000000\" d=\"M955.9458,-579.8796C957.1295,-571.5938 958.386,-562.798 959.6112,-554.2216\"/>\n<polygon fill=\"#000000\" stroke=\"#000000\" points=\"963.0794,-554.6926 961.0288,-544.2981 956.1497,-553.7026 963.0794,-554.6926\"/>\n</g>\n<!-- 24 -->\n<g id=\"node25\" class=\"node\">\n<title>24</title>\n<polygon fill=\"#8139e5\" stroke=\"#000000\" points=\"758,-417.5 648,-417.5 648,-349.5 758,-349.5 758,-417.5\"/>\n<text text-anchor=\"middle\" x=\"703\" y=\"-402.3\" font-family=\"Times,serif\" font-size=\"14.00\" fill=\"#000000\">gini = 0.0</text>\n<text text-anchor=\"middle\" x=\"703\" y=\"-387.3\" font-family=\"Times,serif\" font-size=\"14.00\" fill=\"#000000\">samples = 1</text>\n<text text-anchor=\"middle\" x=\"703\" y=\"-372.3\" font-family=\"Times,serif\" font-size=\"14.00\" fill=\"#000000\">value = [0, 0, 1]</text>\n<text text-anchor=\"middle\" x=\"703\" y=\"-357.3\" font-family=\"Times,serif\" font-size=\"14.00\" fill=\"#000000\">class = class_2</text>\n</g>\n<!-- 23&#45;&gt;24 -->\n<g id=\"edge24\" class=\"edge\">\n<title>23&#45;&gt;24</title>\n<path fill=\"none\" stroke=\"#000000\" d=\"M771.9263,-460.8796C761.7397,-449.4436 750.6878,-437.0363 740.4785,-425.575\"/>\n<polygon fill=\"#000000\" stroke=\"#000000\" points=\"742.8312,-422.9541 733.5662,-417.8149 737.6042,-427.6101 742.8312,-422.9541\"/>\n</g>\n<!-- 25 -->\n<g id=\"node26\" class=\"node\">\n<title>25</title>\n<polygon fill=\"#e89152\" stroke=\"#000000\" points=\"893.5,-425 776.5,-425 776.5,-342 893.5,-342 893.5,-425\"/>\n<text text-anchor=\"middle\" x=\"835\" y=\"-409.8\" font-family=\"Times,serif\" font-size=\"14.00\" fill=\"#000000\">alcohol &lt;= 12.83</text>\n<text text-anchor=\"middle\" x=\"835\" y=\"-394.8\" font-family=\"Times,serif\" font-size=\"14.00\" fill=\"#000000\">gini = 0.198</text>\n<text text-anchor=\"middle\" x=\"835\" y=\"-379.8\" font-family=\"Times,serif\" font-size=\"14.00\" fill=\"#000000\">samples = 18</text>\n<text text-anchor=\"middle\" x=\"835\" y=\"-364.8\" font-family=\"Times,serif\" font-size=\"14.00\" fill=\"#000000\">value = [16, 0, 2]</text>\n<text text-anchor=\"middle\" x=\"835\" y=\"-349.8\" font-family=\"Times,serif\" font-size=\"14.00\" fill=\"#000000\">class = class_0</text>\n</g>\n<!-- 23&#45;&gt;25 -->\n<g id=\"edge25\" class=\"edge\">\n<title>23&#45;&gt;25</title>\n<path fill=\"none\" stroke=\"#000000\" d=\"M818.0935,-460.8796C819.9039,-452.5938 821.8257,-443.798 823.6995,-435.2216\"/>\n<polygon fill=\"#000000\" stroke=\"#000000\" points=\"827.1524,-435.8147 825.8676,-425.2981 820.3137,-434.3205 827.1524,-435.8147\"/>\n</g>\n<!-- 26 -->\n<g id=\"node27\" class=\"node\">\n<title>26</title>\n<polygon fill=\"#8139e5\" stroke=\"#000000\" points=\"786,-298.5 676,-298.5 676,-230.5 786,-230.5 786,-298.5\"/>\n<text text-anchor=\"middle\" x=\"731\" y=\"-283.3\" font-family=\"Times,serif\" font-size=\"14.00\" fill=\"#000000\">gini = 0.0</text>\n<text text-anchor=\"middle\" x=\"731\" y=\"-268.3\" font-family=\"Times,serif\" font-size=\"14.00\" fill=\"#000000\">samples = 1</text>\n<text text-anchor=\"middle\" x=\"731\" y=\"-253.3\" font-family=\"Times,serif\" font-size=\"14.00\" fill=\"#000000\">value = [0, 0, 1]</text>\n<text text-anchor=\"middle\" x=\"731\" y=\"-238.3\" font-family=\"Times,serif\" font-size=\"14.00\" fill=\"#000000\">class = class_2</text>\n</g>\n<!-- 25&#45;&gt;26 -->\n<g id=\"edge26\" class=\"edge\">\n<title>25&#45;&gt;26</title>\n<path fill=\"none\" stroke=\"#000000\" d=\"M798.6258,-341.8796C788.6314,-330.4436 777.788,-318.0363 767.7714,-306.575\"/>\n<polygon fill=\"#000000\" stroke=\"#000000\" points=\"770.2055,-304.0414 760.9895,-298.8149 764.9347,-308.6479 770.2055,-304.0414\"/>\n</g>\n<!-- 27 -->\n<g id=\"node28\" class=\"node\">\n<title>27</title>\n<polygon fill=\"#e78945\" stroke=\"#000000\" points=\"928,-306 804,-306 804,-223 928,-223 928,-306\"/>\n<text text-anchor=\"middle\" x=\"866\" y=\"-290.8\" font-family=\"Times,serif\" font-size=\"14.00\" fill=\"#000000\">alcohol &lt;= 13.135</text>\n<text text-anchor=\"middle\" x=\"866\" y=\"-275.8\" font-family=\"Times,serif\" font-size=\"14.00\" fill=\"#000000\">gini = 0.111</text>\n<text text-anchor=\"middle\" x=\"866\" y=\"-260.8\" font-family=\"Times,serif\" font-size=\"14.00\" fill=\"#000000\">samples = 17</text>\n<text text-anchor=\"middle\" x=\"866\" y=\"-245.8\" font-family=\"Times,serif\" font-size=\"14.00\" fill=\"#000000\">value = [16, 0, 1]</text>\n<text text-anchor=\"middle\" x=\"866\" y=\"-230.8\" font-family=\"Times,serif\" font-size=\"14.00\" fill=\"#000000\">class = class_0</text>\n</g>\n<!-- 25&#45;&gt;27 -->\n<g id=\"edge27\" class=\"edge\">\n<title>25&#45;&gt;27</title>\n<path fill=\"none\" stroke=\"#000000\" d=\"M845.8423,-341.8796C848.0008,-333.5938 850.2921,-324.798 852.5263,-316.2216\"/>\n<polygon fill=\"#000000\" stroke=\"#000000\" points=\"855.9774,-316.8575 855.1114,-306.2981 849.2035,-315.0928 855.9774,-316.8575\"/>\n</g>\n<!-- 28 -->\n<g id=\"node29\" class=\"node\">\n<title>28</title>\n<polygon fill=\"#eca06a\" stroke=\"#000000\" points=\"855,-187 745,-187 745,-104 855,-104 855,-187\"/>\n<text text-anchor=\"middle\" x=\"800\" y=\"-171.8\" font-family=\"Times,serif\" font-size=\"14.00\" fill=\"#000000\">ash &lt;= 2.65</text>\n<text text-anchor=\"middle\" x=\"800\" y=\"-156.8\" font-family=\"Times,serif\" font-size=\"14.00\" fill=\"#000000\">gini = 0.32</text>\n<text text-anchor=\"middle\" x=\"800\" y=\"-141.8\" font-family=\"Times,serif\" font-size=\"14.00\" fill=\"#000000\">samples = 5</text>\n<text text-anchor=\"middle\" x=\"800\" y=\"-126.8\" font-family=\"Times,serif\" font-size=\"14.00\" fill=\"#000000\">value = [4, 0, 1]</text>\n<text text-anchor=\"middle\" x=\"800\" y=\"-111.8\" font-family=\"Times,serif\" font-size=\"14.00\" fill=\"#000000\">class = class_0</text>\n</g>\n<!-- 27&#45;&gt;28 -->\n<g id=\"edge28\" class=\"edge\">\n<title>27&#45;&gt;28</title>\n<path fill=\"none\" stroke=\"#000000\" d=\"M842.9164,-222.8796C838.1211,-214.2335 833.0178,-205.0322 828.0662,-196.1042\"/>\n<polygon fill=\"#000000\" stroke=\"#000000\" points=\"831.0931,-194.3455 823.1821,-187.2981 824.9716,-197.7407 831.0931,-194.3455\"/>\n</g>\n<!-- 31 -->\n<g id=\"node32\" class=\"node\">\n<title>31</title>\n<polygon fill=\"#e58139\" stroke=\"#000000\" points=\"990.5,-179.5 873.5,-179.5 873.5,-111.5 990.5,-111.5 990.5,-179.5\"/>\n<text text-anchor=\"middle\" x=\"932\" y=\"-164.3\" font-family=\"Times,serif\" font-size=\"14.00\" fill=\"#000000\">gini = 0.0</text>\n<text text-anchor=\"middle\" x=\"932\" y=\"-149.3\" font-family=\"Times,serif\" font-size=\"14.00\" fill=\"#000000\">samples = 12</text>\n<text text-anchor=\"middle\" x=\"932\" y=\"-134.3\" font-family=\"Times,serif\" font-size=\"14.00\" fill=\"#000000\">value = [12, 0, 0]</text>\n<text text-anchor=\"middle\" x=\"932\" y=\"-119.3\" font-family=\"Times,serif\" font-size=\"14.00\" fill=\"#000000\">class = class_0</text>\n</g>\n<!-- 27&#45;&gt;31 -->\n<g id=\"edge31\" class=\"edge\">\n<title>27&#45;&gt;31</title>\n<path fill=\"none\" stroke=\"#000000\" d=\"M889.0836,-222.8796C895.2433,-211.7735 901.9111,-199.7513 908.1129,-188.5691\"/>\n<polygon fill=\"#000000\" stroke=\"#000000\" points=\"911.1787,-190.2576 912.9682,-179.8149 905.0572,-186.8624 911.1787,-190.2576\"/>\n</g>\n<!-- 29 -->\n<g id=\"node30\" class=\"node\">\n<title>29</title>\n<polygon fill=\"#e58139\" stroke=\"#000000\" points=\"791,-68 681,-68 681,0 791,0 791,-68\"/>\n<text text-anchor=\"middle\" x=\"736\" y=\"-52.8\" font-family=\"Times,serif\" font-size=\"14.00\" fill=\"#000000\">gini = 0.0</text>\n<text text-anchor=\"middle\" x=\"736\" y=\"-37.8\" font-family=\"Times,serif\" font-size=\"14.00\" fill=\"#000000\">samples = 4</text>\n<text text-anchor=\"middle\" x=\"736\" y=\"-22.8\" font-family=\"Times,serif\" font-size=\"14.00\" fill=\"#000000\">value = [4, 0, 0]</text>\n<text text-anchor=\"middle\" x=\"736\" y=\"-7.8\" font-family=\"Times,serif\" font-size=\"14.00\" fill=\"#000000\">class = class_0</text>\n</g>\n<!-- 28&#45;&gt;29 -->\n<g id=\"edge29\" class=\"edge\">\n<title>28&#45;&gt;29</title>\n<path fill=\"none\" stroke=\"#000000\" d=\"M776.1688,-103.9815C771.1044,-95.1585 765.7475,-85.8258 760.6532,-76.9506\"/>\n<polygon fill=\"#000000\" stroke=\"#000000\" points=\"763.6807,-75.1942 755.667,-68.2637 757.6097,-78.6789 763.6807,-75.1942\"/>\n</g>\n<!-- 30 -->\n<g id=\"node31\" class=\"node\">\n<title>30</title>\n<polygon fill=\"#8139e5\" stroke=\"#000000\" points=\"919,-68 809,-68 809,0 919,0 919,-68\"/>\n<text text-anchor=\"middle\" x=\"864\" y=\"-52.8\" font-family=\"Times,serif\" font-size=\"14.00\" fill=\"#000000\">gini = 0.0</text>\n<text text-anchor=\"middle\" x=\"864\" y=\"-37.8\" font-family=\"Times,serif\" font-size=\"14.00\" fill=\"#000000\">samples = 1</text>\n<text text-anchor=\"middle\" x=\"864\" y=\"-22.8\" font-family=\"Times,serif\" font-size=\"14.00\" fill=\"#000000\">value = [0, 0, 1]</text>\n<text text-anchor=\"middle\" x=\"864\" y=\"-7.8\" font-family=\"Times,serif\" font-size=\"14.00\" fill=\"#000000\">class = class_2</text>\n</g>\n<!-- 28&#45;&gt;30 -->\n<g id=\"edge30\" class=\"edge\">\n<title>28&#45;&gt;30</title>\n<path fill=\"none\" stroke=\"#000000\" d=\"M823.8312,-103.9815C828.8956,-95.1585 834.2525,-85.8258 839.3468,-76.9506\"/>\n<polygon fill=\"#000000\" stroke=\"#000000\" points=\"842.3903,-78.6789 844.333,-68.2637 836.3193,-75.1942 842.3903,-78.6789\"/>\n</g>\n<!-- 33 -->\n<g id=\"node34\" class=\"node\">\n<title>33</title>\n<polygon fill=\"#8139e5\" stroke=\"#000000\" points=\"1022,-417.5 912,-417.5 912,-349.5 1022,-349.5 1022,-417.5\"/>\n<text text-anchor=\"middle\" x=\"967\" y=\"-402.3\" font-family=\"Times,serif\" font-size=\"14.00\" fill=\"#000000\">gini = 0.0</text>\n<text text-anchor=\"middle\" x=\"967\" y=\"-387.3\" font-family=\"Times,serif\" font-size=\"14.00\" fill=\"#000000\">samples = 1</text>\n<text text-anchor=\"middle\" x=\"967\" y=\"-372.3\" font-family=\"Times,serif\" font-size=\"14.00\" fill=\"#000000\">value = [0, 0, 1]</text>\n<text text-anchor=\"middle\" x=\"967\" y=\"-357.3\" font-family=\"Times,serif\" font-size=\"14.00\" fill=\"#000000\">class = class_2</text>\n</g>\n<!-- 32&#45;&gt;33 -->\n<g id=\"edge33\" class=\"edge\">\n<title>32&#45;&gt;33</title>\n<path fill=\"none\" stroke=\"#000000\" d=\"M967,-460.8796C967,-450.2134 967,-438.7021 967,-427.9015\"/>\n<polygon fill=\"#000000\" stroke=\"#000000\" points=\"970.5001,-427.8149 967,-417.8149 963.5001,-427.815 970.5001,-427.8149\"/>\n</g>\n<!-- 34 -->\n<g id=\"node35\" class=\"node\">\n<title>34</title>\n<polygon fill=\"#7beeab\" stroke=\"#000000\" points=\"1150,-425 1040,-425 1040,-342 1150,-342 1150,-425\"/>\n<text text-anchor=\"middle\" x=\"1095\" y=\"-409.8\" font-family=\"Times,serif\" font-size=\"14.00\" fill=\"#000000\">hue &lt;= 1.21</text>\n<text text-anchor=\"middle\" x=\"1095\" y=\"-394.8\" font-family=\"Times,serif\" font-size=\"14.00\" fill=\"#000000\">gini = 0.375</text>\n<text text-anchor=\"middle\" x=\"1095\" y=\"-379.8\" font-family=\"Times,serif\" font-size=\"14.00\" fill=\"#000000\">samples = 4</text>\n<text text-anchor=\"middle\" x=\"1095\" y=\"-364.8\" font-family=\"Times,serif\" font-size=\"14.00\" fill=\"#000000\">value = [1, 3, 0]</text>\n<text text-anchor=\"middle\" x=\"1095\" y=\"-349.8\" font-family=\"Times,serif\" font-size=\"14.00\" fill=\"#000000\">class = class_1</text>\n</g>\n<!-- 32&#45;&gt;34 -->\n<g id=\"edge34\" class=\"edge\">\n<title>32&#45;&gt;34</title>\n<path fill=\"none\" stroke=\"#000000\" d=\"M1011.7682,-460.8796C1021.7463,-451.6031 1032.4119,-441.6874 1042.6642,-432.1559\"/>\n<polygon fill=\"#000000\" stroke=\"#000000\" points=\"1045.1,-434.6704 1050.0407,-425.2981 1040.3337,-429.5436 1045.1,-434.6704\"/>\n</g>\n<!-- 35 -->\n<g id=\"node36\" class=\"node\">\n<title>35</title>\n<polygon fill=\"#39e581\" stroke=\"#000000\" points=\"1118,-298.5 1008,-298.5 1008,-230.5 1118,-230.5 1118,-298.5\"/>\n<text text-anchor=\"middle\" x=\"1063\" y=\"-283.3\" font-family=\"Times,serif\" font-size=\"14.00\" fill=\"#000000\">gini = 0.0</text>\n<text text-anchor=\"middle\" x=\"1063\" y=\"-268.3\" font-family=\"Times,serif\" font-size=\"14.00\" fill=\"#000000\">samples = 3</text>\n<text text-anchor=\"middle\" x=\"1063\" y=\"-253.3\" font-family=\"Times,serif\" font-size=\"14.00\" fill=\"#000000\">value = [0, 3, 0]</text>\n<text text-anchor=\"middle\" x=\"1063\" y=\"-238.3\" font-family=\"Times,serif\" font-size=\"14.00\" fill=\"#000000\">class = class_1</text>\n</g>\n<!-- 34&#45;&gt;35 -->\n<g id=\"edge35\" class=\"edge\">\n<title>34&#45;&gt;35</title>\n<path fill=\"none\" stroke=\"#000000\" d=\"M1083.808,-341.8796C1080.9102,-331.1034 1077.7804,-319.4647 1074.8501,-308.5677\"/>\n<polygon fill=\"#000000\" stroke=\"#000000\" points=\"1078.2044,-307.563 1072.2275,-298.8149 1071.4445,-309.3808 1078.2044,-307.563\"/>\n</g>\n<!-- 36 -->\n<g id=\"node37\" class=\"node\">\n<title>36</title>\n<polygon fill=\"#e58139\" stroke=\"#000000\" points=\"1246,-298.5 1136,-298.5 1136,-230.5 1246,-230.5 1246,-298.5\"/>\n<text text-anchor=\"middle\" x=\"1191\" y=\"-283.3\" font-family=\"Times,serif\" font-size=\"14.00\" fill=\"#000000\">gini = 0.0</text>\n<text text-anchor=\"middle\" x=\"1191\" y=\"-268.3\" font-family=\"Times,serif\" font-size=\"14.00\" fill=\"#000000\">samples = 1</text>\n<text text-anchor=\"middle\" x=\"1191\" y=\"-253.3\" font-family=\"Times,serif\" font-size=\"14.00\" fill=\"#000000\">value = [1, 0, 0]</text>\n<text text-anchor=\"middle\" x=\"1191\" y=\"-238.3\" font-family=\"Times,serif\" font-size=\"14.00\" fill=\"#000000\">class = class_0</text>\n</g>\n<!-- 34&#45;&gt;36 -->\n<g id=\"edge36\" class=\"edge\">\n<title>34&#45;&gt;36</title>\n<path fill=\"none\" stroke=\"#000000\" d=\"M1128.5761,-341.8796C1137.7131,-330.5536 1147.6187,-318.2748 1156.7902,-306.9058\"/>\n<polygon fill=\"#000000\" stroke=\"#000000\" points=\"1159.7626,-308.7957 1163.3174,-298.8149 1154.3144,-304.4005 1159.7626,-308.7957\"/>\n</g>\n<!-- 38 -->\n<g id=\"node39\" class=\"node\">\n<title>38</title>\n<polygon fill=\"#8139e5\" stroke=\"#000000\" points=\"1174.5,-536.5 1057.5,-536.5 1057.5,-468.5 1174.5,-468.5 1174.5,-536.5\"/>\n<text text-anchor=\"middle\" x=\"1116\" y=\"-521.3\" font-family=\"Times,serif\" font-size=\"14.00\" fill=\"#000000\">gini = 0.0</text>\n<text text-anchor=\"middle\" x=\"1116\" y=\"-506.3\" font-family=\"Times,serif\" font-size=\"14.00\" fill=\"#000000\">samples = 28</text>\n<text text-anchor=\"middle\" x=\"1116\" y=\"-491.3\" font-family=\"Times,serif\" font-size=\"14.00\" fill=\"#000000\">value = [0, 0, 28]</text>\n<text text-anchor=\"middle\" x=\"1116\" y=\"-476.3\" font-family=\"Times,serif\" font-size=\"14.00\" fill=\"#000000\">class = class_2</text>\n</g>\n<!-- 37&#45;&gt;38 -->\n<g id=\"edge38\" class=\"edge\">\n<title>37&#45;&gt;38</title>\n<path fill=\"none\" stroke=\"#000000\" d=\"M1127.0542,-579.8796C1125.5305,-569.2134 1123.886,-557.7021 1122.3431,-546.9015\"/>\n<polygon fill=\"#000000\" stroke=\"#000000\" points=\"1125.7813,-546.2194 1120.9021,-536.8149 1118.8516,-547.2094 1125.7813,-546.2194\"/>\n</g>\n<!-- 39 -->\n<g id=\"node40\" class=\"node\">\n<title>39</title>\n<polygon fill=\"#e58139\" stroke=\"#000000\" points=\"1303,-536.5 1193,-536.5 1193,-468.5 1303,-468.5 1303,-536.5\"/>\n<text text-anchor=\"middle\" x=\"1248\" y=\"-521.3\" font-family=\"Times,serif\" font-size=\"14.00\" fill=\"#000000\">gini = 0.0</text>\n<text text-anchor=\"middle\" x=\"1248\" y=\"-506.3\" font-family=\"Times,serif\" font-size=\"14.00\" fill=\"#000000\">samples = 5</text>\n<text text-anchor=\"middle\" x=\"1248\" y=\"-491.3\" font-family=\"Times,serif\" font-size=\"14.00\" fill=\"#000000\">value = [5, 0, 0]</text>\n<text text-anchor=\"middle\" x=\"1248\" y=\"-476.3\" font-family=\"Times,serif\" font-size=\"14.00\" fill=\"#000000\">class = class_0</text>\n</g>\n<!-- 37&#45;&gt;39 -->\n<g id=\"edge39\" class=\"edge\">\n<title>37&#45;&gt;39</title>\n<path fill=\"none\" stroke=\"#000000\" d=\"M1173.2214,-579.8796C1184.3792,-568.3337 1196.4939,-555.7976 1207.6586,-544.2446\"/>\n<polygon fill=\"#000000\" stroke=\"#000000\" points=\"1210.4061,-546.4381 1214.8385,-536.8149 1205.3725,-541.5736 1210.4061,-546.4381\"/>\n</g>\n<!-- 41 -->\n<g id=\"node42\" class=\"node\">\n<title>41</title>\n<polygon fill=\"#e68540\" stroke=\"#000000\" points=\"1491.5,-663 1374.5,-663 1374.5,-580 1491.5,-580 1491.5,-663\"/>\n<text text-anchor=\"middle\" x=\"1433\" y=\"-647.8\" font-family=\"Times,serif\" font-size=\"14.00\" fill=\"#000000\">proline &lt;= 720.0</text>\n<text text-anchor=\"middle\" x=\"1433\" y=\"-632.8\" font-family=\"Times,serif\" font-size=\"14.00\" fill=\"#000000\">gini = 0.064</text>\n<text text-anchor=\"middle\" x=\"1433\" y=\"-617.8\" font-family=\"Times,serif\" font-size=\"14.00\" fill=\"#000000\">samples = 30</text>\n<text text-anchor=\"middle\" x=\"1433\" y=\"-602.8\" font-family=\"Times,serif\" font-size=\"14.00\" fill=\"#000000\">value = [29, 0, 1]</text>\n<text text-anchor=\"middle\" x=\"1433\" y=\"-587.8\" font-family=\"Times,serif\" font-size=\"14.00\" fill=\"#000000\">class = class_0</text>\n</g>\n<!-- 40&#45;&gt;41 -->\n<g id=\"edge41\" class=\"edge\">\n<title>40&#45;&gt;41</title>\n<path fill=\"none\" stroke=\"#000000\" d=\"M1433,-698.8796C1433,-690.6838 1433,-681.9891 1433,-673.5013\"/>\n<polygon fill=\"#000000\" stroke=\"#000000\" points=\"1436.5001,-673.298 1433,-663.2981 1429.5001,-673.2981 1436.5001,-673.298\"/>\n</g>\n<!-- 44 -->\n<g id=\"node45\" class=\"node\">\n<title>44</title>\n<polygon fill=\"#ffffff\" stroke=\"#000000\" points=\"1712,-663 1568,-663 1568,-580 1712,-580 1712,-663\"/>\n<text text-anchor=\"middle\" x=\"1640\" y=\"-647.8\" font-family=\"Times,serif\" font-size=\"14.00\" fill=\"#000000\">total_phenols &lt;= 2.45</text>\n<text text-anchor=\"middle\" x=\"1640\" y=\"-632.8\" font-family=\"Times,serif\" font-size=\"14.00\" fill=\"#000000\">gini = 0.5</text>\n<text text-anchor=\"middle\" x=\"1640\" y=\"-617.8\" font-family=\"Times,serif\" font-size=\"14.00\" fill=\"#000000\">samples = 6</text>\n<text text-anchor=\"middle\" x=\"1640\" y=\"-602.8\" font-family=\"Times,serif\" font-size=\"14.00\" fill=\"#000000\">value = [3, 0, 3]</text>\n<text text-anchor=\"middle\" x=\"1640\" y=\"-587.8\" font-family=\"Times,serif\" font-size=\"14.00\" fill=\"#000000\">class = class_0</text>\n</g>\n<!-- 40&#45;&gt;44 -->\n<g id=\"edge44\" class=\"edge\">\n<title>40&#45;&gt;44</title>\n<path fill=\"none\" stroke=\"#000000\" d=\"M1501.0662,-701.3701C1519.6642,-690.6785 1539.9982,-678.989 1559.2306,-667.9327\"/>\n<polygon fill=\"#000000\" stroke=\"#000000\" points=\"1561.0543,-670.9215 1567.9794,-662.9032 1557.5655,-664.8528 1561.0543,-670.9215\"/>\n</g>\n<!-- 42 -->\n<g id=\"node43\" class=\"node\">\n<title>42</title>\n<polygon fill=\"#8139e5\" stroke=\"#000000\" points=\"1431,-536.5 1321,-536.5 1321,-468.5 1431,-468.5 1431,-536.5\"/>\n<text text-anchor=\"middle\" x=\"1376\" y=\"-521.3\" font-family=\"Times,serif\" font-size=\"14.00\" fill=\"#000000\">gini = 0.0</text>\n<text text-anchor=\"middle\" x=\"1376\" y=\"-506.3\" font-family=\"Times,serif\" font-size=\"14.00\" fill=\"#000000\">samples = 1</text>\n<text text-anchor=\"middle\" x=\"1376\" y=\"-491.3\" font-family=\"Times,serif\" font-size=\"14.00\" fill=\"#000000\">value = [0, 0, 1]</text>\n<text text-anchor=\"middle\" x=\"1376\" y=\"-476.3\" font-family=\"Times,serif\" font-size=\"14.00\" fill=\"#000000\">class = class_2</text>\n</g>\n<!-- 41&#45;&gt;42 -->\n<g id=\"edge42\" class=\"edge\">\n<title>41&#45;&gt;42</title>\n<path fill=\"none\" stroke=\"#000000\" d=\"M1413.0642,-579.8796C1407.7971,-568.8835 1402.0999,-556.9893 1396.789,-545.9015\"/>\n<polygon fill=\"#000000\" stroke=\"#000000\" points=\"1399.9131,-544.3217 1392.4366,-536.8149 1393.6,-547.3457 1399.9131,-544.3217\"/>\n</g>\n<!-- 43 -->\n<g id=\"node44\" class=\"node\">\n<title>43</title>\n<polygon fill=\"#e58139\" stroke=\"#000000\" points=\"1566.5,-536.5 1449.5,-536.5 1449.5,-468.5 1566.5,-468.5 1566.5,-536.5\"/>\n<text text-anchor=\"middle\" x=\"1508\" y=\"-521.3\" font-family=\"Times,serif\" font-size=\"14.00\" fill=\"#000000\">gini = 0.0</text>\n<text text-anchor=\"middle\" x=\"1508\" y=\"-506.3\" font-family=\"Times,serif\" font-size=\"14.00\" fill=\"#000000\">samples = 29</text>\n<text text-anchor=\"middle\" x=\"1508\" y=\"-491.3\" font-family=\"Times,serif\" font-size=\"14.00\" fill=\"#000000\">value = [29, 0, 0]</text>\n<text text-anchor=\"middle\" x=\"1508\" y=\"-476.3\" font-family=\"Times,serif\" font-size=\"14.00\" fill=\"#000000\">class = class_0</text>\n</g>\n<!-- 41&#45;&gt;43 -->\n<g id=\"edge43\" class=\"edge\">\n<title>41&#45;&gt;43</title>\n<path fill=\"none\" stroke=\"#000000\" d=\"M1459.2314,-579.8796C1466.231,-568.7735 1473.808,-556.7513 1480.8556,-545.5691\"/>\n<polygon fill=\"#000000\" stroke=\"#000000\" points=\"1484.002,-547.1411 1486.3729,-536.8149 1478.08,-543.4087 1484.002,-547.1411\"/>\n</g>\n<!-- 45 -->\n<g id=\"node46\" class=\"node\">\n<title>45</title>\n<polygon fill=\"#8139e5\" stroke=\"#000000\" points=\"1695,-536.5 1585,-536.5 1585,-468.5 1695,-468.5 1695,-536.5\"/>\n<text text-anchor=\"middle\" x=\"1640\" y=\"-521.3\" font-family=\"Times,serif\" font-size=\"14.00\" fill=\"#000000\">gini = 0.0</text>\n<text text-anchor=\"middle\" x=\"1640\" y=\"-506.3\" font-family=\"Times,serif\" font-size=\"14.00\" fill=\"#000000\">samples = 3</text>\n<text text-anchor=\"middle\" x=\"1640\" y=\"-491.3\" font-family=\"Times,serif\" font-size=\"14.00\" fill=\"#000000\">value = [0, 0, 3]</text>\n<text text-anchor=\"middle\" x=\"1640\" y=\"-476.3\" font-family=\"Times,serif\" font-size=\"14.00\" fill=\"#000000\">class = class_2</text>\n</g>\n<!-- 44&#45;&gt;45 -->\n<g id=\"edge45\" class=\"edge\">\n<title>44&#45;&gt;45</title>\n<path fill=\"none\" stroke=\"#000000\" d=\"M1640,-579.8796C1640,-569.2134 1640,-557.7021 1640,-546.9015\"/>\n<polygon fill=\"#000000\" stroke=\"#000000\" points=\"1643.5001,-546.8149 1640,-536.8149 1636.5001,-546.815 1643.5001,-546.8149\"/>\n</g>\n<!-- 46 -->\n<g id=\"node47\" class=\"node\">\n<title>46</title>\n<polygon fill=\"#e58139\" stroke=\"#000000\" points=\"1823,-536.5 1713,-536.5 1713,-468.5 1823,-468.5 1823,-536.5\"/>\n<text text-anchor=\"middle\" x=\"1768\" y=\"-521.3\" font-family=\"Times,serif\" font-size=\"14.00\" fill=\"#000000\">gini = 0.0</text>\n<text text-anchor=\"middle\" x=\"1768\" y=\"-506.3\" font-family=\"Times,serif\" font-size=\"14.00\" fill=\"#000000\">samples = 3</text>\n<text text-anchor=\"middle\" x=\"1768\" y=\"-491.3\" font-family=\"Times,serif\" font-size=\"14.00\" fill=\"#000000\">value = [3, 0, 0]</text>\n<text text-anchor=\"middle\" x=\"1768\" y=\"-476.3\" font-family=\"Times,serif\" font-size=\"14.00\" fill=\"#000000\">class = class_0</text>\n</g>\n<!-- 44&#45;&gt;46 -->\n<g id=\"edge46\" class=\"edge\">\n<title>44&#45;&gt;46</title>\n<path fill=\"none\" stroke=\"#000000\" d=\"M1684.7682,-579.8796C1697.3056,-568.2237 1710.9284,-555.5587 1723.453,-543.9148\"/>\n<polygon fill=\"#000000\" stroke=\"#000000\" points=\"1726.1491,-546.1872 1731.0898,-536.8149 1721.3828,-541.0605 1726.1491,-546.1872\"/>\n</g>\n</g>\n</svg>\n"
          },
          "metadata": {
            "tags": []
          },
          "execution_count": 20
        }
      ]
    },
    {
      "cell_type": "markdown",
      "metadata": {
        "id": "XLY2b9Zj4I_R"
      },
      "source": [
        "Модель работает точнее, чем без настройки гиперпараметров, но по графу можно увидеть, что глубина дерева увеличилась, при этом в нескольких листах присутствует только по одному объекту, из-за чего на тестовом наборе данных дерево могло несколько потерять обобщающую способность."
      ]
    },
    {
      "cell_type": "markdown",
      "metadata": {
        "id": "Sn5AqeBa4I_S"
      },
      "source": [
        "Так как главная задача модели - способность обобщаться на новые данные, то для подбора оптимальных гиперпараметров надо пожертвовать небольшой порцией данных, чтобы на ней во время обучения проверять качество модели.\n",
        "\n",
        "Часто для этого используют кросс-валидацию: модель обучается K раз на (K-1) подвыборках исходной выборки, а на одной подвыборке проверяется (каждый раз на разной). Получаются K оценок качества модели, которые обычно усредняются, давая среднюю оценку.\n",
        "\n",
        "Кросс-валидация применяется для подбора гиперпараметров модели в методе GridSearchCV(): для каждой уникальной совокупности значений параметров проводится кросс-валидация и выбирается лучшее сочетание параметров."
      ]
    },
    {
      "cell_type": "markdown",
      "metadata": {
        "id": "B44jm6in4I_T"
      },
      "source": [
        "### 6.\n",
        "Используя обученное в предыдущем задании дерево решений, настройте параметры max_depth и max_features на 5-кратной валидации с помощью GridSearchCV. Для этого в функцию GridSearchCV передайте параметры (tree, tree_params, cv=5).\n",
        "\n",
        "*Примечание: tree здесь - не обученная модель, а объект, который инкапсулирует алгоритм. Например, в уроке мы его обозначали как dtc.*"
      ]
    },
    {
      "cell_type": "code",
      "metadata": {
        "id": "UeNf1bED4I_U"
      },
      "source": [
        "from sklearn.model_selection import GridSearchCV, cross_val_score"
      ],
      "execution_count": null,
      "outputs": []
    },
    {
      "cell_type": "code",
      "metadata": {
        "id": "ZsXG1rh64I_X"
      },
      "source": [
        "tree_params = {'max_depth': range(1, 6), \n",
        "               'max_features': range(1, 10)}\n",
        "\n",
        "tree_grid = GridSearchCV(dtc, param_grid=tree_params, cv=5)"
      ],
      "execution_count": null,
      "outputs": []
    },
    {
      "cell_type": "markdown",
      "metadata": {
        "id": "tRPqIdCD4I_a"
      },
      "source": [
        "### 7.\n",
        "С помощью метода tree_grid.fit() постройте модель на тренировочных данных и выведите лучшее сочетание параметров с помощью метода tree_grid.best_params_."
      ]
    },
    {
      "cell_type": "code",
      "metadata": {
        "id": "JHVTQPfV4I_a"
      },
      "source": [
        "### YOUR CODE HERE ###"
      ],
      "execution_count": null,
      "outputs": []
    },
    {
      "cell_type": "code",
      "metadata": {
        "id": "ZEBn10GyI0GW"
      },
      "source": [
        "x_train, x_test, y_train, y_test = train_test_split(wine_dataset.data, wine_dataset.target,\n",
        "                                        random_state=17)\n",
        "model = tree_grid.fit(x_train, y_train)"
      ],
      "execution_count": null,
      "outputs": []
    },
    {
      "cell_type": "markdown",
      "metadata": {
        "id": "p5s_eukw4I_c"
      },
      "source": [
        "### 8.\n",
        "С помощью полученной модели сделайте прогноз - predict - для тестовой выборки и выведите долю верных ответов, проверив точность модели, используя функцию accuracy_score."
      ]
    },
    {
      "cell_type": "code",
      "metadata": {
        "id": "_n05UvV54I_d"
      },
      "source": [
        "from sklearn.metrics import accuracy_score"
      ],
      "execution_count": null,
      "outputs": []
    },
    {
      "cell_type": "code",
      "metadata": {
        "id": "9N55pj4y4I_g",
        "colab": {
          "base_uri": "https://localhost:8080/"
        },
        "outputId": "0811c936-d73b-4d1f-c3e7-89551724e68e"
      },
      "source": [
        "predicted = model.predict(x_test)\n",
        "# predicted.shape\n",
        "accuracy = accuracy_score(y_test, predicted)\n",
        "accuracy"
      ],
      "execution_count": null,
      "outputs": [
        {
          "output_type": "execute_result",
          "data": {
            "text/plain": [
              "0.9555555555555556"
            ]
          },
          "metadata": {
            "tags": []
          },
          "execution_count": 40
        }
      ]
    },
    {
      "cell_type": "code",
      "metadata": {
        "id": "KCyHmHJ6JcPO"
      },
      "source": [
        ""
      ],
      "execution_count": null,
      "outputs": []
    }
  ]
}