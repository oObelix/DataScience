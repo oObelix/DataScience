{
  "nbformat": 4,
  "nbformat_minor": 0,
  "metadata": {
    "colab": {
      "name": "Simple 2-L Neural Network.ipynb",
      "provenance": [],
      "collapsed_sections": [],
      "authorship_tag": "ABX9TyP6GHb3a2HxSuiaQjYORnaq",
      "include_colab_link": true
    },
    "kernelspec": {
      "name": "python3",
      "display_name": "Python 3"
    },
    "language_info": {
      "name": "python"
    }
  },
  "cells": [
    {
      "cell_type": "markdown",
      "metadata": {
        "id": "view-in-github",
        "colab_type": "text"
      },
      "source": [
        "<a href=\"https://colab.research.google.com/github/oObelix/DataScience/blob/master/Simple_2_L_Neural_Network.ipynb\" target=\"_parent\"><img src=\"https://colab.research.google.com/assets/colab-badge.svg\" alt=\"Open In Colab\"/></a>"
      ]
    },
    {
      "cell_type": "code",
      "metadata": {
        "id": "jhm9OQRyixz9"
      },
      "source": [
        "# Simple custom 1 layer Neural Network"
      ],
      "execution_count": 1,
      "outputs": []
    },
    {
      "cell_type": "code",
      "metadata": {
        "id": "KSbAFa-6jKBz"
      },
      "source": [
        "import numpy as np"
      ],
      "execution_count": 3,
      "outputs": []
    },
    {
      "cell_type": "code",
      "metadata": {
        "id": "bSWQo-dOjKKJ"
      },
      "source": [
        "features = np.array([[1, 0, 1],\n",
        "                     [0, 1, 1],\n",
        "                     [0, 0, 1],\n",
        "                     [1, 1, 1],\n",
        "                     [0, 1, 1],\n",
        "                     [1, 0, 1]])\n",
        "values = np.array([0, 1, 0, 1, 1, 0])"
      ],
      "execution_count": 7,
      "outputs": []
    },
    {
      "cell_type": "code",
      "metadata": {
        "colab": {
          "base_uri": "https://localhost:8080/"
        },
        "id": "1g7b0qMEjYnq",
        "outputId": "b2038c62-81e6-464e-8ddf-3b1ba8143443"
      },
      "source": [
        "# weights = np.array([0.5, 0.48, -0.7])\n",
        "# weights = np.array([0.0, 0.0, 0.0])\n",
        "weights = np.array([0.5, 1.0, -0.5])\n",
        "alpha = 0.1\n",
        "\n",
        "for iteration in range(15):\n",
        "    for row_index in range(len(values)):\n",
        "        input = features[row_index]\n",
        "        goal_prediction = values[row_index]\n",
        "        \n",
        "        prediction = input.dot(weights)\n",
        "        \n",
        "        error = (goal_prediction - prediction) ** 2\n",
        "        \n",
        "        delta = prediction - goal_prediction\n",
        "        weights_delta = alpha * input * delta\n",
        "        \n",
        "        print(\"input:\", input, \"w:\", [round(w, 2) for w in weights], \n",
        "              \"w_d:\", [round(w, 2) for w in weights_delta], \"goal:\", goal_prediction, \n",
        "              \"pred:\", round(prediction, 3), \"delta:\", round(delta, 2), \"err:\", round(error, 4))\n",
        "        \n",
        "        weights -= weights_delta\n",
        "\n",
        "#         print(\"New weight:\", weights)\n",
        "\n",
        "    print()\n",
        "\n"
      ],
      "execution_count": 5,
      "outputs": [
        {
          "output_type": "stream",
          "text": [
            "input: [1 0 1] w: [0.5, 1.0, -0.5] w_d: [0.0, 0.0, 0.0] goal: 0 pred: 0.0 delta: 0.0 err: 0.0\n",
            "input: [0 1 1] w: [0.5, 1.0, -0.5] w_d: [-0.0, -0.05, -0.05] goal: 1 pred: 0.5 delta: -0.5 err: 0.25\n",
            "input: [0 0 1] w: [0.5, 1.05, -0.45] w_d: [-0.0, -0.0, -0.05] goal: 0 pred: -0.45 delta: -0.45 err: 0.2025\n",
            "input: [1 1 1] w: [0.5, 1.05, -0.4] w_d: [0.01, 0.01, 0.01] goal: 1 pred: 1.145 delta: 0.15 err: 0.021\n",
            "input: [0 1 1] w: [0.49, 1.04, -0.42] w_d: [-0.0, -0.04, -0.04] goal: 1 pred: 0.616 delta: -0.38 err: 0.1475\n",
            "input: [1 0 1] w: [0.49, 1.07, -0.38] w_d: [0.01, 0.0, 0.01] goal: 0 pred: 0.104 delta: 0.1 err: 0.0109\n",
            "\n",
            "input: [1 0 1] w: [0.48, 1.07, -0.39] w_d: [0.01, 0.0, 0.01] goal: 0 pred: 0.084 delta: 0.08 err: 0.007\n",
            "input: [0 1 1] w: [0.47, 1.07, -0.4] w_d: [-0.0, -0.03, -0.03] goal: 1 pred: 0.674 delta: -0.33 err: 0.1063\n",
            "input: [0 0 1] w: [0.47, 1.11, -0.37] w_d: [-0.0, -0.0, -0.04] goal: 0 pred: -0.367 delta: -0.37 err: 0.1349\n",
            "input: [1 1 1] w: [0.47, 1.11, -0.33] w_d: [0.02, 0.02, 0.02] goal: 1 pred: 1.243 delta: 0.24 err: 0.0589\n",
            "input: [0 1 1] w: [0.44, 1.08, -0.35] w_d: [-0.0, -0.03, -0.03] goal: 1 pred: 0.727 delta: -0.27 err: 0.0743\n",
            "input: [1 0 1] w: [0.44, 1.11, -0.33] w_d: [0.01, 0.0, 0.01] goal: 0 pred: 0.115 delta: 0.11 err: 0.0132\n",
            "\n",
            "input: [1 0 1] w: [0.43, 1.11, -0.34] w_d: [0.01, 0.0, 0.01] goal: 0 pred: 0.092 delta: 0.09 err: 0.0084\n",
            "input: [0 1 1] w: [0.42, 1.11, -0.35] w_d: [-0.0, -0.02, -0.02] goal: 1 pred: 0.761 delta: -0.24 err: 0.057\n",
            "input: [0 0 1] w: [0.42, 1.13, -0.32] w_d: [-0.0, -0.0, -0.03] goal: 0 pred: -0.324 delta: -0.32 err: 0.1052\n",
            "input: [1 1 1] w: [0.42, 1.13, -0.29] w_d: [0.03, 0.03, 0.03] goal: 1 pred: 1.263 delta: 0.26 err: 0.0693\n",
            "input: [0 1 1] w: [0.4, 1.11, -0.32] w_d: [-0.0, -0.02, -0.02] goal: 1 pred: 0.789 delta: -0.21 err: 0.0446\n",
            "input: [1 0 1] w: [0.4, 1.13, -0.3] w_d: [0.01, 0.0, 0.01] goal: 0 pred: 0.098 delta: 0.1 err: 0.0097\n",
            "\n",
            "input: [1 0 1] w: [0.39, 1.13, -0.31] w_d: [0.01, 0.0, 0.01] goal: 0 pred: 0.079 delta: 0.08 err: 0.0062\n",
            "input: [0 1 1] w: [0.38, 1.13, -0.31] w_d: [-0.0, -0.02, -0.02] goal: 1 pred: 0.813 delta: -0.19 err: 0.0348\n",
            "input: [0 0 1] w: [0.38, 1.15, -0.3] w_d: [-0.0, -0.0, -0.03] goal: 0 pred: -0.296 delta: -0.3 err: 0.0877\n",
            "input: [1 1 1] w: [0.38, 1.15, -0.27] w_d: [0.03, 0.03, 0.03] goal: 1 pred: 1.258 delta: 0.26 err: 0.0666\n",
            "input: [0 1 1] w: [0.35, 1.12, -0.29] w_d: [-0.0, -0.02, -0.02] goal: 1 pred: 0.829 delta: -0.17 err: 0.0294\n",
            "input: [1 0 1] w: [0.35, 1.14, -0.28] w_d: [0.01, 0.0, 0.01] goal: 0 pred: 0.077 delta: 0.08 err: 0.0059\n",
            "\n",
            "input: [1 0 1] w: [0.34, 1.14, -0.28] w_d: [0.01, 0.0, 0.01] goal: 0 pred: 0.061 delta: 0.06 err: 0.0038\n",
            "input: [0 1 1] w: [0.34, 1.14, -0.29] w_d: [-0.0, -0.02, -0.02] goal: 1 pred: 0.849 delta: -0.15 err: 0.0228\n",
            "input: [0 0 1] w: [0.34, 1.15, -0.27] w_d: [-0.0, -0.0, -0.03] goal: 0 pred: -0.274 delta: -0.27 err: 0.075\n",
            "input: [1 1 1] w: [0.34, 1.15, -0.25] w_d: [0.02, 0.02, 0.02] goal: 1 pred: 1.245 delta: 0.24 err: 0.0599\n",
            "input: [0 1 1] w: [0.31, 1.13, -0.27] w_d: [-0.0, -0.01, -0.01] goal: 1 pred: 0.858 delta: -0.14 err: 0.0202\n",
            "input: [1 0 1] w: [0.31, 1.14, -0.26] w_d: [0.01, 0.0, 0.01] goal: 0 pred: 0.057 delta: 0.06 err: 0.0032\n",
            "\n",
            "input: [1 0 1] w: [0.31, 1.14, -0.26] w_d: [0.0, 0.0, 0.0] goal: 0 pred: 0.045 delta: 0.05 err: 0.0021\n",
            "input: [0 1 1] w: [0.3, 1.14, -0.27] w_d: [-0.0, -0.01, -0.01] goal: 1 pred: 0.876 delta: -0.12 err: 0.0154\n",
            "input: [0 0 1] w: [0.3, 1.16, -0.25] w_d: [-0.0, -0.0, -0.03] goal: 0 pred: -0.255 delta: -0.25 err: 0.0648\n",
            "input: [1 1 1] w: [0.3, 1.16, -0.23] w_d: [0.02, 0.02, 0.02] goal: 1 pred: 1.23 delta: 0.23 err: 0.0527\n",
            "input: [0 1 1] w: [0.28, 1.13, -0.25] w_d: [-0.0, -0.01, -0.01] goal: 1 pred: 0.88 delta: -0.12 err: 0.0143\n",
            "input: [1 0 1] w: [0.28, 1.14, -0.24] w_d: [0.0, 0.0, 0.0] goal: 0 pred: 0.04 delta: 0.04 err: 0.0016\n",
            "\n",
            "input: [1 0 1] w: [0.28, 1.14, -0.24] w_d: [0.0, 0.0, 0.0] goal: 0 pred: 0.032 delta: 0.03 err: 0.001\n",
            "input: [0 1 1] w: [0.27, 1.14, -0.25] w_d: [-0.0, -0.01, -0.01] goal: 1 pred: 0.897 delta: -0.1 err: 0.0106\n",
            "input: [0 0 1] w: [0.27, 1.15, -0.24] w_d: [-0.0, -0.0, -0.02] goal: 0 pred: -0.237 delta: -0.24 err: 0.0562\n",
            "input: [1 1 1] w: [0.27, 1.15, -0.21] w_d: [0.02, 0.02, 0.02] goal: 1 pred: 1.215 delta: 0.21 err: 0.046\n",
            "input: [0 1 1] w: [0.25, 1.13, -0.23] w_d: [-0.0, -0.01, -0.01] goal: 1 pred: 0.898 delta: -0.1 err: 0.0103\n",
            "input: [1 0 1] w: [0.25, 1.14, -0.22] w_d: [0.0, 0.0, 0.0] goal: 0 pred: 0.027 delta: 0.03 err: 0.0007\n",
            "\n",
            "input: [1 0 1] w: [0.25, 1.14, -0.23] w_d: [0.0, 0.0, 0.0] goal: 0 pred: 0.022 delta: 0.02 err: 0.0005\n",
            "input: [0 1 1] w: [0.25, 1.14, -0.23] w_d: [-0.0, -0.01, -0.01] goal: 1 pred: 0.914 delta: -0.09 err: 0.0074\n",
            "input: [0 0 1] w: [0.25, 1.15, -0.22] w_d: [-0.0, -0.0, -0.02] goal: 0 pred: -0.221 delta: -0.22 err: 0.0488\n",
            "input: [1 1 1] w: [0.25, 1.15, -0.2] w_d: [0.02, 0.02, 0.02] goal: 1 pred: 1.2 delta: 0.2 err: 0.04\n",
            "input: [0 1 1] w: [0.23, 1.13, -0.22] w_d: [-0.0, -0.01, -0.01] goal: 1 pred: 0.913 delta: -0.09 err: 0.0075\n",
            "input: [1 0 1] w: [0.23, 1.14, -0.21] w_d: [0.0, 0.0, 0.0] goal: 0 pred: 0.017 delta: 0.02 err: 0.0003\n",
            "\n",
            "input: [1 0 1] w: [0.23, 1.14, -0.21] w_d: [0.0, 0.0, 0.0] goal: 0 pred: 0.013 delta: 0.01 err: 0.0002\n",
            "input: [0 1 1] w: [0.22, 1.14, -0.21] w_d: [-0.0, -0.01, -0.01] goal: 1 pred: 0.928 delta: -0.07 err: 0.0053\n",
            "input: [0 0 1] w: [0.22, 1.15, -0.21] w_d: [-0.0, -0.0, -0.02] goal: 0 pred: -0.206 delta: -0.21 err: 0.0424\n",
            "input: [1 1 1] w: [0.22, 1.15, -0.19] w_d: [0.02, 0.02, 0.02] goal: 1 pred: 1.186 delta: 0.19 err: 0.0348\n",
            "input: [0 1 1] w: [0.21, 1.13, -0.2] w_d: [-0.0, -0.01, -0.01] goal: 1 pred: 0.925 delta: -0.07 err: 0.0056\n",
            "input: [1 0 1] w: [0.21, 1.14, -0.2] w_d: [0.0, 0.0, 0.0] goal: 0 pred: 0.009 delta: 0.01 err: 0.0001\n",
            "\n",
            "input: [1 0 1] w: [0.2, 1.14, -0.2] w_d: [0.0, 0.0, 0.0] goal: 0 pred: 0.007 delta: 0.01 err: 0.0\n",
            "input: [0 1 1] w: [0.2, 1.14, -0.2] w_d: [-0.0, -0.01, -0.01] goal: 1 pred: 0.939 delta: -0.06 err: 0.0038\n",
            "input: [0 0 1] w: [0.2, 1.14, -0.19] w_d: [-0.0, -0.0, -0.02] goal: 0 pred: -0.192 delta: -0.19 err: 0.0368\n",
            "input: [1 1 1] w: [0.2, 1.14, -0.17] w_d: [0.02, 0.02, 0.02] goal: 1 pred: 1.174 delta: 0.17 err: 0.0302\n",
            "input: [0 1 1] w: [0.19, 1.13, -0.19] w_d: [-0.0, -0.01, -0.01] goal: 1 pred: 0.935 delta: -0.06 err: 0.0042\n",
            "input: [1 0 1] w: [0.19, 1.13, -0.18] w_d: [0.0, 0.0, 0.0] goal: 0 pred: 0.003 delta: 0.0 err: 0.0\n",
            "\n",
            "input: [1 0 1] w: [0.19, 1.13, -0.18] w_d: [0.0, 0.0, 0.0] goal: 0 pred: 0.002 delta: 0.0 err: 0.0\n",
            "input: [0 1 1] w: [0.19, 1.13, -0.18] w_d: [-0.0, -0.01, -0.01] goal: 1 pred: 0.948 delta: -0.05 err: 0.0027\n",
            "input: [0 0 1] w: [0.19, 1.14, -0.18] w_d: [-0.0, -0.0, -0.02] goal: 0 pred: -0.179 delta: -0.18 err: 0.032\n",
            "input: [1 1 1] w: [0.19, 1.14, -0.16] w_d: [0.02, 0.02, 0.02] goal: 1 pred: 1.162 delta: 0.16 err: 0.0262\n",
            "input: [0 1 1] w: [0.17, 1.12, -0.18] w_d: [-0.0, -0.01, -0.01] goal: 1 pred: 0.944 delta: -0.06 err: 0.0032\n",
            "input: [1 0 1] w: [0.17, 1.13, -0.17] w_d: [-0.0, -0.0, -0.0] goal: 0 pred: -0.002 delta: -0.0 err: 0.0\n",
            "\n",
            "input: [1 0 1] w: [0.17, 1.13, -0.17] w_d: [-0.0, -0.0, -0.0] goal: 0 pred: -0.002 delta: -0.0 err: 0.0\n",
            "input: [0 1 1] w: [0.17, 1.13, -0.17] w_d: [-0.0, -0.0, -0.0] goal: 1 pred: 0.955 delta: -0.04 err: 0.002\n",
            "input: [0 0 1] w: [0.17, 1.13, -0.17] w_d: [-0.0, -0.0, -0.02] goal: 0 pred: -0.167 delta: -0.17 err: 0.0278\n",
            "input: [1 1 1] w: [0.17, 1.13, -0.15] w_d: [0.02, 0.02, 0.02] goal: 1 pred: 1.151 delta: 0.15 err: 0.0228\n",
            "input: [0 1 1] w: [0.15, 1.12, -0.17] w_d: [-0.0, -0.0, -0.0] goal: 1 pred: 0.951 delta: -0.05 err: 0.0024\n",
            "input: [1 0 1] w: [0.15, 1.12, -0.16] w_d: [-0.0, -0.0, -0.0] goal: 0 pred: -0.005 delta: -0.01 err: 0.0\n",
            "\n",
            "input: [1 0 1] w: [0.16, 1.12, -0.16] w_d: [-0.0, -0.0, -0.0] goal: 0 pred: -0.004 delta: -0.0 err: 0.0\n",
            "input: [0 1 1] w: [0.16, 1.12, -0.16] w_d: [-0.0, -0.0, -0.0] goal: 1 pred: 0.962 delta: -0.04 err: 0.0015\n",
            "input: [0 0 1] w: [0.16, 1.12, -0.16] w_d: [-0.0, -0.0, -0.02] goal: 0 pred: -0.155 delta: -0.16 err: 0.0242\n",
            "input: [1 1 1] w: [0.16, 1.12, -0.14] w_d: [0.01, 0.01, 0.01] goal: 1 pred: 1.141 delta: 0.14 err: 0.0198\n",
            "input: [0 1 1] w: [0.14, 1.11, -0.15] w_d: [-0.0, -0.0, -0.0] goal: 1 pred: 0.957 delta: -0.04 err: 0.0019\n",
            "input: [1 0 1] w: [0.14, 1.12, -0.15] w_d: [-0.0, -0.0, -0.0] goal: 0 pred: -0.008 delta: -0.01 err: 0.0001\n",
            "\n",
            "input: [1 0 1] w: [0.14, 1.12, -0.15] w_d: [-0.0, -0.0, -0.0] goal: 0 pred: -0.006 delta: -0.01 err: 0.0\n",
            "input: [0 1 1] w: [0.14, 1.12, -0.15] w_d: [-0.0, -0.0, -0.0] goal: 1 pred: 0.967 delta: -0.03 err: 0.0011\n",
            "input: [0 0 1] w: [0.14, 1.12, -0.14] w_d: [-0.0, -0.0, -0.01] goal: 0 pred: -0.145 delta: -0.14 err: 0.021\n",
            "input: [1 1 1] w: [0.14, 1.12, -0.13] w_d: [0.01, 0.01, 0.01] goal: 1 pred: 1.131 delta: 0.13 err: 0.0172\n",
            "input: [0 1 1] w: [0.13, 1.11, -0.14] w_d: [-0.0, -0.0, -0.0] goal: 1 pred: 0.962 delta: -0.04 err: 0.0015\n",
            "input: [1 0 1] w: [0.13, 1.11, -0.14] w_d: [-0.0, -0.0, -0.0] goal: 0 pred: -0.01 delta: -0.01 err: 0.0001\n",
            "\n",
            "input: [1 0 1] w: [0.13, 1.11, -0.14] w_d: [-0.0, -0.0, -0.0] goal: 0 pred: -0.008 delta: -0.01 err: 0.0001\n",
            "input: [0 1 1] w: [0.13, 1.11, -0.14] w_d: [-0.0, -0.0, -0.0] goal: 1 pred: 0.971 delta: -0.03 err: 0.0008\n",
            "input: [0 0 1] w: [0.13, 1.11, -0.14] w_d: [-0.0, -0.0, -0.01] goal: 0 pred: -0.135 delta: -0.14 err: 0.0182\n",
            "input: [1 1 1] w: [0.13, 1.11, -0.12] w_d: [0.01, 0.01, 0.01] goal: 1 pred: 1.122 delta: 0.12 err: 0.0149\n",
            "input: [0 1 1] w: [0.12, 1.1, -0.13] w_d: [-0.0, -0.0, -0.0] goal: 1 pred: 0.966 delta: -0.03 err: 0.0012\n",
            "input: [1 0 1] w: [0.12, 1.1, -0.13] w_d: [-0.0, -0.0, -0.0] goal: 0 pred: -0.011 delta: -0.01 err: 0.0001\n",
            "\n"
          ],
          "name": "stdout"
        }
      ]
    },
    {
      "cell_type": "code",
      "metadata": {
        "id": "_TBQvk7tjYjg"
      },
      "source": [
        ""
      ],
      "execution_count": null,
      "outputs": []
    },
    {
      "cell_type": "code",
      "metadata": {
        "id": "z60WLikrjYgy"
      },
      "source": [
        ""
      ],
      "execution_count": null,
      "outputs": []
    },
    {
      "cell_type": "code",
      "metadata": {
        "id": "raT3aSN2jYWu"
      },
      "source": [
        ""
      ],
      "execution_count": null,
      "outputs": []
    }
  ]
}